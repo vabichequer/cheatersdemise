{
 "cells": [
  {
   "cell_type": "code",
   "execution_count": 1,
   "metadata": {},
   "outputs": [],
   "source": [
    "%load_ext autoreload\n",
    "%autoreload 2\n",
    "%matplotlib inline\n",
    "\n",
    "import sys\n",
    "sys.path.insert(0,'./lib/')\n",
    "sys.path.append('./PIPElib/')\n",
    "\n",
    "from PIPEProcessing import *\n",
    "from PIPETransitions import *\n",
    "from PIPEGFeatures import *\n",
    "from PIPEAux import *\n",
    "from PIPETarget import *"
   ]
  },
  {
   "cell_type": "code",
   "execution_count": 2,
   "metadata": {
    "collapsed": true
   },
   "outputs": [],
   "source": [
    "# Ficheros\n",
    "folder = './Edicion2/'\n",
    "dataFilename = folder+'eventos_final_ed2.json'\n",
    "dictFilename = folder+'dateDictEd2.json'\n",
    "assignationProblemCheckFile = folder+'IDNaturalProblemasEd1.csv'"
   ]
  },
  {
   "cell_type": "code",
   "execution_count": null,
   "metadata": {
    "collapsed": true
   },
   "outputs": [],
   "source": [
    "dateDict = loadDateDict(dictFilename)\n",
    "del dateDict['Week7']"
   ]
  },
  {
   "cell_type": "markdown",
   "metadata": {},
   "source": [
    "### Carga y filtrado de datos"
   ]
  },
  {
   "cell_type": "code",
   "execution_count": null,
   "metadata": {},
   "outputs": [
    {
     "name": "stdout",
     "output_type": "stream",
     "text": [
      "Loaded users: 6818\n",
      " - Time: 3.68 [s]\n",
      "Users after filtering: 2647\n",
      " - Time: 0.00 [s]\n"
     ]
    }
   ],
   "source": [
    "eventsDF, eventsWeek = Preprocessing(dataFilename, minTotalUserEvents = 50, dateDict = dateDict)"
   ]
  },
  {
   "cell_type": "markdown",
   "metadata": {},
   "source": [
    "### Extracción de características generales"
   ]
  },
  {
   "cell_type": "code",
   "execution_count": null,
   "metadata": {},
   "outputs": [],
   "source": [
    "featWeek, featGlobal = GeneralFeatures(eventsDF, eventsWeek, assignationProblemCheckFile)"
   ]
  },
  {
   "cell_type": "markdown",
   "metadata": {},
   "source": [
    "### Extracción de Transiciones"
   ]
  },
  {
   "cell_type": "code",
   "execution_count": null,
   "metadata": {},
   "outputs": [],
   "source": [
    "# Transiciones x semana\n",
    "dicEvents = {\n",
    "    'V' : ['play_video', 'seek_video'],\n",
    "    'N' : ['problem_check'],\n",
    "    'F' : ['edx.forum.searched', 'edx.forum.comment.created', \n",
    "           'edx.forum.response.created', 'edx.forum.thread.created'],\n",
    "    'P' : ['openassessmentblock.self_assess'],\n",
    "    'D' : ['textbook.pdf.chapter.navigated']\n",
    "}\n",
    "\n",
    "param = {'dicEvents': dicEvents,\n",
    "         'assignationProblemCheckFile': assignationProblemCheckFile,\n",
    "         'ProblemCheckExceptions': ['J','X'],\n",
    "         'pausaMin' : 0,\n",
    "         'useFreq': True,\n",
    "         'deleteZeroTrans': False}\n",
    "\n",
    "transitions = TransitionFeatures(eventsWeek, param)"
   ]
  },
  {
   "cell_type": "code",
   "execution_count": null,
   "metadata": {
    "collapsed": true
   },
   "outputs": [],
   "source": []
  },
  {
   "cell_type": "markdown",
   "metadata": {},
   "source": [
    "**AQUI VAN LAS CARACTAERISTICAS DE LOS PROBLEMAS DEL TFG DE MIGUEL**"
   ]
  },
  {
   "cell_type": "markdown",
   "metadata": {},
   "source": [
    "**En primer lugar hay que recorrer el dataframe inicial con todos los problemas para ver cada problema cuantos ejercicios tiene, lo incluiremos en un diccionario.** \n",
    "\n",
    "**ATENCIÓN ESTO YA NO HACE FALTA HACERLO YA QUE LO CARGAMOS DE UN FICHERO CON EL ID DEL PROBLEMA Y SU NUMERO DE EJERCICIOS!!!!!\n",
    "**"
   ]
  },
  {
   "cell_type": "code",
   "execution_count": null,
   "metadata": {
    "collapsed": true
   },
   "outputs": [],
   "source": [
    "def countNumberSubProblems(assignationProblemCheckFile):\n",
    "    \n",
    "    import pandas as pd\n",
    "    assignationProblemCheck = pd.read_csv(assignationProblemCheckFile)\n",
    "    \n",
    "    dicSubProb = dict(assignationProblemCheck.id_natural.value_counts())\n",
    "    \n",
    "    assignationProblemCheck = assignationProblemCheck.reset_index().drop_duplicates(subset=\n",
    "                                            'id_natural', keep='last').set_index('id_natural')\n",
    "    for key in dicSubProb:\n",
    "        dicSubProb[key] = [dicSubProb[key], assignationProblemCheck.loc[key,\"semana\"]]\n",
    "    return dicSubProb\n"
   ]
  },
  {
   "cell_type": "code",
   "execution_count": null,
   "metadata": {
    "collapsed": true
   },
   "outputs": [],
   "source": [
    "dicSubProb = countNumberSubProblems(assignationProblemCheckFile)\n",
    "week = \"Week1\""
   ]
  },
  {
   "cell_type": "code",
   "execution_count": null,
   "metadata": {
    "collapsed": true
   },
   "outputs": [],
   "source": [
    "problemList = [ str(key)+\"_\"+str(nsp+1) if dicSubProb[key][0] > 1 else str(key) for key in sorted(dicSubProb) \n",
    "        if dicSubProb[key][1] <= week for nsp in range(dicSubProb[key][0])]\n",
    "\n",
    "columnNames = [\"ProbStatus_\"+prob if flag == 0 else \"AtteptsProb_\"+prob for prob in problemList for flag in range(2)]"
   ]
  },
  {
   "cell_type": "code",
   "execution_count": null,
   "metadata": {
    "collapsed": true
   },
   "outputs": [],
   "source": [
    "columValues = [-1 if \"ProbStatus\" in x else 0 for x in columnNames]"
   ]
  },
  {
   "cell_type": "code",
   "execution_count": null,
   "metadata": {
    "collapsed": true
   },
   "outputs": [],
   "source": []
  },
  {
   "cell_type": "code",
   "execution_count": null,
   "metadata": {},
   "outputs": [],
   "source": [
    "problemDF"
   ]
  },
  {
   "cell_type": "code",
   "execution_count": null,
   "metadata": {
    "collapsed": true
   },
   "outputs": [],
   "source": [
    "problemsWeek = {}\n",
    "problemsWeek[week] = applyByUser(eventsWeek[week], function = filterListByEvents, eventsFiltering = listEvents)\n",
    "to_week = 1"
   ]
  },
  {
   "cell_type": "code",
   "execution_count": null,
   "metadata": {
    "collapsed": true
   },
   "outputs": [],
   "source": [
    "def getProblemFeats(listEvents, dicSubProb, to_week):\n",
    "    import pandas as pd\n",
    "    \n",
    "\n",
    "    \n",
    "    if listEvents == []:\n",
    "        return pd.DataFrame()\n",
    "    \n",
    "    problemList = [key for key in sorted(dicSubProb) if dicSubProb[key][1] <= to_week]\n",
    "\n",
    "    resultados = pd.DataFrame(listEvents)[['id_natural','resultados','num_intentos']]\n",
    "    resultados.id_natural = resultados.id_natural.apply(lambda x: int(x))\n",
    "    resultados.num_intentos = resultados.num_intentos.apply(lambda x: int(x))\n",
    "    resultados = resultados[:][(resultados.id_natural.isin(problemList))]\n",
    "    resultados = resultados.drop_duplicates(subset='id_natural', keep = 'last')\n",
    "    resultados = resultados.sort_values('id_natural').set_index('id_natural')\n",
    "    \n",
    "    natt = dict(resultados['num_intentos'].transpose())\n",
    "\n",
    "    stat = [(str(x)+\"_\"+str(nsp+1), resultados.loc[x,'resultados'][nsp]['correcto']) \n",
    "            if len(resultados.loc[x,'resultados']) > 1 else (str(x), \n",
    "                resultados.loc[x,'resultados'][nsp]['correcto']) \n",
    "                for x in resultados.index for nsp in range(len(resultados.loc[x,'resultados']))]\n",
    "    valstat = [1 if x[1] == 'True' else 0 for x in stat]\n",
    "    namestat = [x[0] for x in stat]\n",
    "\n",
    "    STAT = pd.DataFrame(valstat,namestat).transpose()\n",
    "    STAT.columns = [\"ProbStatus_\"+str(x) for x in STAT.columns]\n",
    "\n",
    "    NATT = pd.DataFrame.from_dict(natt,orient='index').transpose()\n",
    "    NATT.columns = [\"AtteptsProb_\"+str(x) for x in NATT.columns]\n",
    "\n",
    "    returnDF = pd.concat([STAT,NATT], axis = 1)\n",
    "    \n",
    "    return returnDF"
   ]
  },
  {
   "cell_type": "code",
   "execution_count": null,
   "metadata": {
    "collapsed": true
   },
   "outputs": [],
   "source": [
    "listEvents = problemsWeek[week].loc[4,\"Eventos\"]"
   ]
  },
  {
   "cell_type": "code",
   "execution_count": null,
   "metadata": {},
   "outputs": [],
   "source": [
    "problemsWeek = {}\n",
    "problemsWeek[week] = applyByUser(eventsWeek[week].head(20), function = filterListByEvents, eventsFiltering = listEvents)\n",
    "to_week = 1\n",
    "ret = applyByUser(problemsWeek[week], function = getProblemFeats, dicSubProb = dicSubProb, to_week = to_week)"
   ]
  },
  {
   "cell_type": "code",
   "execution_count": null,
   "metadata": {
    "collapsed": true
   },
   "outputs": [],
   "source": []
  },
  {
   "cell_type": "code",
   "execution_count": null,
   "metadata": {},
   "outputs": [],
   "source": [
    "resultados = pd.DataFrame(problemsWeek[week].loc[4,\"Eventos\"])[['id_natural','resultados','num_intentos']]\n",
    "for x in resultados.index:\n",
    "    for y in resultados.loc[x,\"resultados\"]:\n",
    "        print(resultados.loc[x,'id_natural'],resultados.loc[x,'num_intentos'], y)"
   ]
  },
  {
   "cell_type": "code",
   "execution_count": null,
   "metadata": {
    "collapsed": true
   },
   "outputs": [],
   "source": []
  },
  {
   "cell_type": "markdown",
   "metadata": {},
   "source": [
    "#### Cargamos de un fichero el id del problema y el numero de ejercicios en un diccionario"
   ]
  },
  {
   "cell_type": "code",
   "execution_count": null,
   "metadata": {
    "collapsed": true
   },
   "outputs": [],
   "source": [
    "import json\n",
    "\n",
    "#with open('dictNumEj.json', 'w') as fp: #Para guardar el dict de numero\n",
    "       #json.dump(dictNumEj, fp)\n",
    "    \n",
    "#tenemos que tener en cuenta que en la segunda edicion del curso de android tenemos menos problemas tenemos que pasarle el diccionario de la edicion1\n",
    "#con los numEjercicios.\n",
    "\n",
    "with open('dictNumEj.json') as data_file:\n",
    "     dictNumEj = json.load(data_file)\n",
    "        \n",
    "dictNumEj = {int(k):int(v) for k,v in dictNumEj.items()}\n",
    "dictNumEj"
   ]
  },
  {
   "cell_type": "markdown",
   "metadata": {
    "collapsed": true
   },
   "source": [
    "**Funciones auxiliares que necesitamos para las características de los problemas**"
   ]
  },
  {
   "cell_type": "code",
   "execution_count": null,
   "metadata": {
    "collapsed": true
   },
   "outputs": [],
   "source": [
    "#Transforma un diccionario pasado por argumento en un dataframe de una sola fila para unirlo a otro\n",
    "def dictToDataframe(dictToDf):\n",
    "   \n",
    "    \n",
    "    return pd.DataFrame(dictToDf,index=[0,])\n",
    "\n",
    "#Crea un diccionario con numero de intentos a 0 y resultado del problema a -1\n",
    "def createDictByNameProblems(dfProblems):\n",
    "    \n",
    "    dictNamePro = {}\n",
    "    listColumnName = dfProblems.columns\n",
    "    \n",
    "    for name in listColumnName:\n",
    "        \n",
    "        if name.find(\"Intentos\"):\n",
    "            dictNamePro[name] = -1\n",
    "        else:\n",
    "            dictNamePro[name] = 0 \n",
    "    return dictNamePro\n",
    "\n",
    "#Crea un dataframe vacio pero con el nombre de las columnas entre el problema inicial y el final\n",
    "def createDataframeProblems(problemIni,problemFin):\n",
    "    listProblems = []\n",
    "\n",
    "    for numPr in range(problemIni-1,int(problemFin)):\n",
    "\n",
    "        for numEj in range(dictNumEj[numPr+1]):\n",
    "            stringIntentos = \"Intentos_\"+str(numPr+1)+\"_\"+str(numEj+1)\n",
    "            stringPr = \"Problema_\"+str(numPr+1)+\"_\"+str(numEj+1)\n",
    "            listProblems.append(stringIntentos)\n",
    "            listProblems.append(stringPr)\n",
    "\n",
    "    listProblems.insert(0,\"Usuario\")\n",
    "\n",
    "    dfProblems = pd.DataFrame(columns=listProblems)\n",
    "    return dfProblems"
   ]
  },
  {
   "cell_type": "markdown",
   "metadata": {},
   "source": [
    "**Funciones de las características de los problemas**"
   ]
  },
  {
   "cell_type": "code",
   "execution_count": null,
   "metadata": {
    "collapsed": true
   },
   "outputs": [],
   "source": [
    "def countCorrectProblemsByList(listResProblem,dictNamePro):\n",
    "    \n",
    "   \n",
    "    #A veces la lista resultado puede venir vacia por error de edX por lo tanto salimos de la función\n",
    "    if listResProblem[\"resultados\"] == []:\n",
    "        return \n",
    "    \n",
    "    #AQUI HAY QUE RECORRER LOS RESULTADOS MODIFICANDO EL DICCIONARIO\n",
    "    intento = 1\n",
    "    for resultado in listResProblem[\"resultados\"]:\n",
    "        dictNamePro[\"Intentos_\"+listResProblem[\"id_natural\"]+\"_\"+str(intento)]= listResProblem[\"def countCorrectProblemsByList(listResProblem,dictNamePro):\n",
    "    \n",
    "   \n",
    "    #A veces la lista resultado puede venir vacia por error de edX por lo tanto salimos de la función\n",
    "    if listResProblem[\"resultados\"] == []:\n",
    "        return \n",
    "    \n",
    "    #AQUI HAY QUE RECORRER LOS RESULTADOS MODIFICANDO EL DICCIONARIO\n",
    "    intento = 1\n",
    "    for resultado in listResProblem[\"resultados\"]:\n",
    "        dictNamePro[\"Intentos_\"+listResProblem[\"id_natural\"]+\"_\"+str(intento)]= listResProblem[\"num_intentos\"]\n",
    "        \n",
    "        if resultado[\"correcto\"] == \"True\":\n",
    "            dictNamePro[\"Problema_\"+listResProblem[\"id_natural\"]+\"_\"+str(intento)]= 1\n",
    "        else:\n",
    "            dictNamePro[\"Problema_\"+listResProblem[\"id_natural\"]+\"_\"+str(intento)]= 0\n",
    "\n",
    "        intento = intento+1\n",
    "        \n",
    "    \n",
    "    return dictNamePro\n",
    "    \"]\n",
    "        \n",
    "        if resultado[\"correcto\"] == \"True\":\n",
    "            dictNamePro[\"Problema_\"+listResProblem[\"id_natural\"]+\"_\"+str(intento)]= 1\n",
    "        else:\n",
    "            dictNamePro[\"Problema_\"+listResProblem[\"id_natural\"]+\"_\"+str(intento)]= 0\n",
    "\n",
    "        intento = intento+1\n",
    "        \n",
    "    \n",
    "    return dictNamePro\n",
    "    \n",
    "    \n",
    "    \n",
    "def problemsFeaturesByList(row,dictName):\n",
    "    \n",
    "    global dfPro_Empty\n",
    "    \n",
    "   \n",
    "    user =  row[\"Usuario\"]\n",
    "    \n",
    "    dictNamePro = dictName.copy()\n",
    "    dictNamePro[\"Usuario\"]=user\n",
    "    \n",
    "    #Si tenemos lista de eventos vacia no ha hecho problemas asique incluimos 0 y -1 altenativamente\n",
    "    if row[\"Eventos\"]==[]:\n",
    "        rowDf = dictToDataframe(dictNamePro)\n",
    "        dfPro_Empty = dfPro_Empty.append(rowDf)\n",
    "        return\n",
    "         \n",
    "    \n",
    "    df = pd.DataFrame(row[\"Eventos\"])\n",
    "    df.apply(lambda x: countCorrectProblemsByList(x,dictNamePro),axis=1)\n",
    "    \n",
    "    rowDf = dictToDataframe(dictNamePro)\n",
    "    dfPro_Empty = dfPro_Empty.append(rowDf)\n",
    "    \n",
    "    return\n",
    "\n",
    "def problemsFeatures(eventsDF,dictName):\n",
    "    \n",
    "    \n",
    "    eventsDFFiltered = eventsDF.copy()\n",
    "    \n",
    "    eventsDF.apply(lambda row: problemsFeaturesByList(row,dictName),axis=1)\n",
    "    \n",
    "    \n",
    "    return dfPro_Empty"
   ]
  },
  {
   "cell_type": "code",
   "execution_count": null,
   "metadata": {
    "collapsed": true
   },
   "outputs": [],
   "source": []
  },
  {
   "cell_type": "markdown",
   "metadata": {},
   "source": [
    "#### ESTAS SI SON LAS CARACTERÍSTICAS DEL TFM DE MIGUEL YA QUE SE TIENEN EN CUENTA TODOS LOS PROBLEMAS INDEPENDIENTEMEN DE LA SEMANA A LA QUE PERTENECE EL PROBLEMA"
   ]
  },
  {
   "cell_type": "code",
   "execution_count": null,
   "metadata": {
    "collapsed": true
   },
   "outputs": [],
   "source": [
    "##ESTO ES PARA LOS PROBLEMAS NO ACUMULADOS ES DECIR LOS QUE HA HECHO ESA SEMANA INDEPENDIENTEMENTE DE LA SEMANA A LA QUE\n",
    "## PERTENEZCA EL PROBELMA\n",
    "\n",
    "\n",
    "\n",
    "listEvents = [\"problem_check\"]\n",
    "\n",
    "df_Problems= {} #Angel: AUX\n",
    "df_PrNoAc={} #Final\n",
    "problemsByWeek=[0,47,79,91,109,133,138] #numero del ultimo problema de esa semana\n",
    "indexList = 0\n",
    "\n",
    "for week in sorted(eventsWeek):\n",
    "   \n",
    "    #Filtrar eventos por semana\n",
    "    df_Problems[week] = eventsFiltering(eventsWeek[week], listEvents)\n",
    "    \n",
    "    #Crear dataframe vacio con lista de atributos de los problemas, num_intentos,y resultado del problema\n",
    "    dfPro_Empty = createDataframeProblems(1,problemsByWeek[indexList+1])\n",
    "    \n",
    "    #indice para recorrer la lista anterior con el numero del ultimo problema por semana\n",
    "    indexList = indexList+1\n",
    "    \n",
    "    #Nos guardamos el orden de las columnas para ordenar el dataframe despues\n",
    "    colsOrder = dfPro_Empty.columns\n",
    "    \n",
    "    #Crear diccionario con nombre de las columnas, 0 en numero de intentos y -1 en si es correcto para cada problema\n",
    "    dictName = createDictByNameProblems(dfPro_Empty)\n",
    "    \n",
    "    #Extraemos las caracteristicas de los problemas que se guardan en dfPro_Empty como variable global\n",
    "    problemsFeatures(df_Problems[week],dictName)\n",
    "    \n",
    "    #Resetamos el indice y ordenamos las columnas\n",
    "    dfPro_Empty = dfPro_Empty.reset_index(drop=True)\n",
    "    dfPro_Empty = dfPro_Empty[colsOrder]\n",
    "    \n",
    "    #Copiamos el dfPro_Empty al dataframe Final de los problemas\n",
    "    df_PrNoAc[week]=dfPro_Empty.copy()\n",
    "    df_PrNoAc[week] = df_PrNoAc[week].set_index('Usuario')\n",
    "\n",
    "   \n",
    "    \n",
    "df_PrNoAc"
   ]
  },
  {
   "cell_type": "code",
   "execution_count": null,
   "metadata": {
    "collapsed": true
   },
   "outputs": [],
   "source": []
  },
  {
   "cell_type": "code",
   "execution_count": null,
   "metadata": {
    "collapsed": true
   },
   "outputs": [],
   "source": []
  },
  {
   "cell_type": "code",
   "execution_count": null,
   "metadata": {
    "collapsed": true
   },
   "outputs": [],
   "source": [
    "# Compute target\n",
    "target = 'suspect'\n",
    "\n",
    "if 'dropout' in target:\n",
    "    targetDF = computeTarget(target, eventsDF, dateDict)\n",
    "elif target == 'nota':\n",
    "    targetDF = computeTarget('nota', eventsWeek, folder+'NotaUsuariosEd1.csv')\n",
    "elif target == 'suspect':\n",
    "    targetDF = computeTarget('suspect', eventsWeek, folder+'UserIDClusterSospechoso.csv')"
   ]
  },
  {
   "cell_type": "code",
   "execution_count": null,
   "metadata": {
    "collapsed": true
   },
   "outputs": [],
   "source": [
    "# 1 Caracteristicas acumuladas\n",
    "transCum = cummulateFeatures(transitions)\n",
    "#featCum = cummulateFeatures(featWeek)\n",
    "#probCum = cummulateFeatures(df_PrNoAc)\n",
    "featFinal = transCum"
   ]
  },
  {
   "cell_type": "code",
   "execution_count": null,
   "metadata": {
    "collapsed": true
   },
   "outputs": [],
   "source": [
    "# 2 Combinar caracteristicas semanales, incluido target semanal\n",
    "featWeek = {}\n",
    "for week in featCum:\n",
    "    featWeek[week] = combineFeat([featCum[week], transCum[week], targetDF[week]])"
   ]
  },
  {
   "cell_type": "code",
   "execution_count": null,
   "metadata": {
    "collapsed": true
   },
   "outputs": [],
   "source": [
    "# 3 Combinar caracteristicas globales\n",
    "featTotal = {}\n",
    "for week in featCum:\n",
    "    featTotal[week] = combineFeat([featWeek[week]]+featGlobal)"
   ]
  },
  {
   "cell_type": "code",
   "execution_count": null,
   "metadata": {
    "collapsed": true
   },
   "outputs": [],
   "source": [
    "# Preparacion del dataframe para predecir\n",
    "#featFinal = ready2Predict(featTotal, target)\n",
    "\n",
    "featFilename = 'TransicionesEd2'\n",
    "\n",
    "dict2CSV(featFilename, featFinal)"
   ]
  },
  {
   "cell_type": "code",
   "execution_count": null,
   "metadata": {
    "collapsed": true
   },
   "outputs": [],
   "source": [
    "transCum = cummulateFeatures(transitions)\n",
    "featFilename = 'TransicionesEd2AllFeats'\n",
    "dict2CSV(featFilename, transCum)"
   ]
  },
  {
   "cell_type": "code",
   "execution_count": null,
   "metadata": {
    "collapsed": true
   },
   "outputs": [],
   "source": []
  }
 ],
 "metadata": {
  "kernelspec": {
   "display_name": "Python 3",
   "language": "python",
   "name": "python3"
  },
  "language_info": {
   "codemirror_mode": {
    "name": "ipython",
    "version": 3
   },
   "file_extension": ".py",
   "mimetype": "text/x-python",
   "name": "python",
   "nbconvert_exporter": "python",
   "pygments_lexer": "ipython3",
   "version": "3.6.3"
  }
 },
 "nbformat": 4,
 "nbformat_minor": 2
}
