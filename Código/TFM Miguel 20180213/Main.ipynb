{
 "cells": [
  {
   "cell_type": "code",
   "execution_count": null,
   "metadata": {
    "collapsed": true
   },
   "outputs": [],
   "source": [
    "import sys\n",
    "import importlib\n",
    "\n",
    "#sys.path.insert(0, '')\n",
    "#from PreProcesamiento import *\n",
    "#importlib.reload\n",
    "\n",
    "import time\n",
    "start = time.time()"
   ]
  },
  {
   "cell_type": "code",
   "execution_count": null,
   "metadata": {
    "collapsed": true
   },
   "outputs": [],
   "source": [
    "#funcion que carga un fichero en un dataframe con el id del usuario en una columna y sus eventos en formato json en otra\n",
    "def readDataFile(filename):\n",
    "    import json\n",
    "    import pandas as pd\n",
    "    # Leemos el fichero por lineas\n",
    "    with open(filename) as f:\n",
    "        users_events = f.readlines()\n",
    "        \n",
    "    # Parseamos a formato json cada linea\n",
    "    listJson = list(map(json.loads, users_events));\n",
    "   \n",
    "    # Creamos el dataframe a partir de               \n",
    "    df = pd.DataFrame.from_dict(listJson, orient='columns');\n",
    "                               \n",
    "    return df"
   ]
  },
  {
   "cell_type": "code",
   "execution_count": null,
   "metadata": {
    "collapsed": true
   },
   "outputs": [],
   "source": [
    "#Funcion que filtra los usuarios en funcion de un numero de eventos pasado por argumento\n",
    "def dataFiltering(eventosDF, numEventos):           \n",
    "    return eventosDF[eventosDF['Eventos'].apply(lambda x: len(x) > numEventos)]\n"
   ]
  },
  {
   "cell_type": "code",
   "execution_count": null,
   "metadata": {
    "collapsed": true
   },
   "outputs": [],
   "source": [
    "#Funcion que filtra los eventos es funcion de la lista eventos pasados por argumento\n",
    "# eventsFiltering son por los eventos que queremos filtrar\n",
    "# listEvents es la lista de eventos del usuario\n",
    "def filterListByEvents(listEvents, eventsFiltering):\n",
    "    import pandas as pd\n",
    "    import numpy\n",
    "    \n",
    "    # Comprobacion de si la lista esta vacia (si lo esta, daria error la funcion)\n",
    "    if listEvents == []:\n",
    "        return []\n",
    "    #Pasa la lista de eventos a un dataframe\n",
    "    df = pd.DataFrame(listEvents)\n",
    "     \n",
    "    #comprueba si los eventos del estudiantes estan en la lista de los eventos por los que se filtra    \n",
    "    df = df.loc[df['evento'].isin(eventsFiltering)]\n",
    "    \n",
    "    indices = numpy.array(df.index.values)\n",
    "    \n",
    "    listaF = numpy.array(listEvents)\n",
    "    \n",
    "    return list(listaF[indices])\n",
    "    \n",
    "def eventsFiltering(eventsDF, listEvents):\n",
    "    # Filtra un dataframe de eventos generando un nuevo dataframe con los eventos\n",
    "    # pasados por el argumento events\n",
    "    \n",
    "    eventsDFFiltered = eventsDF.copy()\n",
    "    eventsDFFiltered['Eventos'] = eventsDF['Eventos'].apply(lambda x: filterListByEvents(x, listEvents))\n",
    "    \n",
    "    return eventsDFFiltered\n",
    "\n",
    "#Guarda dfToSave en el fichero filename\n",
    "def dfToCsv(dfToSave,filename):\n",
    "\n",
    "    dfToSave.to_csv(filename, sep='|', encoding='utf-8', index=False)\n",
    "\n",
    "#Carga el fichero filename a un dataframe    \n",
    "def csvToDf(filename):\n",
    "\n",
    "    csvDf = pd.read_csv(filename,sep='|')\n",
    "    \n",
    "    return csvDf\n"
   ]
  },
  {
   "cell_type": "code",
   "execution_count": null,
   "metadata": {
    "collapsed": true
   },
   "outputs": [],
   "source": [
    "\"\"\"\n",
    "Descartado por consumo de tiempo\n",
    "\n",
    "def filterListByDate(listEvents, dates):\n",
    "    # Filtra una lista de eventos comprendida entre dos fechas (date[0] y date[1])\n",
    "    \n",
    "    listEventsFiltered = [event for event in listEvents if \n",
    "                          isodate.parse(event['tiempo']).replace(tzinfo=None) >= dates[0] \n",
    "                          and isodate.parse(event['tiempo']).replace(tzinfo=None) < dates[1]]\n",
    "    return listEventsFiltered\n",
    "    \n",
    "\"\"\"\n",
    "\n",
    "#Funcion que filtra una lista de eventos en funcion de las fechas pasadas por argumento\n",
    "def filterListByDate(listEvents, dates):\n",
    "    import numpy\n",
    "    import pandas as pd\n",
    "\n",
    "    # Transformamos la lista de eventos a dataframe\n",
    "    df = pd.DataFrame(listEvents)\n",
    "    # Convertimos el tiempo a datetime\n",
    "    df['tiempo'] = pd.to_datetime(df['tiempo'])\n",
    "    # Comparamos los datos que se encuentren entre las fechas indicadas\n",
    "    df = df[(df['tiempo'] >= dates[0]) & (df['tiempo'] < dates[1])]\n",
    "    # Tomamos los indices donde se cumple la condicion\n",
    "    indices = numpy.array(df.index.values)\n",
    "    # Tomamos la lista de eventos\n",
    "    listaF = numpy.array(listEvents)\n",
    "    # Devolvemos la lista de eventos en dichos indices\n",
    "    return list(listaF[indices])\n",
    "\n",
    "def dateFiltering(eventsDF, dates):\n",
    "    # Filtra un dataframe de eventos generando un nuevo dataframe con los eventos\n",
    "    #  comprendidos entre dos fechas (date[0] y date[1]) no hay eventos por parte de ese usuario \n",
    "    # devuelve lista vacia\n",
    "    \n",
    "    eventsDFFiltered = eventsDF.copy()\n",
    "    eventsDFFiltered['Eventos'] = eventsDF['Eventos'].apply(lambda x: filterListByDate(x, dates))\n",
    "    \n",
    "    return eventsDFFiltered"
   ]
  },
  {
   "cell_type": "code",
   "execution_count": null,
   "metadata": {
    "collapsed": true
   },
   "outputs": [],
   "source": [
    "#devuelve el diccionario de dataframes con los eventos por fechas \n",
    "def timeFiltering(eventsDF, dateDict = {}):\n",
    "    #  Devuelve un diccionario de caracteristicas.\n",
    "    \n",
    "    # Inicializacion del diccionario de caracteristicas\n",
    "    eventsDFSplit = {}\n",
    "    \n",
    "    # Si no hay diccionario, cuenta entre todas las fechas (diccionario por defecto)\n",
    "    if dateDict == {}:\n",
    "        dateDict = {\"ALL\": []}\n",
    "    \n",
    "    # Recorremos los distintos periodos de tiempo dados (ej: semanas) y extraemos las caracteristicas\n",
    "    for periods in dateDict:\n",
    "        eventsDFSplit[periods] = dateFiltering(eventsDF, dateDict[periods])\n",
    "        \n",
    "    return eventsDFSplit"
   ]
  },
  {
   "cell_type": "code",
   "execution_count": null,
   "metadata": {
    "collapsed": true
   },
   "outputs": [],
   "source": [
    "\"\"\"\n",
    "Descartado porque ya no requiere fechas para trabajar\n",
    "def eventCounter(eventsDF, dates = []):\n",
    "    # Cuenta eventos en un rango de fechas (date[0] y date[1])\n",
    "    \n",
    "    # Filtrado por fecha si dates no es vacio.\n",
    "    if dates != []:\n",
    "        eventsDFFiltered = dateFiltering(eventsDF, dates)\n",
    "    else:\n",
    "        eventsDFFiltered = eventsDF\n",
    "\n",
    "    # Contar eventos\n",
    "    featuresDF = eventsDFFiltered.copy()\n",
    "    featuresDF['NumEventos'] = featuresDF['Eventos'].apply(lambda x: len(x))\n",
    "    del featuresDF['Eventos']\n",
    "    \n",
    "    return featuresDF\n",
    "\"\"\"\n",
    "\n",
    "#funcion que cuenta el numero de eventos y lo inclute en una columna de eventsDF\n",
    "def eventCounter(eventsDF):\n",
    "    # Contar eventos\n",
    "    featuresDF = eventsDF.copy()\n",
    "    featuresDF['NumEventos'] = featuresDF['Eventos'].apply(lambda x: len(x))\n",
    "    del featuresDF['Eventos']\n",
    "    \n",
    "    return featuresDF\n",
    "\n",
    "\n",
    "\"\"\"\n",
    "Descartado porque ya no va a recibir un dataframe entero. Separacion de filtrado\n",
    "por tiempo y extraccion de caracteristicas.\n",
    "\n",
    "def eventCounterMD(eventsDF, dateDict = {}):\n",
    "    # Multi-Date. Cuenta eventos dado un diccionario de fechas dateDict. \n",
    "    #  Devuelve un diccionario de caracteristicas.\n",
    "    \n",
    "    # Inicializacion del diccionario de caracteristicas\n",
    "    featuresDict = {}\n",
    "    \n",
    "    # Si no hay diccionario, cuenta entre todas las fechas (diccionario por defecto)\n",
    "    if dateDict == {}:\n",
    "        dateDict = {\"ALL\": []}\n",
    "    \n",
    "    # Recorremos los distintos periodos de tiempo dados (ej: semanas) y extraemos las caracteristicas\n",
    "    for periods in dateDict:\n",
    "        featuresDict[periods] = eventCounter(eventsDF, dateDict[periods])\n",
    "        \n",
    "    return featuresDict\n",
    "\"\"\""
   ]
  },
  {
   "cell_type": "code",
   "execution_count": null,
   "metadata": {
    "collapsed": true
   },
   "outputs": [],
   "source": [
    "def hasNotPerformedAnyEvent(eventsDF, dates, kind = []):\n",
    "    # Devuelve si el estudiante no ha realizado algun evento en un rango de fechas.\n",
    "    # Si kind es [] valora cualquier tipo de evento, si no, los tipos de eventos pasados\n",
    "    # en dicha lista.\n",
    "    \n",
    "    # Filtramos por rango de fechas\n",
    "    eventsDFFiltered = dateFiltering(eventsDF, dates)\n",
    "    \n",
    "    # Si kind esta lleno, filtramos por la lista de eventos\n",
    "    if kind != []:\n",
    "        eventsDFFiltered = eventsFiltering(eventsDFFiltered, kind)\n",
    "\n",
    "    # Contamos el numero de eventos    \n",
    "    returnDF = eventCounter(eventsDFFiltered)\n",
    "    \n",
    "    # Si no ha hecho eventos, ponemos a True\n",
    "    returnDF[\"target\"] = (returnDF[\"NumEventos\"] < 1).map(int)\n",
    "        \n",
    "    del returnDF['NumEventos']\n",
    "    \n",
    "    return returnDF"
   ]
  },
  {
   "cell_type": "code",
   "execution_count": null,
   "metadata": {
    "collapsed": true
   },
   "outputs": [],
   "source": [
    "#devuleve el target de abandono a 1 si el usuario no ha hecho actividades evaluables en las proximas dos semanas\n",
    "def dropoutCrit1(eventsDF, dateDict = {}):\n",
    "    \n",
    "    # Inicializacion del diccionario de caracteristicas target\n",
    "    targetDict = {}\n",
    "    \n",
    "    # Definimos los eventos evaluables\n",
    "    evaluable = ['openassessmentblock.self_assess', 'problem_check']\n",
    "\n",
    "    # Ordenamos el diccionario, en el caso en el que no estuviese ordenado\n",
    "    import operator\n",
    "    sortedDict = sorted(dateDict.items(), key=operator.itemgetter(1))\n",
    "    \n",
    "    # Recorremos los distintos periodos de tiempo dados (ej: semanas) y extraemos las caracteristicas target\n",
    "    for ind in range(len(sortedDict)-2): # -2 porque no podemos predecir las dos ultimas semana\n",
    "        \n",
    "        # Vamos de la fecha de inicio de la semana siguiente a la fecha del final de dentro de dos semanas\n",
    "        dates = [sortedDict[ind+1][1][0], sortedDict[ind+2][1][1]]\n",
    "        \n",
    "        # Comprobamos si no ha realizado ningun evento evaluable en ese rango de tiempo\n",
    "        targetDict[sortedDict[ind][0]] = hasNotPerformedAnyEvent(eventsDF, dates, evaluable) \n",
    "        \n",
    "    return targetDict"
   ]
  },
  {
   "cell_type": "code",
   "execution_count": null,
   "metadata": {
    "collapsed": true
   },
   "outputs": [],
   "source": [
    "#devuelve el target de abandono a 1 si el usuario no ha hecho ningun evento la proxima semana\n",
    "def dropoutCrit2(eventsDF, dateDict = {}):\n",
    "    \n",
    "    # Inicializacion del diccionario de caracteristicas target\n",
    "    targetDict = {}\n",
    "    \n",
    "    # Ordenamos el diccionario, en el caso en el que no estuviese ordenado\n",
    "    import operator\n",
    "    sortedDict = sorted(dateDict.items(), key=operator.itemgetter(1))\n",
    "   \n",
    "    # Recorremos los distintos periodos de tiempo dados (ej: semanas) y extraemos las caracteristicas target\n",
    "    for ind in range(len(sortedDict)-1): # -1 porque no podemos predecir la ultima semana\n",
    "        \n",
    "        # Vamos de la fecha de inicio y fin de la semana siguiente\n",
    "        dates = sortedDict[ind+1][1]\n",
    "        \n",
    "        \n",
    "        # Comprobamos si no ha realizado ningun evento en ese rango de tiempo\n",
    "        targetDict[sortedDict[ind][0]] = hasNotPerformedAnyEvent(eventsDF, dates) \n",
    "        \n",
    "    return targetDict"
   ]
  },
  {
   "cell_type": "code",
   "execution_count": null,
   "metadata": {
    "collapsed": true
   },
   "outputs": [],
   "source": [
    "#Combina las caracteristicas de la lista de dataframes pasadas por argumento\n",
    "def combineFeat(featList):\n",
    "    import pandas as pd\n",
    "    \n",
    "    dfold = featList[0].copy()\n",
    "    \n",
    "    for ind in range(1,len(featList)):\n",
    "        dfnew = featList[ind].copy()\n",
    "        del dfnew['Usuario']\n",
    "        dfold = pd.concat([dfold, dfnew], axis=1)\n",
    "    dfold = dfold.dropna(axis = 0,how='any')\n",
    "    return dfold"
   ]
  },
  {
   "cell_type": "code",
   "execution_count": null,
   "metadata": {
    "collapsed": true
   },
   "outputs": [],
   "source": []
  },
  {
   "cell_type": "code",
   "execution_count": null,
   "metadata": {
    "collapsed": true
   },
   "outputs": [],
   "source": []
  },
  {
   "cell_type": "code",
   "execution_count": null,
   "metadata": {
    "collapsed": true
   },
   "outputs": [],
   "source": []
  },
  {
   "cell_type": "code",
   "execution_count": null,
   "metadata": {
    "collapsed": true
   },
   "outputs": [],
   "source": []
  },
  {
   "cell_type": "code",
   "execution_count": null,
   "metadata": {
    "collapsed": true
   },
   "outputs": [],
   "source": [
    "#Diccionario semana\n",
    "from datetime import datetime\n",
    "#import dateutil.parser as isodate\n",
    "\n",
    "### SEMANAS DE LA EDICION 1 ##\n",
    "\n",
    "sem1 = datetime(2015,2,24)\n",
    "sem2 = datetime(2015,3,3)\n",
    "sem3 = datetime(2015,3,10)\n",
    "sem4 = datetime(2015,3,17)\n",
    "sem5 = datetime(2015,3,24)\n",
    "sem6 = datetime(2015,3,31)\n",
    "sem7 = datetime(2015,4,7)\n",
    "sem8 = datetime(2015,4,14)\n",
    "\"\"\"\n",
    "\n",
    "### SEMANAS DE EDICION 2 ##\n",
    "\n",
    "sem1 = datetime(2015,10,5)\n",
    "sem2 = datetime(2015,10,12)\n",
    "sem3 = datetime(2015,10,19)\n",
    "sem4 = datetime(2015,10,26)\n",
    "sem5 = datetime(2015,11,2)\n",
    "sem6 = datetime(2015,11,9)\n",
    "sem7 = datetime(2015,11,16)\n",
    "sem8 = datetime(2015,11,23)\n",
    "\"\"\"\n",
    "\n",
    "SEM = {\"Week1\": [sem1, sem2],\n",
    "       \"Week2\": [sem2, sem3],\n",
    "       \"Week3\": [sem3, sem4],\n",
    "       \"Week4\": [sem4, sem5],\n",
    "       \"Week5\": [sem5, sem6],\n",
    "       \"Week6\": [sem6, sem7]}"
   ]
  },
  {
   "cell_type": "code",
   "execution_count": null,
   "metadata": {
    "collapsed": true
   },
   "outputs": [],
   "source": [
    "# Cargamos el fichero de trabajo\n",
    "filename = \"Edicion1/eventos_final.json\"\n",
    "\n",
    "eventsDFRaw = readDataFile(filename)\n",
    "\n",
    "#Se eliminan los que no tengan id de usuario\n",
    "eventsDFRaw = eventsDFRaw[eventsDFRaw['Usuario'] != '']\n",
    "print(\"Tamaño:\",len(eventsDFRaw))\n",
    "print(eventsDFRaw.head(10))  "
   ]
  },
  {
   "cell_type": "markdown",
   "metadata": {},
   "source": [
    "#### Filtramos los usuarios en funcion de un número de eventos"
   ]
  },
  {
   "cell_type": "code",
   "execution_count": null,
   "metadata": {
    "collapsed": true
   },
   "outputs": [],
   "source": [
    "# Filtrado por usuario: eliminamos los que hayan realizado\n",
    "#  menos de 50 eventos en el curso\n",
    "eventsDF = dataFiltering(eventsDFRaw, 50);\n",
    "print(\"Tamaño:\",len(eventsDF))   \n",
    "print(eventsDF.head(10))"
   ]
  },
  {
   "cell_type": "markdown",
   "metadata": {},
   "source": [
    "#### Filtramos en intervalos de tiempo obteniendo un diccionario de dataframes por semanas"
   ]
  },
  {
   "cell_type": "code",
   "execution_count": null,
   "metadata": {
    "collapsed": true
   },
   "outputs": [],
   "source": [
    "# Filtrado por tiempo\n",
    "eventsWeek = timeFiltering(eventsDF, SEM)\n",
    "\n",
    "# Filtrado por usuario\n",
    "for week in eventsWeek:\n",
    "    eventsWeek[week] = dataFiltering(eventsWeek[week],0)\n",
    "    \n",
    "eventsWeek"
   ]
  },
  {
   "cell_type": "markdown",
   "metadata": {},
   "source": [
    "### Extracción de características\n",
    "En este apartado se procede a extraer las características por semana."
   ]
  },
  {
   "cell_type": "markdown",
   "metadata": {},
   "source": [
    "**Número de eventos**: Número total de eventos que ha generado un usuario (por semana)."
   ]
  },
  {
   "cell_type": "code",
   "execution_count": null,
   "metadata": {
    "collapsed": true
   },
   "outputs": [],
   "source": [
    "# Num eventos x semana\n",
    "numEvents = {}\n",
    "\n",
    "for week in eventsWeek:\n",
    "    # Contamos eventos\n",
    "    numEvents[week] = eventCounter(eventsWeek[week])\n",
    "numEvents    "
   ]
  },
  {
   "cell_type": "markdown",
   "metadata": {},
   "source": [
    "**Número de interacciones de vídeo**: Número de veces que un usuario interacciona con vídeos (por semana).\n",
    "\n",
    "Los eventos que se contemplan son: play_video, pause_video, seek_video, stop_video."
   ]
  },
  {
   "cell_type": "code",
   "execution_count": null,
   "metadata": {
    "collapsed": true
   },
   "outputs": [],
   "source": [
    "# Num eventos video x semana\n",
    "numVideos = {}\n",
    "listEvents = [\"play_video\", \"pause_video\", \"seek_video\", \"stop_video\"]\n",
    "\n",
    "for week in eventsWeek:\n",
    "    # Filtramos por evento\n",
    "    numVideos[week] = eventsFiltering(eventsWeek[week], listEvents)\n",
    "    # Contamos eventos\n",
    "    numVideos[week] = eventCounter(numVideos[week])\n",
    "    numVideos[week].rename(columns={'NumEventos': 'NumInteraccVideos'}, inplace=True)"
   ]
  },
  {
   "cell_type": "markdown",
   "metadata": {},
   "source": [
    "**Número de interacciones de problemas**: Número de veces que un usuario interacciona con cualquier tipo de problema -actividades o ejercicios- (por semana).\n",
    "\n",
    "Los eventos que se contemplan son: problem_check."
   ]
  },
  {
   "cell_type": "code",
   "execution_count": null,
   "metadata": {
    "collapsed": true
   },
   "outputs": [],
   "source": [
    "# Num eventos problemas (ejercicios + actividades) x semana\n",
    "numProbs= {}\n",
    "listEvents = [\"problem_check\"]\n",
    "\n",
    "for week in eventsWeek:\n",
    "    # Filtramos por evento\n",
    "    numProbs[week] = eventsFiltering(eventsWeek[week], listEvents)\n",
    "    # Contamos eventos\n",
    "    numProbs[week] = eventCounter(numProbs[week])\n",
    "    numProbs[week].rename(columns={'NumEventos': 'NumProblemas'}, inplace=True)"
   ]
  },
  {
   "cell_type": "markdown",
   "metadata": {},
   "source": [
    "**Número de problemas correctos**: Número de veces que un usuario hace correctamente un problema -actividades o ejercicios- (por semana).\n",
    "\n",
    "Los eventos que se contemplan son: problem_check."
   ]
  },
  {
   "cell_type": "code",
   "execution_count": null,
   "metadata": {
    "collapsed": true
   },
   "outputs": [],
   "source": [
    "\n",
    "#Funcion que cuenta el numero de problemas correctos en una lista\n",
    "def countCorrectByList(listResProblem):\n",
    "    \n",
    "    #A veces la lista de resultados puede venir vacía asique lo tomamos como resultado no correcto (esto pasa muy pocas veces debe ser un error del sevidor de edX)\n",
    "    if listResProblem == []:\n",
    "        return 0;\n",
    "    \n",
    "    dfL = pd.DataFrame(listResProblem)\n",
    "    \n",
    "    countCorrecto = dfL[dfL[\"correcto\"]==\"True\"][\"correcto\"].count()\n",
    "    return countCorrecto\n",
    "    \n",
    "    \n",
    "#Cuenta el numero de eventos correctos a partir de una lista de eventos   \n",
    "def correctProblemByList(listEvents):\n",
    "    \n",
    "    #Si tenemos lista de eventos vacia contamos 0 problemas correctos\n",
    "    if listEvents==[]:\n",
    "        return 0\n",
    "    \n",
    "    #Transformamos la lista de eventos a dataframe\n",
    "    df = pd.DataFrame(listEvents)\n",
    "\n",
    "    #tenemos una lista de resultados por cada problema ya que estan formados por subejercicios,\n",
    "    #por lo tanto tomamos la lista y la transformamos a dataframe en la funcion del apply\n",
    "    df['numCorrectByUser'] = df['resultados'].apply(lambda x: countCorrectByList(x))\n",
    " \n",
    "    return  df['numCorrectByUser'].sum()\n",
    "\n",
    "def correctProblems(eventsDF):\n",
    "    \n",
    "\n",
    "    \n",
    "    eventsDFFiltered = eventsDF.copy()\n",
    "    eventsDFFiltered['numCorrect'] = eventsDF['Eventos'].apply(lambda x: correctProblemByList(x))\n",
    "    del eventsDFFiltered['Eventos']\n",
    "    \n",
    "    return eventsDFFiltered"
   ]
  },
  {
   "cell_type": "code",
   "execution_count": null,
   "metadata": {
    "collapsed": true
   },
   "outputs": [],
   "source": [
    "import numpy\n",
    "import pandas as pd\n",
    "\n",
    "correctProbs= {}\n",
    "listEvents = [\"problem_check\"]\n",
    "\n",
    "for week in eventsWeek:\n",
    "    # Filtramos por evento\n",
    "    correctProbs[week] = eventsFiltering(eventsWeek[week], listEvents)\n",
    "    # Contamos eventos\n",
    "    correctProbs[week] = correctProblems(correctProbs[week])\n",
    "    \n",
    "\n",
    "correctProbs\n"
   ]
  },
  {
   "cell_type": "markdown",
   "metadata": {},
   "source": [
    "**Número de intentos en problemas**: Número de veces que un usuario intenta un problema -actividades o ejercicios- (por semana).\n",
    "\n",
    "Los eventos que se contemplan son: problem_check."
   ]
  },
  {
   "cell_type": "code",
   "execution_count": null,
   "metadata": {
    "collapsed": true
   },
   "outputs": [],
   "source": [
    "    \n",
    "    \n",
    "def attempsProblemByList(listEvents):\n",
    "    \n",
    "        #Si tenemos lista de eventos vacia contamos 0 intentos\n",
    "        if listEvents==[]:\n",
    "            return 0\n",
    "\n",
    "        #Transformamos la lista de eventos a dataframe\n",
    "        df = pd.DataFrame(listEvents)\n",
    "\n",
    "        return  pd.to_numeric(df['num_intentos']).sum()\n",
    "\n",
    "def attempProblems(eventsDF):\n",
    "    \n",
    "        import numpy\n",
    "        import pandas as pd\n",
    "\n",
    "        eventsDFFiltered = eventsDF.copy()\n",
    "        eventsDFFiltered['numAttemps'] = eventsDF['Eventos'].apply(lambda x: attempsProblemByList(x))\n",
    "        del eventsDFFiltered['Eventos']\n",
    "\n",
    "        return eventsDFFiltered"
   ]
  },
  {
   "cell_type": "code",
   "execution_count": null,
   "metadata": {
    "collapsed": true
   },
   "outputs": [],
   "source": [
    "attempsProbs= {}\n",
    "listEvents = [\"problem_check\"]\n",
    "\n",
    "for week in eventsWeek:\n",
    "    # Filtramos por evento\n",
    "    attempsProbs[week] = eventsFiltering(eventsWeek[week], listEvents)\n",
    "    # Contamos eventos\n",
    "    attempsProbs[week] = attempProblems(attempsProbs[week])\n",
    "    \n",
    "    \n",
    "\n",
    "attempsProbs\n"
   ]
  },
  {
   "cell_type": "code",
   "execution_count": 1,
   "metadata": {},
   "outputs": [
    {
     "data": {
      "text/plain": [
       "47"
      ]
     },
     "execution_count": 1,
     "metadata": {},
     "output_type": "execute_result"
    }
   ],
   "source": [
    "#ESTO ESTARÍA BIEN PASARLO A UN FICHERO YA QUE SOLO ES PARA EL CURSO DE ANDROID\n",
    "#CONTIENE LA INFORMACIÓN TEMPORAL DE LOS PROBLEMAS\n",
    "\n",
    "autoevaluacion = 14, #La autoevaluacion hasta el problema \n",
    "\n",
    "\n",
    "# ANGEL: REVISION\n",
    "dicProblems = {\n",
    "\"Week1\" : \"47\", #la semana 1 hasta el problema 47 incluido...\n",
    "\"Week2\" : \"79\",\n",
    "\"Week3\" : \"91\",\n",
    "\"Week4\" : \"109\",\n",
    "\"Week5\" : \"133\",\n",
    "\"Week6\" : \"138\"}\n",
    "\n",
    "\n",
    "problemsByWeek=[47,79,91,109,133,138]\n",
    "problemsByWeek[0]"
   ]
  },
  {
   "cell_type": "markdown",
   "metadata": {},
   "source": [
    "**Numero de problemas correctos autoevaluación de java**\n",
    "\n",
    "Los eventos que se contemplan son: problem_check."
   ]
  },
  {
   "cell_type": "code",
   "execution_count": 2,
   "metadata": {},
   "outputs": [],
   "source": [
    "def correctProblemByListAE(listEvents):\n",
    "    \n",
    "    #Si tenemos lista de eventos vacia contamos 0 problemas correctos\n",
    "    if listEvents==[]:\n",
    "        return 0\n",
    "    \n",
    "    \n",
    "    #Transformamos la lista de eventos a dataframe\n",
    "    df = pd.DataFrame(listEvents)\n",
    "    \n",
    "    #pasamos el id natural del problema a numerico\n",
    "    df[['id_natural']] = df[['id_natural']].apply(pd.to_numeric)\n",
    "    \n",
    "    #comprobamos que el id_natural del problema este dentro de los de la autoevaluacion\n",
    "    df = df[df['id_natural'] < autoevaluacion]\n",
    "\n",
    "    #tenemos una lista de resultados por cada problema ya que estan formados por subejercicios,\n",
    "    #por lo tanto tomamos la lista y la transformamos a dataframe en la funcion del apply\n",
    "    df['numCorrectByUser'] = df['resultados'].apply(lambda x: countCorrectByList(x))\n",
    " \n",
    "    return  df['numCorrectByUser'].sum()\n",
    "\n",
    "def correctProblemsAE(eventsDF):\n",
    "    \n",
    "\n",
    "    \n",
    "    eventsDFFiltered = eventsDF.copy()\n",
    "    eventsDFFiltered['numCorrectAE'] = eventsDF['Eventos'].apply(lambda x: correctProblemByListAE(x))\n",
    "    del eventsDFFiltered['Eventos']\n",
    "    \n",
    "    return eventsDFFiltered"
   ]
  },
  {
   "cell_type": "code",
   "execution_count": 3,
   "metadata": {},
   "outputs": [
    {
     "ename": "NameError",
     "evalue": "name 'eventsFiltering' is not defined",
     "output_type": "error",
     "traceback": [
      "\u001b[0;31m---------------------------------------------------------------------------\u001b[0m",
      "\u001b[0;31mNameError\u001b[0m                                 Traceback (most recent call last)",
      "\u001b[0;32m<ipython-input-3-3963cee1bd2f>\u001b[0m in \u001b[0;36m<module>\u001b[0;34m()\u001b[0m\n\u001b[1;32m      4\u001b[0m \u001b[0;31m#,no necesitamos el diccionario de dataframe, ya que la\u001b[0m\u001b[0;34m\u001b[0m\u001b[0;34m\u001b[0m\u001b[0m\n\u001b[1;32m      5\u001b[0m \u001b[0;31m#autoevaluacion se puede hacer tambien en otra semana que no sea la primera\u001b[0m\u001b[0;34m\u001b[0m\u001b[0;34m\u001b[0m\u001b[0m\n\u001b[0;32m----> 6\u001b[0;31m \u001b[0meventsProbAE\u001b[0m \u001b[0;34m=\u001b[0m \u001b[0meventsFiltering\u001b[0m\u001b[0;34m(\u001b[0m\u001b[0meventsDF\u001b[0m\u001b[0;34m,\u001b[0m \u001b[0mlistEvents\u001b[0m\u001b[0;34m)\u001b[0m\u001b[0;34m\u001b[0m\u001b[0m\n\u001b[0m\u001b[1;32m      7\u001b[0m \u001b[0;34m\u001b[0m\u001b[0m\n\u001b[1;32m      8\u001b[0m \u001b[0;34m\u001b[0m\u001b[0m\n",
      "\u001b[0;31mNameError\u001b[0m: name 'eventsFiltering' is not defined"
     ]
    }
   ],
   "source": [
    "listEvents = [\"problem_check\"]\n",
    "\n",
    "#Aqui filtramos los eventos para cualquier intervalo de tiempo\n",
    "#,no necesitamos el diccionario de dataframe, ya que la \n",
    "#autoevaluacion se puede hacer tambien en otra semana que no sea la primera \n",
    "eventsProbAE = eventsFiltering(eventsDF, listEvents)\n",
    "\n",
    "\n",
    "eventsProbAE = correctProblemsAE(eventsProbAE)\n",
    "\n",
    "\n",
    "eventsProbAE\n"
   ]
  },
  {
   "cell_type": "markdown",
   "metadata": {},
   "source": [
    "**Nota proyecto**: Nota del proyecto de los usuarios por semana\n",
    "\n",
    "Los eventos que se contemplan son: openassessmentblock.self_assess."
   ]
  },
  {
   "cell_type": "code",
   "execution_count": null,
   "metadata": {
    "collapsed": true
   },
   "outputs": [],
   "source": [
    "#Funcion que suma los puntos de las partes de la autoevaluacion\n",
    "def sumPoints(listPartsPoints):\n",
    "    \n",
    "    #A veces la lista de resultados puede venir vacía asique lo tomamos como 0 puntos\n",
    "    if listPartsPoints == []:\n",
    "        return 0.0;\n",
    "    \n",
    "    dfL = pd.DataFrame(listPartsPoints)\n",
    "    dfL[['puntos_autoevaluacion']] = dfL[['puntos_autoevaluacion']].apply(pd.to_numeric)\n",
    "     \n",
    "    return dfL[\"puntos_autoevaluacion\"].sum()  \n",
    "    \n",
    "    \n",
    "    \n",
    "def sumPointsByList(listEvents):\n",
    "    \n",
    "    #Si tenemos lista de eventos vacia contamos que tiene un 0.0 en el proyecto\n",
    "    if listEvents==[]:\n",
    "        return 0.0\n",
    "    \n",
    "    #Transformamos la lista de eventos a dataframe\n",
    "    df = pd.DataFrame(listEvents)\n",
    "\n",
    "   \n",
    "    df['self-evaluationPoints'] = df['partes'].apply(lambda x: sumPoints(x))\n",
    " \n",
    "    return  df['self-evaluationPoints'].sum()\n",
    "\n",
    "def pointsSE(eventsDF):\n",
    "    \n",
    "    import pandas as pd\n",
    "\n",
    "    \n",
    "    eventsDFFiltered = eventsDF.copy()\n",
    "    eventsDFFiltered['self-evaluationPoints'] = eventsDF['Eventos'].apply(lambda x: sumPointsByList(x))\n",
    "    del eventsDFFiltered['Eventos']\n",
    "    \n",
    "    return eventsDFFiltered"
   ]
  },
  {
   "cell_type": "code",
   "execution_count": null,
   "metadata": {
    "collapsed": true
   },
   "outputs": [],
   "source": [
    "\n",
    "pointsProyect = {}\n",
    "\n",
    "#lista de eventos por los que filtramos\n",
    "listEvents = [\"openassessmentblock.self_assess\"]\n",
    "\n",
    "for week in eventsWeek:\n",
    "    # Filtramos por evento\n",
    "    pointsProyect[week] = eventsFiltering(eventsWeek[week], listEvents)\n",
    "    # Contamos eventos\n",
    "    pointsProyect[week] = pointsSE(pointsProyect[week])\n",
    "    \n",
    "    \n",
    "#pointsProyect    "
   ]
  },
  {
   "cell_type": "code",
   "execution_count": null,
   "metadata": {
    "collapsed": true
   },
   "outputs": [],
   "source": [
    "\n",
    "def countWordsByList(listEvents):\n",
    "    \n",
    "    #Si tenemos lista de eventos vacia contamos que tiene 0 palabras\n",
    "    if listEvents==[]:\n",
    "        return 0.0\n",
    "    \n",
    "    #Transformamos la lista de eventos a dataframe\n",
    "    df = pd.DataFrame(listEvents)\n",
    "\n",
    "    #Contamos el numero de palabras y lo guardamos en una nueva columna llamada Total_words\n",
    "    df['Total_words'] = df['cuerpo'].apply(lambda x: len(x.split()))\n",
    " \n",
    "    return  df['Total_words'].sum()\n",
    "\n",
    "def wordsForumCount(eventsDF):\n",
    "    \n",
    "    \n",
    "    eventsDFFiltered = eventsDF.copy()\n",
    "    eventsDFFiltered['Total words'] = eventsDF['Eventos'].apply(lambda x: countWordsByList(x))\n",
    "    del eventsDFFiltered['Eventos']\n",
    "    \n",
    "    return eventsDFFiltered"
   ]
  },
  {
   "cell_type": "code",
   "execution_count": null,
   "metadata": {
    "collapsed": true
   },
   "outputs": [],
   "source": [
    "\n",
    "import pandas as pd\n",
    "\n",
    "wordsForum = {}\n",
    "listEvents = [\"edx.forum.comment.created\", \"edx.forum.response.created\", \"edx.forum.thread.created\"]\n",
    "\n",
    "for week in eventsWeek:\n",
    "    # Filtramos por evento\n",
    "    wordsForum[week] = eventsFiltering(eventsWeek[week], listEvents)\n",
    "    # Contamos eventos\n",
    "    wordsForum[week] = wordsForumCount(wordsForum[week])\n",
    "    \n",
    "    \n",
    "#wordsForum\n",
    "\n"
   ]
  },
  {
   "cell_type": "markdown",
   "metadata": {},
   "source": [
    "**Número de interacciones con proyecto**: Número de veces que un usuario hace un submit de una actividad de autoevaluacion -proyecto- (por semana).\n",
    "\n",
    "Los eventos que se contemplan son: openassessmentblock.self_assess."
   ]
  },
  {
   "cell_type": "code",
   "execution_count": null,
   "metadata": {
    "collapsed": true
   },
   "outputs": [],
   "source": [
    "# Num eventos proyecto x semana\n",
    "numProyecto = {}\n",
    "listEvents = [\"openassessmentblock.self_assess\"]\n",
    "\n",
    "for week in eventsWeek:\n",
    "    # Filtramos por evento\n",
    "    numProyecto[week] = eventsFiltering(eventsWeek[week], listEvents)\n",
    "    # Contamos eventos\n",
    "    numProyecto[week] = eventCounter(numProyecto[week])\n",
    "    numProyecto[week].rename(columns={'NumEventos': 'NumProyecto'}, inplace=True)"
   ]
  },
  {
   "cell_type": "markdown",
   "metadata": {},
   "source": [
    "**Número de interacciones con documentos**: Número de veces que un usuario interacciona con un documento (por semana).\n",
    "\n",
    "Los eventos que se contemplan son: textbook.pdf.chapter.navigated."
   ]
  },
  {
   "cell_type": "code",
   "execution_count": null,
   "metadata": {
    "collapsed": true
   },
   "outputs": [],
   "source": [
    "# Num eventos documentos x semana\n",
    "numDocs = {}\n",
    "listEvents = [\"textbook.pdf.chapter.navigated\"]\n",
    "\n",
    "for week in eventsWeek:\n",
    "    # Filtramos por evento\n",
    "    numDocs[week] = eventsFiltering(eventsWeek[week], listEvents)\n",
    "    # Contamos eventos\n",
    "    numDocs[week] = eventCounter(numDocs[week])\n",
    "    numDocs[week].rename(columns={'NumEventos': 'NumDocs'}, inplace=True)"
   ]
  },
  {
   "cell_type": "markdown",
   "metadata": {},
   "source": [
    "**Número de interacciones con foro**: Número de veces que un usuario interacciona con el foro del curso (por semana).\n",
    "\n",
    "Los eventos que se contemplan son: edx.forum.searched,edx.forum.comment.created, edx.forum.response.created, edx.forum.thread.created."
   ]
  },
  {
   "cell_type": "code",
   "execution_count": null,
   "metadata": {
    "collapsed": true
   },
   "outputs": [],
   "source": [
    "# Num eventos foro x semana\n",
    "numForo = {}\n",
    "listEvents = [\"edx.forum.searched\",\"edx.forum.comment.created\", \"edx.forum.response.created\", \"edx.forum.thread.created\"]\n",
    "\n",
    "for week in eventsWeek:\n",
    "    # Filtramos por evento\n",
    "    numForo[week] = eventsFiltering(eventsWeek[week], listEvents)\n",
    "    # Contamos eventos\n",
    "    numForo[week] = eventCounter(numForo[week])\n",
    "    numForo[week].rename(columns={'NumEventos': 'numInteraccForo'}, inplace=True)\n"
   ]
  },
  {
   "cell_type": "markdown",
   "metadata": {
    "collapsed": true
   },
   "source": [
    "#### A contuanción en la siguiente celda concatenamos los dataframes con los eventos por semana"
   ]
  },
  {
   "cell_type": "code",
   "execution_count": null,
   "metadata": {
    "collapsed": true
   },
   "outputs": [],
   "source": [
    "featMatrix = {}\n",
    "\n",
    "for week in eventsWeek:\n",
    "    featMatrix[week] = combineFeat([numEvents[week], numVideos[week], numProbs[week], \n",
    "                                    numProyecto[week], numDocs[week], numForo[week],\n",
    "                                    wordsForum[week],pointsProyect[week],attempsProbs[week],correctProbs[week],\n",
    "                                    ])\n",
    "    \n",
    "featMatrix"
   ]
  },
  {
   "cell_type": "markdown",
   "metadata": {},
   "source": [
    "**AQUI VAN LAS CARACTAERISTICAS DE LOS PROBLEMAS DEL TFG DE MIGUEL**"
   ]
  },
  {
   "cell_type": "markdown",
   "metadata": {},
   "source": [
    "**En primer lugar hay que recorrer el dataframe inicial con todos los problemas para ver cada problema cuantos ejercicios tiene, lo incluiremos en un diccionario.** \n",
    "\n",
    "**ATENCIÓN ESTO YA NO HACE FALTA HACERLO YA QUE LO CARGAMOS DE UN FICHERO CON EL ID DEL PROBLEMA Y SU NUMERO DE EJERCICIOS!!!!!\n",
    "**"
   ]
  },
  {
   "cell_type": "code",
   "execution_count": null,
   "metadata": {
    "collapsed": true
   },
   "outputs": [],
   "source": [
    "import pandas as pd\n",
    "def countNumberEj(row,dictNumEj):\n",
    "    \n",
    "    if int(row['id_natural']) in dictNumEj:\n",
    "        return dictNumEj;\n",
    "    \n",
    "    else:\n",
    "        dictNumEj[int(row['id_natural'])] = int(row['num_ejercicios'])\n",
    "        return dictNumEj\n",
    "        \n",
    "    return dictNumEj\n",
    "\n",
    "def countNumberEjByList(listEvents,dictNumEj):\n",
    "    \n",
    "        #Si tenemos lista de eventos vacia devolvemos el diccionario tal y como venia\n",
    "        if listEvents==[]:\n",
    "            return\n",
    "\n",
    "        #Transformamos la lista de eventos a dataframe\n",
    "        df = pd.DataFrame(listEvents)[[\"id_natural\",\"num_ejercicios\"]]\n",
    "        #print(df)\n",
    "        \n",
    "        df.apply(lambda x: countNumberEj(x,dictNumEj), axis=1)\n",
    "        \n",
    "        return\n",
    "    \n",
    "    \n",
    "def createDictByList(eventsDF,dictNumEj):\n",
    "    \n",
    "    eventsDF['Eventos'].apply(lambda x: countNumberEjByList(x,dictNumEj))\n",
    " \n",
    "    return  dictNumEj"
   ]
  },
  {
   "cell_type": "code",
   "execution_count": null,
   "metadata": {
    "collapsed": true
   },
   "outputs": [],
   "source": [
    "\"\"\"\n",
    "listEvents = [\"problem_check\"]\n",
    "dictNumEj = {}\n",
    "\n",
    "problemsAllWeek = eventsFiltering(eventsDF, listEvents)\n",
    "\n",
    "\n",
    "dictNumEj = createDictByList(problemsAllWeek,dictNumEj)\n",
    "print(dictNumEj)\n",
    "\n",
    "\"\"\"\n",
    "\n",
    "#Ya no hace falta hacerlo lo leemos de un fichero."
   ]
  },
  {
   "cell_type": "markdown",
   "metadata": {},
   "source": [
    "#### Cargamos de un fichero el id del problema y el numero de ejercicios en un diccionario"
   ]
  },
  {
   "cell_type": "code",
   "execution_count": null,
   "metadata": {
    "collapsed": true
   },
   "outputs": [],
   "source": [
    "import json\n",
    "\n",
    "#with open('dictNumEj.json', 'w') as fp: #Para guardar el dict de numero\n",
    "       #json.dump(dictNumEj, fp)\n",
    "    \n",
    "#tenemos que tener en cuenta que en la segunda edicion del curso de android tenemos menos problemas tenemos que pasarle el diccionario de la edicion1\n",
    "#con los numEjercicios.\n",
    "\n",
    "with open('dictNumEj.json') as data_file:\n",
    "     dictNumEj = json.load(data_file)\n",
    "        \n",
    "dictNumEj = {int(k):int(v) for k,v in dictNumEj.items()}\n",
    "dictNumEj"
   ]
  },
  {
   "cell_type": "markdown",
   "metadata": {
    "collapsed": true
   },
   "source": [
    "**Funciones auxiliares que necesitamos para las características de los problemas**"
   ]
  },
  {
   "cell_type": "code",
   "execution_count": null,
   "metadata": {
    "collapsed": true
   },
   "outputs": [],
   "source": [
    "#Transforma un diccionario pasado por argumento en un dataframe de una sola fila para unirlo a otro\n",
    "def dictToDataframe(dictToDf):\n",
    "   \n",
    "    \n",
    "    return pd.DataFrame(dictToDf,index=[0,])\n",
    "\n",
    "#Crea un diccionario con numero de intentos a 0 y resultado del problema a -1\n",
    "def createDictByNameProblems(dfProblems):\n",
    "    \n",
    "    dictNamePro = {}\n",
    "    listColumnName = dfProblems.columns\n",
    "    \n",
    "    for name in listColumnName:\n",
    "        \n",
    "        if name.find(\"Intentos\"):\n",
    "            dictNamePro[name] = -1\n",
    "        else:\n",
    "            dictNamePro[name] = 0 \n",
    "    return dictNamePro\n",
    "\n",
    "#Crea un dataframe vacio pero con el nombre de las columnas entre el problema inicial y el final\n",
    "def createDataframeProblems(problemIni,problemFin):\n",
    "    listProblems = []\n",
    "\n",
    "    for numPr in range(problemIni-1,int(problemFin)):\n",
    "\n",
    "        for numEj in range(dictNumEj[numPr+1]):\n",
    "            stringIntentos = \"Intentos_\"+str(numPr+1)+\"_\"+str(numEj+1)\n",
    "            stringPr = \"Problema_\"+str(numPr+1)+\"_\"+str(numEj+1)\n",
    "            listProblems.append(stringIntentos)\n",
    "            listProblems.append(stringPr)\n",
    "\n",
    "    listProblems.insert(0,\"Usuario\")\n",
    "\n",
    "    dfProblems = pd.DataFrame(columns=listProblems)\n",
    "    return dfProblems"
   ]
  },
  {
   "cell_type": "markdown",
   "metadata": {},
   "source": [
    "**Funciones de las características de los problemas**"
   ]
  },
  {
   "cell_type": "code",
   "execution_count": null,
   "metadata": {
    "collapsed": true
   },
   "outputs": [],
   "source": [
    "def countCorrectProblemsByList(listResProblem,dictNamePro):\n",
    "    \n",
    "   \n",
    "    #A veces la lista resultado puede venir vacia por error de edX por lo tanto salimos de la función\n",
    "    if listResProblem[\"resultados\"] == []:\n",
    "        return \n",
    "    \n",
    "    #AQUI HAY QUE RECORRER LOS RESULTADOS MODIFICANDO EL DICCIONARIO\n",
    "    intento = 1\n",
    "    for resultado in listResProblem[\"resultados\"]:\n",
    "        dictNamePro[\"Intentos_\"+listResProblem[\"id_natural\"]+\"_\"+str(intento)]= listResProblem[\"num_intentos\"]\n",
    "        \n",
    "        if resultado[\"correcto\"] == \"True\":\n",
    "            dictNamePro[\"Problema_\"+listResProblem[\"id_natural\"]+\"_\"+str(intento)]= 1\n",
    "        else:\n",
    "            dictNamePro[\"Problema_\"+listResProblem[\"id_natural\"]+\"_\"+str(intento)]= 0\n",
    "\n",
    "        intento = intento+1\n",
    "        \n",
    "    \n",
    "    return dictNamePro\n",
    "    \n",
    "    \n",
    "    \n",
    "def problemsFeaturesByList(row,dictName):\n",
    "    \n",
    "    global dfPro_Empty\n",
    "    \n",
    "   \n",
    "    user =  row[\"Usuario\"]\n",
    "    \n",
    "    dictNamePro = dictName.copy()\n",
    "    dictNamePro[\"Usuario\"]=user\n",
    "    \n",
    "    #Si tenemos lista de eventos vacia no ha hecho problemas asique incluimos 0 y -1 altenativamente\n",
    "    if row[\"Eventos\"]==[]:\n",
    "        rowDf = dictToDataframe(dictNamePro)\n",
    "        dfPro_Empty = dfPro_Empty.append(rowDf)\n",
    "        return\n",
    "         \n",
    "    \n",
    "    df = pd.DataFrame(row[\"Eventos\"])\n",
    "    df.apply(lambda x: countCorrectProblemsByList(x,dictNamePro),axis=1)\n",
    "    \n",
    "    rowDf = dictToDataframe(dictNamePro)\n",
    "    dfPro_Empty = dfPro_Empty.append(rowDf)\n",
    "    \n",
    "    return\n",
    "\n",
    "def problemsFeatures(eventsDF,dictName):\n",
    "    \n",
    "    \n",
    "    eventsDFFiltered = eventsDF.copy()\n",
    "    \n",
    "    eventsDF.apply(lambda row: problemsFeaturesByList(row,dictName),axis=1)\n",
    "    \n",
    "    \n",
    "    return dfPro_Empty"
   ]
  },
  {
   "cell_type": "markdown",
   "metadata": {},
   "source": [
    "#### ATENCIÓN LA SIGUIENTE CELDA ES PARA TENER EN CUENTA SOLO LOS PROBLEMAS DE LA SEMANA ACTUAL, ES DECIR CUENTA LOS PROBLEMAS CORRECTO, INCORRECTOS O NO REALIZADOS SOLO SI LOS PROBLEMAS SON DE ESA SEMANA.!!! NO ESTAN UTILIZADAS ESTAS CARACTERÍSTICAS EN EL TFM DE MIGUEL"
   ]
  },
  {
   "cell_type": "code",
   "execution_count": null,
   "metadata": {
    "collapsed": true
   },
   "outputs": [],
   "source": [
    "\"\"\"\n",
    "listEvents = [\"problem_check\"]\n",
    "\n",
    "df_Problems= {}\n",
    "df_Pr={} #Final\n",
    "problemsByWeek=[0,47,79,91,109,133,138] #numero del ultimo problema de esa semana\n",
    "indexList = 0\n",
    "\n",
    "for week in sorted(eventsWeek):\n",
    "   \n",
    "    #Filtrar eventos por semana\n",
    "    df_Problems[week] = eventsFiltering(eventsWeek[week], listEvents)\n",
    "    \n",
    "    #Crear dataframe vacio con lista de atributos de los problemas, num_intentos,y resultado del problema\n",
    "    dfPro_Empty = createDataframeProblems(problemsByWeek[indexList]+1,problemsByWeek[indexList+1])\n",
    "    \n",
    "    #indice para recorrer la lista anterior con el numero del ultimo problema por semana\n",
    "    indexList = indexList+1\n",
    "    \n",
    "    #Nos guardamos el orden de las columnas para ordenar el dataframe despues\n",
    "    colsOrder = dfPro_Empty.columns\n",
    "    \n",
    "    #Crear diccionario con nombre de las columnas, 0 en numero de intentos y -1 en si es correcto para cada problema\n",
    "    dictName = createDictByNameProblems(dfPro_Empty)\n",
    "    \n",
    "    #Extraemos las caracteristicas de los problemas que se guardan en dfPro_Empty como variable global\n",
    "    problemsFeatures(df_Problems[week],dictName)\n",
    "    \n",
    "    #Resetamos el indice y ordenamos las columnas\n",
    "    dfPro_Empty = dfPro_Empty.reset_index(drop=True)\n",
    "    dfPro_Empty = dfPro_Empty[colsOrder]\n",
    "    \n",
    "    #Copiamos el dfPro_Empty al dataframe Final de los problemas\n",
    "    df_Pr[week]=dfPro_Empty.copy()\n",
    "   \n",
    "    \n",
    "df_Pr\n",
    "\"\"\""
   ]
  },
  {
   "cell_type": "markdown",
   "metadata": {},
   "source": [
    "#### ESTAS SI SON LAS CARACTERÍSTICAS DEL TFM DE MIGUEL YA QUE SE TIENEN EN CUENTA TODOS LOS PROBLEMAS INDEPENDIENTEMEN DE LA SEMANA A LA QUE PERTENECE EL PROBLEMA"
   ]
  },
  {
   "cell_type": "code",
   "execution_count": null,
   "metadata": {
    "collapsed": true
   },
   "outputs": [],
   "source": [
    "##ESTO ES PARA LOS PROBLEMAS NO ACUMULADOS ES DECIR LOS QUE HA HECHO ESA SEMANA INDEPENDIENTEMENTE DE LA SEMANA A LA QUE\n",
    "## PERTENEZCA EL PROBELMA\n",
    "\n",
    "\n",
    "\n",
    "listEvents = [\"problem_check\"]\n",
    "\n",
    "df_Problems= {} #Angel: AUX\n",
    "df_PrNoAc={} #Final\n",
    "problemsByWeek=[0,47,79,91,109,133,138] #numero del ultimo problema de esa semana\n",
    "indexList = 0\n",
    "\n",
    "for week in sorted(eventsWeek):\n",
    "   \n",
    "    #Filtrar eventos por semana\n",
    "    df_Problems[week] = eventsFiltering(eventsWeek[week], listEvents)\n",
    "    \n",
    "    #Crear dataframe vacio con lista de atributos de los problemas, num_intentos,y resultado del problema\n",
    "    dfPro_Empty = createDataframeProblems(1,problemsByWeek[indexList+1])\n",
    "    \n",
    "    #indice para recorrer la lista anterior con el numero del ultimo problema por semana\n",
    "    indexList = indexList+1\n",
    "    \n",
    "    #Nos guardamos el orden de las columnas para ordenar el dataframe despues\n",
    "    colsOrder = dfPro_Empty.columns\n",
    "    \n",
    "    #Crear diccionario con nombre de las columnas, 0 en numero de intentos y -1 en si es correcto para cada problema\n",
    "    dictName = createDictByNameProblems(dfPro_Empty)\n",
    "    \n",
    "    #Extraemos las caracteristicas de los problemas que se guardan en dfPro_Empty como variable global\n",
    "    problemsFeatures(df_Problems[week],dictName)\n",
    "    \n",
    "    #Resetamos el indice y ordenamos las columnas\n",
    "    dfPro_Empty = dfPro_Empty.reset_index(drop=True)\n",
    "    dfPro_Empty = dfPro_Empty[colsOrder]\n",
    "    \n",
    "    #Copiamos el dfPro_Empty al dataframe Final de los problemas\n",
    "    df_PrNoAc[week]=dfPro_Empty.copy()\n",
    "    df_PrNoAc[week] = df_PrNoAc[week].set_index('Usuario')\n",
    "\n",
    "   \n",
    "    \n",
    "df_PrNoAc"
   ]
  },
  {
   "cell_type": "markdown",
   "metadata": {},
   "source": [
    "**EN LA SIGUIENTE CELDA RENOMBRAMOS LAS CARACTERISTICAS POR SEMANA**"
   ]
  },
  {
   "cell_type": "code",
   "execution_count": null,
   "metadata": {
    "collapsed": true
   },
   "outputs": [],
   "source": [
    "for week in eventsWeek:\n",
    "    featMatrix[week].rename(columns={'NumEventos': 'NumEventos_'+week,\n",
    "                                     'NumInteraccVideos': 'NumInteraccVideos_'+week,\n",
    "                                     'NumProblemas': 'NumProblemas_'+week,\n",
    "                                     'NumProyecto': 'NumProyecto_'+week,\n",
    "                                     'NumDocs': 'NumDocs_'+week,\n",
    "                                     'numInteraccForo': 'numInteraccForo_'+week,\n",
    "                                     'Total words': 'Total_words_'+week,\n",
    "                                     'self-evaluationPoints': 'self-evaluationPoints_'+week,\n",
    "                                     'numAttemps': 'numAttemps_'+week,\n",
    "                                     'numCorrect': 'numCorrect_'+week}, inplace=True) \n",
    "    \n",
    "featMatrix"
   ]
  },
  {
   "cell_type": "markdown",
   "metadata": {},
   "source": [
    "** En la siguiente celda seleccionamos el criterio de abandono a tener en cuenta, es decir, el target.**"
   ]
  },
  {
   "cell_type": "code",
   "execution_count": null,
   "metadata": {
    "collapsed": true
   },
   "outputs": [],
   "source": [
    "# Este criterio de dropout toma el dataframe eventsDF\n",
    "target = dropoutCrit2(eventsDF, SEM)\n",
    "\n",
    "for week in sorted(target):\n",
    "        target[week]=target[week].set_index('Usuario')\n",
    "target"
   ]
  },
  {
   "cell_type": "markdown",
   "metadata": {},
   "source": [
    "** EN LA SIGUIENTE CELDA CARGAMOS LA LISTA DE USUARIOS CON SU NOTA EN EL EXAMEN FINAL **"
   ]
  },
  {
   "cell_type": "code",
   "execution_count": null,
   "metadata": {
    "collapsed": true
   },
   "outputs": [],
   "source": [
    "import pandas as pd\n",
    "dfNota = csvToDf(\"NotaUsuariosEd2.csv\")\n",
    "dfNota = dfNota.set_index('Usuario')\n",
    "dfNota.index = dfNota.index.map(str)\n",
    "dfNota"
   ]
  },
  {
   "cell_type": "markdown",
   "metadata": {},
   "source": [
    "**VAMOS A CREAR LOS DATAFRAMES DE PREDICCION POR SEMANAS AÑADIENDO EL TARGET Y LAS CARACTERISTICAS QUE SON LAS MISMAS PARA TODAS LAS SEMANAS POR EJEMPLO EL NUMERO DE PROBLEMAS CORRECTOS EN LA AUTOEVALUACION**"
   ]
  },
  {
   "cell_type": "code",
   "execution_count": null,
   "metadata": {
    "collapsed": true
   },
   "outputs": [],
   "source": [
    "def combineFeat2(featList): #Este combineFeat combina los dataframe de semanas y el target eliminand aquellos que su usuario es vacio \n",
    "    #y añade 0 aquellos que vamos a predecir pero no salen en alguna semana\n",
    "    import pandas as pd\n",
    "    \n",
    "    dfold = featList[0].copy()\n",
    "    \n",
    "    for ind in range(1,len(featList)):\n",
    "        dfnew = featList[ind].copy()\n",
    "        del dfold['Usuario']\n",
    "        dfold = pd.concat([dfold, dfnew], axis=1)\n",
    "    dfold = dfold.dropna(subset=[\"Usuario\"])\n",
    "    dfold = dfold.fillna(0)\n",
    "    return dfold"
   ]
  },
  {
   "cell_type": "code",
   "execution_count": null,
   "metadata": {
    "collapsed": true
   },
   "outputs": [],
   "source": [
    "#FUNCION QUE RECIBE UN DICCIONARIO DE DATAFRAMES Y TRANSFORMA TODAS SUS COLUMNAS A TIPO ENTERO EXCEPTO SI ES LA DE LA NOTA \"Final\"\n",
    "def typeIntDf(df):\n",
    "#Por ultimo convertimos todas las columnas a tipo entero\n",
    "    for week in df:\n",
    "\n",
    "        for col in list(df[week].columns):\n",
    "            if col == \"Final\":#Estamos prediciendo la nota final asique no tiene que ser un entero\n",
    "                continue\n",
    "            df[week][col] = df[week][col].astype(int)\n",
    "    return df"
   ]
  },
  {
   "cell_type": "markdown",
   "metadata": {},
   "source": [
    "**La siguiente celda combina las caracteristicas generales a partir del diccionario de dataframes **"
   ]
  },
  {
   "cell_type": "code",
   "execution_count": null,
   "metadata": {
    "collapsed": true
   },
   "outputs": [],
   "source": [
    "def combinarFeatures(featMatrix):\n",
    "    \n",
    "    dfToPredictFeat = {}\n",
    "    listaSemanas = []\n",
    "    \n",
    "    for week in sorted(featMatrix):\n",
    "        listaSemanas.append(featMatrix[week])\n",
    "\n",
    "        dfToPredictFeat[week] = combineFeat2(listaSemanas)#Este combine feat añade 0 en caso de que no haya hecho eventos esa semana\n",
    "            \n",
    "    return dfToPredictFeat\n",
    "\n"
   ]
  },
  {
   "cell_type": "code",
   "execution_count": null,
   "metadata": {
    "collapsed": true
   },
   "outputs": [],
   "source": [
    "dfWithFeat= combinarFeatures(featMatrix)\n",
    "dfWithFeat"
   ]
  },
  {
   "cell_type": "markdown",
   "metadata": {},
   "source": [
    "**En la siguiente celda incluimos la nota de la autoevaluacion en java ya que es la misma para todas las semanas**"
   ]
  },
  {
   "cell_type": "code",
   "execution_count": null,
   "metadata": {
    "collapsed": true,
    "scrolled": true
   },
   "outputs": [],
   "source": [
    "def combinarAE(eventsProbAE,feats):\n",
    "    dfWithFeatAe = {}\n",
    "    for week in sorted(feats):\n",
    "        listaSemanas = []\n",
    "        listaSemanas.append(feats[week])\n",
    "        listaSemanas.insert(0,eventsProbAE)\n",
    "        dfWithFeatAe[week] = combineFeat(listaSemanas)\n",
    "        dfWithFeatAe[week] = dfWithFeatAe[week].set_index('Usuario')\n",
    "        \n",
    "    return dfWithFeatAe \n",
    "\n",
    "\n"
   ]
  },
  {
   "cell_type": "code",
   "execution_count": null,
   "metadata": {
    "collapsed": true
   },
   "outputs": [],
   "source": [
    "dfWithFeat = combinarAE(eventsProbAE,dfWithFeat)\n",
    "dfWithFeat"
   ]
  },
  {
   "cell_type": "markdown",
   "metadata": {},
   "source": [
    "#### EN LA SIGUIENTE CELDA SE CREA LA FUNCION QUE COMBINA DOS DICCIONARIOS DE CARACTERISTICAS POR SEMANA.\n",
    "#### ATENCIÓN: EL ÍNDICE DEL DATAFRAME TIENE QUE SER EL ID DEL USUARIO"
   ]
  },
  {
   "cell_type": "code",
   "execution_count": null,
   "metadata": {
    "collapsed": true
   },
   "outputs": [],
   "source": [
    "#PARA COMBINAR DOS TIPOS CARACTERISTICAS, EJ: Problemas y Transiciones \n",
    "#Para ello el indice tienen que ser los usuarios\n",
    "def combineTwoDict(dict1,dict2):\n",
    "    \n",
    "    dfToPredictFeat = {}\n",
    "    \n",
    "    for week in sorted(dict1):\n",
    "                                  \n",
    "        dfToPredictFeat[week] = pd.concat([dict1[week], dict2[week]], axis=1)\n",
    "            \n",
    "    return dfToPredictFeat"
   ]
  },
  {
   "cell_type": "code",
   "execution_count": null,
   "metadata": {
    "collapsed": true
   },
   "outputs": [],
   "source": [
    "dfToPredictCombined = combineTwoDict(df_PrNoAc,dfWithFeat)\n",
    "dfToPredictCombined"
   ]
  },
  {
   "cell_type": "markdown",
   "metadata": {},
   "source": [
    "** EN LA SIGUIENTE CELDA SE CREA UNA FUNCIÓN QUE COMBINA EL TARGET DE LA NOTA CON LOS DATAFRAMES POR SEMANA**"
   ]
  },
  {
   "cell_type": "code",
   "execution_count": null,
   "metadata": {
    "collapsed": true
   },
   "outputs": [],
   "source": [
    "#COMBINARR la nota SOLO\n",
    "def combinarNota(target,feats):\n",
    "    dfWithTarget = {}\n",
    "    \n",
    "    for week in sorted(feats):\n",
    "        \n",
    "        dfWithTarget[week] = pd.concat([feats[week],target], axis=1)\n",
    "        dfWithTarget[week] = dfWithTarget[week].dropna(how='any') \n",
    "        \n",
    "    return dfWithTarget   \n"
   ]
  },
  {
   "cell_type": "code",
   "execution_count": null,
   "metadata": {
    "collapsed": true
   },
   "outputs": [],
   "source": [
    "dfToPredictPrNoAc = combinarNota(dfNota,df_PrNoAc)\n",
    "dfToPredictPrNoAc"
   ]
  },
  {
   "cell_type": "code",
   "execution_count": null,
   "metadata": {
    "collapsed": true
   },
   "outputs": [],
   "source": [
    "dfToPredictFt = combinarNota(dfNota,dfWithFeat)\n",
    "dfToPredictFt"
   ]
  },
  {
   "cell_type": "code",
   "execution_count": null,
   "metadata": {
    "collapsed": true
   },
   "outputs": [],
   "source": [
    "dfToPredict2 = combinarNota(dfNota,dfToPredictCombined)\n",
    "dfToPredict2"
   ]
  },
  {
   "cell_type": "markdown",
   "metadata": {},
   "source": [
    "** EN LA SIGUIENTE CELDA SE CREA UNA FUNCIÓN QUE COMBINA EL TARGET DEL ABANDONO CON LOS DATAFRAMES POR SEMANA**"
   ]
  },
  {
   "cell_type": "code",
   "execution_count": null,
   "metadata": {
    "collapsed": true
   },
   "outputs": [],
   "source": [
    "#COMBINARR EL TARGET SOLO\n",
    "def combinarTarget(target,feats):\n",
    "    dfWithTarget = {}\n",
    "    \n",
    "    for week in sorted(target):\n",
    "        \n",
    "        dfWithTarget[week] = pd.concat([target[week],feats[week]], axis=1)\n",
    "        dfWithTarget[week] = dfWithTarget[week].dropna(how='any') \n",
    "    return dfWithTarget   \n"
   ]
  },
  {
   "cell_type": "code",
   "execution_count": null,
   "metadata": {
    "collapsed": true
   },
   "outputs": [],
   "source": [
    "#for week in df_Pr:\n",
    "#    df_Pr[week] = df_Pr[week].set_index('Usuario')\n",
    "    \n",
    "#dfToPredictPr = combinarTarget(target,df_Pr)#Problemas sin acumular\n",
    "#dfToPredictPr"
   ]
  },
  {
   "cell_type": "code",
   "execution_count": null,
   "metadata": {
    "collapsed": true
   },
   "outputs": [],
   "source": [
    "dfToPredictPrNoAc = combinarTarget(target,df_PrNoAc)\n",
    "dfToPredictPrNoAc"
   ]
  },
  {
   "cell_type": "code",
   "execution_count": null,
   "metadata": {
    "collapsed": true
   },
   "outputs": [],
   "source": [
    "dfToPredictFt = combinarTarget(target,dfWithFeat)\n",
    "dfToPredictFt"
   ]
  },
  {
   "cell_type": "code",
   "execution_count": null,
   "metadata": {
    "collapsed": true
   },
   "outputs": [],
   "source": [
    "dfToPredict2 = combinarTarget(target,dfToPredictCombined)\n",
    "dfToPredict2"
   ]
  },
  {
   "cell_type": "markdown",
   "metadata": {},
   "source": [
    "**RESETEAMOS EL INDICE Y PONEMOS LA COLUMNA USUARIO DE NUEVO\n",
    "A CONTINACIÓN SE VA A GUARDAR LAS CARACTERÏSTICAS EN FUNCIÓN DEL ARGUMENTO QUE PASEMOS A LA FUCIÓN changeIndexColUser,\n",
    "POR EJEMPLO SI QUEREMOS GUARDAR LAS CARACTERISTICAS DE LOS PROBLEMAS SOLO TENEMOS QUE PASARLE changeIndexColUser(dfToPredictPrNoAc) **"
   ]
  },
  {
   "cell_type": "code",
   "execution_count": null,
   "metadata": {
    "collapsed": true
   },
   "outputs": [],
   "source": [
    "\n",
    "def changeIndexColUser(dfDict):\n",
    "    for week in dfDict:\n",
    "        dfDict[week].reset_index(level=0, inplace=True)\n",
    "        dfDict[week].rename(columns={'index': 'Usuario'}, inplace=True) \n",
    "\n",
    "    return dfDict"
   ]
  },
  {
   "cell_type": "code",
   "execution_count": null,
   "metadata": {
    "collapsed": true
   },
   "outputs": [],
   "source": [
    "dfToPredict = changeIndexColUser(dfToPredictFt)#cambiar en funcion del dataframe que guardemos\n",
    "dfToPredict"
   ]
  },
  {
   "cell_type": "code",
   "execution_count": null,
   "metadata": {
    "collapsed": true
   },
   "outputs": [],
   "source": []
  },
  {
   "cell_type": "markdown",
   "metadata": {
    "collapsed": true
   },
   "source": [
    "**AHORA VAMOS A COLOCAR EL TARGET EN LA ULTIMA POSICIÓN y el usuario en primera**"
   ]
  },
  {
   "cell_type": "code",
   "execution_count": null,
   "metadata": {
    "collapsed": true
   },
   "outputs": [],
   "source": []
  },
  {
   "cell_type": "code",
   "execution_count": null,
   "metadata": {
    "collapsed": true
   },
   "outputs": [],
   "source": [
    "\n",
    "\n",
    "def orderColToPredict(dfToPredict,nameTarget):\n",
    "    dfFinal={}\n",
    "    for week in dfToPredict:\n",
    "\n",
    "        columnas = dfToPredict[week].columns.tolist()\n",
    "\n",
    "        columnas.remove(nameTarget)\n",
    "        columnas.append(nameTarget)\n",
    "        columnas.remove(\"Usuario\")\n",
    "        columnas.insert(0,\"Usuario\")\n",
    "\n",
    "        dfFinal[week]=dfToPredict[week][columnas]\n",
    "    return dfFinal\n",
    "    \n",
    " "
   ]
  },
  {
   "cell_type": "code",
   "execution_count": null,
   "metadata": {
    "collapsed": true
   },
   "outputs": [],
   "source": [
    "dfFinal = orderColToPredict(dfToPredict,\"Final\")\n",
    "dfFinal[\"Week1\"]"
   ]
  },
  {
   "cell_type": "code",
   "execution_count": null,
   "metadata": {
    "collapsed": true
   },
   "outputs": [],
   "source": [
    "#TRANSFORMAMOS TODAS LAS COLUMNAS A ENTERO MENOS EN CASO DE LA NOTA\n",
    "dfFinal = typeIntDf(dfFinal)\n",
    "dfFinal"
   ]
  },
  {
   "cell_type": "markdown",
   "metadata": {
    "collapsed": true
   },
   "source": [
    "**Ahora guardamos los diccionarios en csv para predecir**"
   ]
  },
  {
   "cell_type": "code",
   "execution_count": null,
   "metadata": {
    "collapsed": true
   },
   "outputs": [],
   "source": []
  },
  {
   "cell_type": "code",
   "execution_count": null,
   "metadata": {
    "collapsed": true
   },
   "outputs": [],
   "source": [
    "def dicToCsv(name,dictW):\n",
    "    for week in dictW:\n",
    "        filename= name+\"_\"+week+\".csv\"\n",
    "        dfToCsv(dictW[week],filename)\n",
    " "
   ]
  },
  {
   "cell_type": "code",
   "execution_count": null,
   "metadata": {
    "collapsed": true
   },
   "outputs": [],
   "source": [
    "dicToCsv(\"NuevosAtributos\",dfFinal)"
   ]
  },
  {
   "cell_type": "code",
   "execution_count": null,
   "metadata": {
    "collapsed": true
   },
   "outputs": [],
   "source": [
    "dfleido = csvToDf(\"semana_Week1.csv\");\n",
    "dfleido"
   ]
  },
  {
   "cell_type": "code",
   "execution_count": null,
   "metadata": {
    "collapsed": true
   },
   "outputs": [],
   "source": []
  },
  {
   "cell_type": "code",
   "execution_count": null,
   "metadata": {
    "collapsed": true
   },
   "outputs": [],
   "source": []
  },
  {
   "cell_type": "code",
   "execution_count": null,
   "metadata": {
    "collapsed": true
   },
   "outputs": [],
   "source": []
  },
  {
   "cell_type": "code",
   "execution_count": null,
   "metadata": {
    "collapsed": true
   },
   "outputs": [],
   "source": []
  }
 ],
 "metadata": {
  "kernelspec": {
   "display_name": "Python 3",
   "language": "python",
   "name": "python3"
  },
  "language_info": {
   "codemirror_mode": {
    "name": "ipython",
    "version": 3
   },
   "file_extension": ".py",
   "mimetype": "text/x-python",
   "name": "python",
   "nbconvert_exporter": "python",
   "pygments_lexer": "ipython3",
   "version": "3.6.4"
  }
 },
 "nbformat": 4,
 "nbformat_minor": 2
}
