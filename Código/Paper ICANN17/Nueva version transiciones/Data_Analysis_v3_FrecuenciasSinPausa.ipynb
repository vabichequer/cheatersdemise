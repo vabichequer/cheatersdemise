{
 "cells": [
  {
   "cell_type": "markdown",
   "metadata": {},
   "source": [
    "<a name=\"Inicio\"></a>\n",
    "# Data Analysis\n",
    "\n",
    "#### Autor: *Ángel Pérez Lemonche*\n",
    "\n",
    "\n",
    "## Descripción general\n",
    "\n",
    "Este script utiliza las matrices de transición generadas en \"Learning Paths with General *bricks*\" con el fin de analizar el contenido de los datos para tomar futuras decisiones. Se puede realizar el mismo proceso utilizando **vectores de frecuencias**, normalizando por el número total de transiciones por semanas."
   ]
  },
  {
   "cell_type": "code",
   "execution_count": null,
   "metadata": {
    "collapsed": true
   },
   "outputs": [],
   "source": []
  },
  {
   "cell_type": "markdown",
   "metadata": {},
   "source": [
    "### Importación de librerías y declaración de funciones"
   ]
  },
  {
   "cell_type": "code",
   "execution_count": 1,
   "metadata": {},
   "outputs": [
    {
     "ename": "ModuleNotFoundError",
     "evalue": "No module named 'auxiliares'",
     "output_type": "error",
     "traceback": [
      "\u001b[0;31m---------------------------------------------------------------------------\u001b[0m",
      "\u001b[0;31mModuleNotFoundError\u001b[0m                       Traceback (most recent call last)",
      "\u001b[0;32m<ipython-input-1-3c36ed338c46>\u001b[0m in \u001b[0;36m<module>\u001b[0;34m()\u001b[0m\n\u001b[1;32m      9\u001b[0m \u001b[0;32mimport\u001b[0m \u001b[0mimp\u001b[0m\u001b[0;34m\u001b[0m\u001b[0m\n\u001b[1;32m     10\u001b[0m \u001b[0;32mimport\u001b[0m \u001b[0mmyfunclib\u001b[0m \u001b[0;32mas\u001b[0m \u001b[0mmf\u001b[0m\u001b[0;34m\u001b[0m\u001b[0m\n\u001b[0;32m---> 11\u001b[0;31m \u001b[0;32mimport\u001b[0m \u001b[0mauxiliares\u001b[0m \u001b[0;32mas\u001b[0m \u001b[0max\u001b[0m\u001b[0;34m\u001b[0m\u001b[0m\n\u001b[0m\u001b[1;32m     12\u001b[0m \u001b[0;31m#import transiciones as tr\u001b[0m\u001b[0;34m\u001b[0m\u001b[0;34m\u001b[0m\u001b[0m\n\u001b[1;32m     13\u001b[0m \u001b[0;32mimport\u001b[0m \u001b[0mmyValFunctions\u001b[0m \u001b[0;32mas\u001b[0m \u001b[0mvf\u001b[0m\u001b[0;34m\u001b[0m\u001b[0m\n",
      "\u001b[0;31mModuleNotFoundError\u001b[0m: No module named 'auxiliares'"
     ]
    }
   ],
   "source": [
    "# Librerías generales\n",
    "import numpy as np\n",
    "import pandas as pd\n",
    "import time\n",
    "\n",
    "import sys\n",
    "sys.path.insert(0, './lib/')\n",
    "\n",
    "import imp\n",
    "import myfunclib as mf\n",
    "import auxiliares as ax\n",
    "#import transiciones as tr\n",
    "import myValFunctions as vf\n",
    "import myClusteringFunctions as cf\n",
    "\n",
    "\n",
    "# Librerías propias\n",
    "mf = imp.reload(mf)\n",
    "ax = imp.reload(ax)\n",
    "#tr = imp.reload(tr)\n",
    "\n",
    "vf = imp.reload(vf)\n",
    "cf = imp.reload(cf)\n",
    "\n",
    "\n",
    "pd.set_option('display.max_columns', 30)\n",
    "from IPython.core.display import display, HTML, clear_output\n",
    "\n",
    "# Librerías ML\n",
    "from sklearn.cluster import KMeans\n",
    "\n",
    "# Gráficos\n",
    "import matplotlib.pyplot as plt\n",
    "%matplotlib inline\n",
    "\n",
    "from matplotlib import style\n",
    "#style.use(\"ggplot\")\n",
    "plt.rcParams[\"figure.figsize\"] = [5,5]"
   ]
  },
  {
   "cell_type": "code",
   "execution_count": null,
   "metadata": {
    "collapsed": true
   },
   "outputs": [],
   "source": []
  },
  {
   "cell_type": "markdown",
   "metadata": {
    "collapsed": true
   },
   "source": [
    "Cargamos el fichero de entrada"
   ]
  },
  {
   "cell_type": "code",
   "execution_count": 2,
   "metadata": {
    "collapsed": true
   },
   "outputs": [],
   "source": [
    "# Diccionario semana\n",
    "\n",
    "from datetime import datetime\n",
    "\n",
    "### EDICION 1 ##\n",
    "\n",
    "sem1 = datetime(2015,2,24)\n",
    "sem2 = datetime(2015,3,3)\n",
    "sem3 = datetime(2015,3,10)\n",
    "sem4 = datetime(2015,3,17)\n",
    "sem5 = datetime(2015,3,24)\n",
    "sem6 = datetime(2015,3,31)\n",
    "sem7 = datetime(2015,4,7)\n",
    "sem8 = datetime(2015,4,14)\n",
    "\n",
    "\"\"\"\n",
    "###EDICION 2 ##\n",
    "\n",
    "sem1 = datetime(2015,10,5)\n",
    "sem2 = datetime(2015,10,12)\n",
    "sem3 = datetime(2015,10,19)\n",
    "sem4 = datetime(2015,10,26)\n",
    "sem5 = datetime(2015,11,2)\n",
    "sem6 = datetime(2015,11,9)\n",
    "sem7 = datetime(2015,11,16)\n",
    "sem8 = datetime(2015,11,23)\n",
    "\"\"\"\n",
    "\n",
    "SEM = {\"Week1\": [sem1, sem2],\n",
    "       \"Week2\": [sem2, sem3],\n",
    "       \"Week3\": [sem3, sem4],\n",
    "       \"Week4\": [sem4, sem5],\n",
    "       \"Week5\": [sem5, sem6],\n",
    "       \"Week6\": [sem6, sem7]}"
   ]
  },
  {
   "cell_type": "code",
   "execution_count": null,
   "metadata": {},
   "outputs": [],
   "source": [
    "# Cargamos el fichero de trabajo\n",
    "filename = \"files/eventos_final.json\"\n",
    "\n",
    "eventsDFRaw = ax.readDataFile(filename)\n",
    "eventsDFRawT = eventsDFRaw[eventsDFRaw['Usuario'] != '']\n",
    "print(\"Tamaño:\",len(eventsDFRaw))\n",
    "print(eventsDFRaw.head(10))\n"
   ]
  },
  {
   "cell_type": "code",
   "execution_count": null,
   "metadata": {
    "collapsed": true
   },
   "outputs": [],
   "source": [
    "eventsDFRaw = eventsDFRawT"
   ]
  },
  {
   "cell_type": "code",
   "execution_count": null,
   "metadata": {},
   "outputs": [],
   "source": [
    "# Filtrado por usuario: eliminamos los que hayan realizado\n",
    "#  menos de 50 eventos en el curso\n",
    "minEvents = 50\n",
    "\n",
    "eventsDF = ax.dataFiltering(eventsDFRaw, minEvents);\n",
    "print(\"Tamaño:\",len(eventsDF))   \n",
    "print(eventsDF.head(10))"
   ]
  },
  {
   "cell_type": "code",
   "execution_count": null,
   "metadata": {},
   "outputs": [],
   "source": [
    "# Transiciones x semana\n",
    "dicEvents = {\n",
    "    'V' : ['play_video', 'seek_video'],\n",
    "    'N' : ['problem_check'],\n",
    "    'F' : ['edx.forum.searched', 'edx.forum.comment.created', \n",
    "           'edx.forum.response.created', 'edx.forum.thread.created'],\n",
    "    'P' : ['openassessmentblock.self_assess'],\n",
    "    'D' : ['textbook.pdf.chapter.navigated']\n",
    "}\n",
    "\n",
    "param = {'dicEvents': dicEvents,\n",
    "        'assignationProblemCheckFile': 'IDNaturalProblemasEd1.csv',\n",
    "        'ProblemCheckExceptions': ['J','X'],\n",
    "        'useFreq': True}\n",
    "\n",
    "\n",
    "startTotal = time.time()\n",
    "transitionsDF = tr.Transitions(eventsDF, param)\n",
    "print(\"%.2f\"%((time.time() - startTotal)/60), 'minutos.')"
   ]
  },
  {
   "cell_type": "code",
   "execution_count": null,
   "metadata": {
    "collapsed": true
   },
   "outputs": [],
   "source": [
    "transitionsDF.set_index('Usuario', inplace = True)"
   ]
  },
  {
   "cell_type": "code",
   "execution_count": null,
   "metadata": {
    "collapsed": true
   },
   "outputs": [],
   "source": [
    "#transitionsDF.to_csv('Transitionsdf.csv')"
   ]
  },
  {
   "cell_type": "markdown",
   "metadata": {},
   "source": [
    "Reducción de dimensionalidad"
   ]
  },
  {
   "cell_type": "code",
   "execution_count": null,
   "metadata": {
    "collapsed": true,
    "scrolled": true
   },
   "outputs": [],
   "source": [
    "# Selección de características\n",
    "\n",
    "def MinMaxNorm(series):\n",
    "    minim = series.min()\n",
    "    maxim = series.max()\n",
    "    return (series-minim)/(maxim-minim)\n",
    "\n",
    "def TotalNorm(series):\n",
    "    return series/series.sum()\n",
    "\n",
    "def ZNorm(series):\n",
    "    mean = series.mean()\n",
    "    std = series.std()\n",
    "    return (series-mean)/std\n",
    "\n",
    "def featFrequency(featuresDF, info = .95, Normalize = None, Use_Rest = True, verbose = 1):\n",
    "    import pandas as pd\n",
    "    featDF = featuresDF.copy()\n",
    "    returnDF = featuresDF.copy()\n",
    "\n",
    "    if Normalize != None:\n",
    "        featDF = featDF.apply(lambda x: Normalize(x), axis=0)\n",
    "    \n",
    "    suma = featDF.sum(axis=0)\n",
    "    perinfo = (abs(suma)/abs(suma).sum()).sort_values(ascending=False)\n",
    "    cumsum = perinfo.cumsum()\n",
    "\n",
    "    featInfo = pd.concat([perinfo, cumsum], axis = 1)\n",
    "    featInfo.columns = ['percentage', 'cumsum']\n",
    "    featInfo['selection'] = (featInfo['cumsum'] < info)\n",
    "\n",
    "    returnDF = returnDF[featInfo.index[featInfo.selection]]\n",
    "\n",
    "    if Use_Rest:\n",
    "        returnDF['Rest'] = featuresDF[featInfo.index[featInfo.selection == False]].sum(axis=1)\n",
    "    \n",
    "    if verbose > 0:\n",
    "        print('From',len(featuresDF.columns),'to',len(returnDF.columns), 'selected features.')\n",
    "        if verbose == 2:\n",
    "            pd.options.display.float_format = '{:,.2f}%'.format\n",
    "            toPrint = featInfo[['percentage','cumsum']].apply(lambda x: x*100)\n",
    "            toPrint['selection'] = featInfo.selection\n",
    "            display(toPrint)\n",
    "            pd.options.display.float_format = '{:,.4f}'.format\n",
    "    \n",
    "    return returnDF, list(featInfo.index[featInfo.selection])"
   ]
  },
  {
   "cell_type": "code",
   "execution_count": null,
   "metadata": {
    "scrolled": true
   },
   "outputs": [],
   "source": [
    "featuresDF, _ = featFrequency(transitionsDF, info = .966, verbose = 2)"
   ]
  },
  {
   "cell_type": "markdown",
   "metadata": {},
   "source": [
    "### Validación"
   ]
  },
  {
   "cell_type": "code",
   "execution_count": null,
   "metadata": {
    "collapsed": true
   },
   "outputs": [],
   "source": [
    "nClusters = 10\n",
    "seed = 206\n",
    "nRepetitions = 1000\n",
    "computeClusterValidation = True\n",
    "plt.rcParams[\"figure.figsize\"] = [5,3]"
   ]
  },
  {
   "cell_type": "code",
   "execution_count": null,
   "metadata": {},
   "outputs": [],
   "source": [
    "if computeClusterValidation:\n",
    "    av, st = vf.interClusterDistKMeans(featuresDF, nClusters = nClusters, nRandomStates = nRepetitions, \n",
    "                                    seed = seed, plot = True)"
   ]
  },
  {
   "cell_type": "code",
   "execution_count": null,
   "metadata": {},
   "outputs": [],
   "source": [
    "if computeClusterValidation:\n",
    "    av, st = vf.BICCriterionKMeans(featuresDF, nClusters = nClusters, nRandomStates = nRepetitions, \n",
    "                                    seed = seed, plot = True)"
   ]
  },
  {
   "cell_type": "code",
   "execution_count": null,
   "metadata": {},
   "outputs": [],
   "source": [
    "if computeClusterValidation:\n",
    "    av, st = vf.closestCentroidDistKMeans(featuresDF, nClusters = nClusters, nInit = nRepetitions, \n",
    "                                    seed = seed, plot = True)"
   ]
  },
  {
   "cell_type": "code",
   "execution_count": null,
   "metadata": {},
   "outputs": [],
   "source": [
    "if computeClusterValidation:\n",
    "    plt.figure(figsize=(6,9))\n",
    "    av, st = vf.silhouetteKMeans(featuresDF, nClusters = nClusters, nInit = nRepetitions, \n",
    "                                    seed = seed, plot = True)"
   ]
  },
  {
   "cell_type": "code",
   "execution_count": null,
   "metadata": {
    "collapsed": true
   },
   "outputs": [],
   "source": []
  },
  {
   "cell_type": "code",
   "execution_count": null,
   "metadata": {
    "collapsed": true
   },
   "outputs": [],
   "source": [
    "# EVALUATE THE PARAMETERS OF THE MODEL\n",
    "\n",
    "from sklearn.cluster import KMeans\n",
    "model = KMeans()\n",
    "\n",
    "param_grid = {\n",
    "    'n_clusters' : [6],\n",
    "    'algorithm' : ['auto', 'full'],\n",
    "    'init' : ['k-means++', 'random'],\n",
    "    'n_init' : [20],\n",
    "    'max_iter' : [200, 300],\n",
    "    'random_state' : [None]\n",
    "}\n",
    "\n",
    "ParametersEvaluation = False\n",
    "\n",
    "if ParametersEvaluation:\n",
    "    nkFolds = 50\n",
    "    scores, parameters, _ = vf.DeepCrossValidationClustering(featuresDF, 'KMeans', model, param_grid, kfold=nkFolds)\n",
    "\n",
    "    print('\\nEVALUATION\\n')\n",
    "\n",
    "    vf.evaluateResults(scores, parameters)"
   ]
  },
  {
   "cell_type": "code",
   "execution_count": null,
   "metadata": {},
   "outputs": [],
   "source": [
    "nInitializations = 1000\n",
    "nPartitions = 0\n",
    "test_size = .20\n",
    "\n",
    "model.set_params(n_clusters = 6, algorithm = 'auto', init = 'random', max_iter = 300, n_init = 50)"
   ]
  },
  {
   "cell_type": "code",
   "execution_count": null,
   "metadata": {},
   "outputs": [],
   "source": [
    "model = model.set_params(n_clusters = 6)\n",
    "\n",
    "model, bestSeed, results = vf.InitializationSeed(featuresDF, model, test_size = test_size, seed = seed,\n",
    "                                nRandomStates = nInitializations, CrossVal = nPartitions)\n",
    "print('Seed:', bestSeed)"
   ]
  },
  {
   "cell_type": "code",
   "execution_count": null,
   "metadata": {
    "collapsed": true
   },
   "outputs": [],
   "source": [
    "model = vf.CreatePartitionAndFitSelectedModel(featuresDF, model, test_size, bestSeed[0], bestSeed[1])\n",
    "labels = model.predict(featuresDF)\n",
    "centers = model.cluster_centers_"
   ]
  },
  {
   "cell_type": "code",
   "execution_count": null,
   "metadata": {},
   "outputs": [],
   "source": [
    "cf.plotCentroids(centers, labels, featuresDF.columns, sort = [], avg = False, matrix = True, textThreshold = -.01)"
   ]
  },
  {
   "cell_type": "code",
   "execution_count": null,
   "metadata": {
    "collapsed": true
   },
   "outputs": [],
   "source": [
    "alpha = 10**-1"
   ]
  },
  {
   "cell_type": "code",
   "execution_count": null,
   "metadata": {},
   "outputs": [],
   "source": [
    "DP, DC = vf.checkClusterPositions(featuresDF, model, test_size, results, alpha)\n",
    "_ =[print(\"%d%%\"%(x[0]*100),x[1],x[2],'\\n') for x in DP if (x[0]*100)>2]\n",
    "\n",
    "DC"
   ]
  },
  {
   "cell_type": "code",
   "execution_count": null,
   "metadata": {},
   "outputs": [],
   "source": [
    "plt.rcParams[\"figure.figsize\"] = [8,8]\n",
    "cf.plotVectors(centers, dimensionNames = list(featuresDF.columns), colors = [], Nlevels = 10,\n",
    "                logF = False, inv = True, minim = 0, verbose = True)"
   ]
  },
  {
   "cell_type": "code",
   "execution_count": null,
   "metadata": {},
   "outputs": [],
   "source": [
    "pd.options.display.float_format = '{:,.4f}'.format\n",
    "\n",
    "mf.showTable(pd.DataFrame(list(featuresDF.index),columns = ['users']), pd.DataFrame(labels, columns = ['labels']))"
   ]
  },
  {
   "cell_type": "code",
   "execution_count": null,
   "metadata": {
    "collapsed": true
   },
   "outputs": [],
   "source": []
  },
  {
   "cell_type": "code",
   "execution_count": null,
   "metadata": {
    "collapsed": true
   },
   "outputs": [],
   "source": []
  }
 ],
 "metadata": {
  "anaconda-cloud": {},
  "kernelspec": {
   "display_name": "Python 3",
   "language": "python",
   "name": "python3"
  },
  "language_info": {
   "codemirror_mode": {
    "name": "ipython",
    "version": 3
   },
   "file_extension": ".py",
   "mimetype": "text/x-python",
   "name": "python",
   "nbconvert_exporter": "python",
   "pygments_lexer": "ipython3",
   "version": "3.6.3"
  }
 },
 "nbformat": 4,
 "nbformat_minor": 1
}
