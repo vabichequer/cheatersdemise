{
 "cells": [
  {
   "cell_type": "markdown",
   "metadata": {
    "collapsed": true
   },
   "source": [
    "<a name=\"Inicio\"></a>\n",
    "# Learning Paths with Generic Bricks\n",
    "\n",
    "#### Autor: *Ángel Pérez Lemonche*\n",
    "\n",
    "\n",
    "## Descripción general\n",
    "-\n",
    "\n",
    "Los tipos de *brick* son los siguientes:\n",
    "\n",
    "- V: ***brick de vídeo***, de los cuales solo se consideran los eventos que están en negrita.\n",
    "    - **play_video**\n",
    "    - seek_video\n",
    "    - pause_video\n",
    "    - load_video\n",
    "    - stop_video\n",
    "    \n",
    "- E: ***brick de ejercicio (de vídeo)***. Los *brick de ejercicio* son eventos de tipo **problem_check**, pero no todos los eventos *problem_check* son ejercicios de vídeo, por eso se hace uso del orden natural de problemas y ejercicios para filtrarlos.\n",
    "\n",
    "- A: ***brick de actividad***. De igual modo, los *brick de actividad* son eventos de tipo **problem_check**, pero no todos los eventos *problem_check* son ejercicios de actividad, por eso se hace uso del orden natural de problemas y ejercicios para filtrarlos.\n",
    "\n",
    "- F: ***brick de foro***, de los cuales solo se consideran los eventos que están en negrita.\n",
    "    - **edx.forum.searched**\n",
    "    - **edx.forum.comment.created**\n",
    "    - **edx.forum.response.created**\n",
    "    - **edx.forum.thread.created**\n",
    "- P: *brick de proyecto*, de los cuales solo se consideran los eventos que están en negrita.\n",
    "    - **openassessmentblock.self_assess**\n",
    "    \n",
    "- D: *brick de documento*, de los cuales solo se consideran los eventos que están en negrita.\n",
    "    - **textbook.pdf.chapter.navigated**\n",
    "    \n",
    "- I: ***brick de ejercicio inicial***. Los *brick de ejercicio inicial* no son evaluativos y ocurren siempre en la *Semana 0*, por lo que no se incluyen en este análisis. Los *brick de ejercicio inicial* son eventos de tipo **problem_check**, pero no todos los eventos *problem_check* son ejercicios iniciales, por eso se hace uso del orden natural de problemas y ejercicios para filtrarlos.\n",
    "\n",
    "- X: ***brick de ejercicio de examen***. Los *brick de ejercicio de examen* ocurren siempre en la *Semana 7* y no se incluyen en este análisis. Los *brick de ejercicio de examen* son eventos de tipo **problem_check**, pero no todos los eventos *problem_check* son ejercicios de examen, por eso se hace uso del orden natural de problemas y ejercicios para filtrarlos.\n",
    "\n",
    "Se pueden incluir el ***brick de pausa*** (S), el cual se puede configurar la cantididad de tiempo (en minutos) en el que se considera que el usuario ha hecho una pausa.\n",
    "\n",
    "-\n",
    "\n",
    "**Nota 1**: En este script se filtra las repeticiones de interacciones de eventos de vídeos cuando el usuario se encuentra en el mismo vídeo. Esto es, por ejemplo, si un usuario realiza la siguiente secuencia:\n",
    "\n",
    "    play_video_1 - t0, pause_video_1 - t1, play_video_1 - t2\n",
    "\n",
    "solo se anotaría un *brick de vídeo* en tiempo t0 y **no** se añadiría *brick de pausa* mientras siga interactuando sobre el mismo vídeo, a no ser que interacciones dos interacciones consecutivas entre eventos del mismo vídeo tarden más que el tiempo de pausa.\n",
    "\n",
    "--\n",
    "\n",
    "- [Tarea 1: Procesamiento del fichero de eventos a *bricks*](#T1)\n",
    "- [Tarea 2: Generación de las matrices de transiciones](#T2)\n",
    "- [Tarea 3: Representación de las matrices de transiciones](#T3)"
   ]
  },
  {
   "cell_type": "code",
   "execution_count": null,
   "metadata": {
    "collapsed": true
   },
   "outputs": [],
   "source": []
  },
  {
   "cell_type": "markdown",
   "metadata": {},
   "source": [
    "### Importación de librerías y declaración de funciones"
   ]
  },
  {
   "cell_type": "code",
   "execution_count": 1,
   "metadata": {
    "collapsed": true
   },
   "outputs": [],
   "source": [
    "# Librerías\n",
    "import json\n",
    "from datetime import datetime"
   ]
  },
  {
   "cell_type": "code",
   "execution_count": 2,
   "metadata": {
    "collapsed": true
   },
   "outputs": [],
   "source": [
    "# Orden natural de problemas y ejercicios\n",
    "\n",
    "## Debido a que los eventos de tipo \"problem_check\" pueden ser bien ejercicicios iniciales,\n",
    "##  ejercicios de vídeo, actividades o bien ejercicios de examen, aquí se hace una división\n",
    "##  según el tipo que sea.\n",
    "\n",
    "ejercicios = [[15,28],[42,60],[79,84],[92,101],[110,117],[126,131]]\n",
    "actividades = [[29,41],[61,78],[85,91],[102,109],[118,125],[132,135]]\n",
    "iniciales = [[1,14]]\n",
    "examen = [[136,196]]\n",
    "\n",
    "## Correspondencia de eventos a bricks. en el caso de \"problem_check\" se marca como \"N\" de\n",
    "##  \"no definido\", hasta que se haga uso del orden natural de problemas y ejercicios.\n",
    "## Los eventos marcados sin brick (\"\") no se tienen en cuenta para hacer el este análisis.\n",
    "\n",
    "correspondencia = {\n",
    "            \"play_video\":\"V\",\n",
    "            \"seek_video\":\"V\",\n",
    "            \"pause_video\":\"\",\n",
    "            \"load_video\":\"\",\n",
    "            \"stop_video\":\"\",\n",
    "            \"problem_check\":\"N\",\n",
    "            \"edx.forum.searched\":\"F\",\n",
    "            \"edx.forum.comment.created\":\"F\",\n",
    "            \"edx.forum.response.created\":\"F\",\n",
    "            \"edx.forum.thread.created\":\"F\",\n",
    "            \"openassessmentblock.self_assess\":\"P\",\n",
    "            \"textbook.pdf.chapter.navigated\":\"D\"}"
   ]
  },
  {
   "cell_type": "code",
   "execution_count": 3,
   "metadata": {
    "collapsed": true
   },
   "outputs": [],
   "source": [
    "# Conversión de eventos a bricks\n",
    "\n",
    "## Utiliza el diccionario de correspondencia anteriormente declarado para pasar de evento\n",
    "##  a brick. En el caso en el que el evento sea de tipo \"problem_check\" utiliza el orden\n",
    "##  natural de problemas y ejercicios para asignarle un brick.\n",
    "## Los bricks de \"ejercicios iniciales\" y de \"ejercicios de exámenes\" no se tendrán en cuenta\n",
    "##  en este análisis.\n",
    "\n",
    "def proc_event(event):\n",
    "    brick = \"\"\n",
    "    \n",
    "    # Si el brick no se encuentra en la correspondencia, se considera un brick nulo.\n",
    "    try:\n",
    "        brick = correspondencia[str(event[\"evento\"])]\n",
    "    except:\n",
    "        brick = \"\" # BRICK NULO, NO CONSIDERADO\n",
    "        \n",
    "    # Si es brick es de tipo \"no definido\" es porque es de tipo \"problem_check\", luego hay que\n",
    "    #  hacer uso del orden natural de problemas y ejercicios para saber si se trata de un\n",
    "    #  ejercicio de vídeo, de una actividad, de un ejercicio inicial o de un ejercicio de examen.\n",
    "    \n",
    "    if brick == \"N\":\n",
    "        num = int(event[\"id_problema\"])\n",
    "        flag = True\n",
    "        \n",
    "        # Comprobamos si se trata de un ejercicio...\n",
    "        for rango in ejercicios:\n",
    "            if num>=rango[0] and num <=rango[1]:\n",
    "                brick = \"E\"\n",
    "                flag = False\n",
    "                # ... y si es así, salimos del bucle del intervalo de ejercicios.\n",
    "                break\n",
    "                \n",
    "        # Si no era un ejercicio...\n",
    "        if flag:\n",
    "            # Comprobamos si se trata de una actividad...\n",
    "            for rango in actividades:\n",
    "                if num>=rango[0] and num <=rango[1]:\n",
    "                    brick = \"A\"\n",
    "                    flag = False\n",
    "                    # ... y si es así, salimos del bucle de intervalo de actividad.\n",
    "                    break\n",
    "                    \n",
    "        # Si no era un ejercicio ni una actividad...\n",
    "        if flag:\n",
    "            # Comprobamos si se trata de un ejercicio inicial...\n",
    "            for rango in iniciales:\n",
    "                if num>=rango[0] and num <=rango[1]:\n",
    "                    brick = \"\" # BRICK NULO, NO CONSIDERADO\n",
    "                    # ... y si es así, salimos del bucle de intervalo de ejercicio inicial.\n",
    "                    flag = False\n",
    "                    break\n",
    "    \n",
    "        # Si no era un ejercicio, ni una actividad, ni un ejercicio inicial...\n",
    "        if flag:\n",
    "            # Comprobamos si se trata de un ejercicio de examen...\n",
    "            for rango in examen:\n",
    "                if num>=rango[0] and num <=rango[1]:\n",
    "                    brick = \"\" # BRICK NULO, NO CONSIDERADO\n",
    "                    # ... y si es así, salimos del bucle de intervalo de ejercicio de examen.\n",
    "                    flag = False\n",
    "                    break\n",
    "                    \n",
    "        # Si no era un ejercicio, ni una actividad, ni un ejercicio inicial, ni un ejercicio de examen...\n",
    "        if flag:\n",
    "            brick = \"\" #BRICK NULO, NO CONSIDERADO\n",
    "            \n",
    "    return brick"
   ]
  },
  {
   "cell_type": "code",
   "execution_count": 4,
   "metadata": {
    "collapsed": true
   },
   "outputs": [],
   "source": [
    "# Convierte una fecha a epoch\n",
    "\n",
    "## Pues eso, se trabaja mejor con epoch :)\n",
    "\n",
    "def toepoch(date):\n",
    "    strdate = str(date)\n",
    "    strdate = strdate[0:19]\n",
    "    dt = datetime.strptime(strdate,'%Y-%m-%dT%H:%M:%S')\n",
    "    return (dt - datetime(1970,1,1)).total_seconds()"
   ]
  },
  {
   "cell_type": "code",
   "execution_count": 5,
   "metadata": {
    "collapsed": true
   },
   "outputs": [],
   "source": [
    "# Convierte una fecha a semana\n",
    "\n",
    "## En función de cuando se haya producido el evento le asignamos una semana.\n",
    "## Si la semana no coincide con la de los intervalos, asignamos por defecto la Semana 0.\n",
    "\n",
    "def toweeks(epoch):\n",
    "    if epoch >= 1424736000 and epoch < 1425340800: #24F y 3M\n",
    "        return 1\n",
    "    elif epoch >= 1425340800 and epoch < 1425945600: #3M y 10M\n",
    "        return 2\n",
    "    elif epoch >= 1425945600 and epoch < 1426550400: #10M y 17M\n",
    "        return 3\n",
    "    elif epoch >= 1426550400 and epoch < 1427155200: #17M y 24M\n",
    "        return 4\n",
    "    elif epoch >= 1427155200 and epoch < 1427760000: #24M y 31M\n",
    "        return 5\n",
    "    elif epoch >= 1427760000 and epoch < 1428364800: #31M y 7A\n",
    "        return 6\n",
    "    elif epoch >= 1428364800 and epoch < 1428969600: #7A y 14A\n",
    "        return 7\n",
    "    else:\n",
    "        return 0"
   ]
  },
  {
   "cell_type": "code",
   "execution_count": null,
   "metadata": {
    "collapsed": true
   },
   "outputs": [],
   "source": []
  },
  {
   "cell_type": "markdown",
   "metadata": {},
   "source": [
    "<a name=\"T1\"></a>\n",
    "\n",
    "## Tarea 1: Procesamiento del fichero de eventos a *bricks*\n",
    "\n",
    "Este script procesa los eventos del fichero \"eventos_final.json\" generado por Miguel Gonzázlez-Gallego y genera un JSON con la siguiente estructura:\n",
    "\n",
    "- Usuario (\"Usuario\")\n",
    "- Eventos (\"Eventos\")\n",
    "    - Semana (\"s\")\n",
    "    - Brick (\"b\")\n",
    "    - Tiempo epoch (\"ts\")\n",
    "\n",
    "El nombre del fichero que se propone es \"eventos\\_brick\\_*tpausa*.json\".\n",
    "\n",
    "--\n",
    "\n",
    "- [Inicio](#Inicio)\n",
    "- [Tarea 2: Generación de las matrices de transiciones](#T2)\n",
    "- [Tarea 3: Representación de las matrices de transiciones](#T3)"
   ]
  },
  {
   "cell_type": "code",
   "execution_count": null,
   "metadata": {
    "collapsed": true
   },
   "outputs": [],
   "source": []
  },
  {
   "cell_type": "markdown",
   "metadata": {
    "collapsed": true
   },
   "source": [
    "### *Variables*: tiempo mínimo de pausa y nombres de ficheros de entrada y salida"
   ]
  },
  {
   "cell_type": "code",
   "execution_count": 33,
   "metadata": {
    "collapsed": true
   },
   "outputs": [],
   "source": [
    "pausa_min = 0 #min\n",
    "t_pausa = pausa_min*60 #seg"
   ]
  },
  {
   "cell_type": "code",
   "execution_count": 34,
   "metadata": {
    "collapsed": true
   },
   "outputs": [],
   "source": [
    "infile_name = './files/eventos_final.json'\n",
    "outfile_name = './files/eventos_bricks'+str(int(pausa_min))+'.json'\n",
    "\n",
    "#infile_name = './dos_usuarios.json'\n",
    "#outfile_name = './eventos_bricks'+str(int(pausa_min))+'.json'"
   ]
  },
  {
   "cell_type": "code",
   "execution_count": null,
   "metadata": {
    "collapsed": true
   },
   "outputs": [],
   "source": []
  },
  {
   "cell_type": "markdown",
   "metadata": {},
   "source": [
    "### Ejecución de la Tarea 1: Procesamiento del fichero de eventos a *bricks*\n"
   ]
  },
  {
   "cell_type": "code",
   "execution_count": 35,
   "metadata": {
    "collapsed": true
   },
   "outputs": [],
   "source": [
    "# Fichero de escritura\n",
    "outfile = open(outfile_name,\"w\")\n",
    "\n",
    "# Fichero de lectura\n",
    "with open(infile_name,\"r\") as infile:\n",
    "    # Cada línea del fichero de entrada es un usuario diferente.\n",
    "    for line in infile:\n",
    "        data_in = json.loads(line)\n",
    "        # Inicialización de variables.\n",
    "        JSON = {}\n",
    "        JSONListEv = []\n",
    "        ts_prev = 0\n",
    "        sem_prev = 0\n",
    "        idVold = 0\n",
    "        idVnew = 0\n",
    "        \n",
    "        JSON[\"Usuario\"] = str(data_in[\"Usuario\"])\n",
    "\n",
    "        # Procesamiento de todos los eventos que haya hecho un usuario.\n",
    "        for evento in data_in[\"Eventos\"]:\n",
    "            brick = proc_event(evento)\n",
    "                    \n",
    "            # Si el evento es evaluable extraemos el tiempo y la semana.\n",
    "            if brick != \"\":\n",
    "                timestamp = toepoch(evento[\"tiempo\"])\n",
    "                semana = toweeks(timestamp)\n",
    "                \n",
    "                # Si el evento es de vídeo... (leer \"Nota 1\")\n",
    "                if brick == \"V\":\n",
    "                    # Tomamos la id_vídeo\n",
    "                    idVnew = int(evento[\"id_video\"])\n",
    "                    \n",
    "                    # Si interacciona sobre el mismo video y no ha pasado entre\n",
    "                    #  eventos de vídeo el tiempo de pausa, guardamos el timestamp\n",
    "                    #  y continuamos (no añadimos este nuevo evento de vídeo).\n",
    "                    \n",
    "                    if idVnew == idVold and (timestamp - ts_prev < t_pausa or t_pausa == 0):\n",
    "                        ts_prev = timestamp\n",
    "                        continue\n",
    "                    else:\n",
    "                        idVold = idVnew\n",
    "                    \n",
    "                # Si la semana se analiza (es decir, no es Semana 0 ni Semana 7)\n",
    "                if semana != 7 and semana != 0:\n",
    "                    \n",
    "                    # Procesamiento de pausas\n",
    "                    \n",
    "                    # Si no es el el primer evento, y el tiempo entre eventos es mayor\n",
    "                    #  que el tiempo de pausa añadimos una pausa antes del evento.\n",
    "                    if ts_prev != 0 and timestamp - ts_prev > t_pausa and t_pausa != 0:\n",
    "                        \n",
    "                        # Introducción de una pausa a la lista\n",
    "                        dicEv = {\n",
    "                            \"s\": sem_prev,\n",
    "                            \"b\": \"S\",\n",
    "                            \"ts\": int(ts_prev + t_pausa)\n",
    "                        }\n",
    "                        JSONListEv.append(dicEv)\n",
    "                    \n",
    "                    # Introducción de un nuevo brick a la lista\n",
    "                    dicEv = {\n",
    "                        \"s\": semana,\n",
    "                        \"b\": brick,\n",
    "                        \"ts\": int(timestamp)\n",
    "                    }\n",
    "                    JSONListEv.append(dicEv)\n",
    "                    \n",
    "                    # Actualización de parámetros\n",
    "                    ts_prev = timestamp\n",
    "                    sem_prev = semana\n",
    "\n",
    "        # Introducción de la pausa final (el usuario no realiza más eventos).\n",
    "        if sem_prev != 0 and t_pausa != 0:\n",
    "            dicEv = {\n",
    "                \"s\": sem_prev,\n",
    "                \"b\": \"S\",\n",
    "                \"ts\": int(ts_prev + t_pausa)\n",
    "            }\n",
    "            JSONListEv.append(dicEv)\n",
    "\n",
    "        # Si ha realizado al menos un evento, escribimos en el fichero de salida.\n",
    "        if JSONListEv != [] and JSON[\"Usuario\"] != \"\":\n",
    "            JSON[\"Eventos\"] = JSONListEv\n",
    "            json.dump(JSON, outfile)\n",
    "            outfile.write('\\n')\n",
    "outfile.close()"
   ]
  },
  {
   "cell_type": "code",
   "execution_count": null,
   "metadata": {
    "collapsed": true
   },
   "outputs": [],
   "source": []
  },
  {
   "cell_type": "markdown",
   "metadata": {},
   "source": [
    "<a name=\"T2\"></a>\n",
    "## Tarea 2: Generación de las matrices de transiciones\n",
    "\n",
    "Este script procesa los eventos del fichero JSON aquí generado (eventos\\_bricks\\_*tpausa*.json) y genera un fichero JSON con la siguiente estructura:\n",
    "\n",
    "- Usuario (Usuario)\n",
    "- Caracteristicas (Caracteristicas)\n",
    "    - Semana (s)\n",
    "    - Número transiciones (nt)\n",
    "    - Matriz de transiciones (tm)\n",
    "\n",
    ", donde *Caracteristicas* es una lista de *Matrices de transiciones* por semanas. Solo se guardará información de aquellas semanas donde se haya realizado algún evento.\n",
    "\n",
    "Esta matriz de transición de tamaño 7 x 7 de la siguiente forma:\n",
    "\n",
    "|   | V   | E   | A   | P   | D   | F   | S   |\n",
    "|---|-----|-----|-----|-----|-----|-----|-----|\n",
    "| **V**| V2V | V2E | V2A | V2P | V2D | V2F | V2S |\n",
    "| **E** | E2V | E2E | E2A | E2P | E2D | E2F | E2S |\n",
    "| **A** | A2V | A2E | A2A | A2P | A2D | A2F | A2S |\n",
    "| **P** | P2V | P2E | P2A | P2P | P2D | P2F | P2S |\n",
    "| **D** | D2V | D2E | D2A | D2P | D2D | D2F | D2S |\n",
    "| **F** | F2V | F2E | F2A | F2P | F2D | F2F | F2S |\n",
    "| **S** | S2V | S2E | S2A | S2P | S2D | S2F | S2S |\n",
    "\n",
    ", la cual se almacena en el fichero JSON por filas en orden descendente.\n",
    "\n",
    "--\n",
    "\n",
    "- [Inicio](#Inicio)\n",
    "- [Tarea 1: Procesamiento del fichero de eventos a *bricks*](#T1)\n",
    "- [Tarea 3: Representación de las matrices de transiciones](#T3)"
   ]
  },
  {
   "cell_type": "code",
   "execution_count": null,
   "metadata": {
    "collapsed": true
   },
   "outputs": [],
   "source": []
  },
  {
   "cell_type": "markdown",
   "metadata": {},
   "source": [
    "### *Variables*: nombres de ficheros de entrada y salida"
   ]
  },
  {
   "cell_type": "code",
   "execution_count": 36,
   "metadata": {
    "collapsed": true
   },
   "outputs": [],
   "source": [
    "infile_name2 = outfile_name\n",
    "outfile_name2 = './brick_freq0h.json'"
   ]
  },
  {
   "cell_type": "code",
   "execution_count": null,
   "metadata": {
    "collapsed": true
   },
   "outputs": [],
   "source": []
  },
  {
   "cell_type": "markdown",
   "metadata": {},
   "source": [
    "### Declaración de funciones"
   ]
  },
  {
   "cell_type": "code",
   "execution_count": 37,
   "metadata": {
    "collapsed": true
   },
   "outputs": [],
   "source": [
    "# Diccionario de traducción de bricks a índices\n",
    "\n",
    "ev = {'V': 0,\n",
    "      'E': 1,\n",
    "      'A': 2,\n",
    "      'P': 3,\n",
    "      'D': 4,\n",
    "      'F': 5,\n",
    "      'S': 6}"
   ]
  },
  {
   "cell_type": "code",
   "execution_count": 38,
   "metadata": {
    "collapsed": true
   },
   "outputs": [],
   "source": [
    "# Función que comprueba si una matriz de transiciones es nula.\n",
    "# deprecated!\n",
    "def MisNull(M):\n",
    "    for r in M:\n",
    "        for c in r:\n",
    "            if c != 0:\n",
    "                return False\n",
    "    return True"
   ]
  },
  {
   "cell_type": "markdown",
   "metadata": {},
   "source": [
    "### Ejecución de la Tarea 2:  Generación de las matrices de transiciones"
   ]
  },
  {
   "cell_type": "code",
   "execution_count": 39,
   "metadata": {
    "collapsed": true
   },
   "outputs": [],
   "source": [
    "# Fichero de escritura\n",
    "outfile = open(outfile_name2,\"w\")\n",
    "\n",
    "# Fichero de lectura\n",
    "with open(infile_name2,\"r\") as infile:\n",
    "    \n",
    "    # Cada línea del fichero de entrada es un usuario diferente.\n",
    "    for line in infile:\n",
    "        data_in = json.loads(line)\n",
    "        \n",
    "        # Inicialización de variables.\n",
    "        JSON = {}\n",
    "        JSONTable = []\n",
    "        sem_prev = -1\n",
    "        brick_prev = \"\"\n",
    "        ntrans = 0\n",
    "        TM = []\n",
    "        \n",
    "        JSON[\"Usuario\"] = str(data_in[\"Usuario\"])\n",
    "\n",
    "        # Procesamiento bricks a matrices de transicion.\n",
    "        \n",
    "        # Por cada brick que se haya generado...\n",
    "        for evento in data_in[\"Eventos\"]:\n",
    "            semana = int(evento[\"s\"])\n",
    "            \n",
    "            # Si es una nueva semana\n",
    "            if semana != sem_prev:\n",
    "                \n",
    "                # Añadimos la anterior semana al conjunto de características\n",
    "                #  si esta no es nula y no es la primera iteración.\n",
    "                if sem_prev != -1 and ntrans != 0:\n",
    "                    dicCar = {\n",
    "                        \"s\": sem_prev,\n",
    "                        \"tm\": TM,\n",
    "                        \"nt\": ntrans\n",
    "                    }\n",
    "                    JSONTable.append(dicCar)\n",
    "                \n",
    "                # Inicializamos la matriz, brick previo y semana previa\n",
    "                TM = [[0]*7,[0]*7,[0]*7,[0]*7,[0]*7,[0]*7,[0]*7]\n",
    "                brick_prev = str(evento[\"b\"])\n",
    "                sem_prev = semana\n",
    "                ntrans = 0\n",
    "                \n",
    "            # Si no es una semana nueva y ya tiene una matriz de transiciones, añadimos la nueva transición.\n",
    "            else:\n",
    "                brick = str(evento[\"b\"])\n",
    "                TM[ev[brick_prev]][ev[brick]] += 1\n",
    "                brick_prev = brick\n",
    "                ntrans += 1\n",
    "\n",
    "        # Añadimos la última semana al conjunto de características\n",
    "        if ntrans != 0:\n",
    "            dicCar = {\n",
    "                \"s\": sem_prev,\n",
    "                \"tm\": TM,\n",
    "                \"nt\": ntrans\n",
    "            }\n",
    "            JSONTable.append(dicCar)\n",
    "                        \n",
    "        # Añadimos la tabla a las características y escribimos en el fichero de salida.\n",
    "        JSON[\"Caracteristicas\"] = JSONTable\n",
    "        json.dump(JSON, outfile)\n",
    "        outfile.write('\\n')\n",
    "outfile.close()"
   ]
  },
  {
   "cell_type": "code",
   "execution_count": null,
   "metadata": {
    "collapsed": true
   },
   "outputs": [],
   "source": []
  },
  {
   "cell_type": "markdown",
   "metadata": {},
   "source": [
    "<a name=\"T3\"></a>\n",
    "## Tarea 3: Representación de las matrices de transiciones\n",
    "\n",
    "Este script representa ĺas matrices de transiciones de un usuario con el fin de visualizarlas.\n",
    "\n",
    "--\n",
    "\n",
    "- [Inicio](#Inicio)\n",
    "- [Tarea 1: Procesamiento del fichero de eventos a *bricks*](#T1)\n",
    "- [Tarea 2: Generación de las matrices de transiciones](#T2)\n"
   ]
  },
  {
   "cell_type": "code",
   "execution_count": 29,
   "metadata": {
    "collapsed": true
   },
   "outputs": [],
   "source": [
    "infile_name3 = outfile_name2"
   ]
  },
  {
   "cell_type": "code",
   "execution_count": 30,
   "metadata": {
    "collapsed": true
   },
   "outputs": [],
   "source": [
    "# \n",
    "\n",
    "def printTM(TM):\n",
    "    print \"|\\t\\tV\\tE\\tA\\tP\\tD\\tF\\tS\"\n",
    "    print \"|\\tV [\\t\",TM[0][0],\"\\t\",TM[0][1],\"\\t\",TM[0][2],\"\\t\",TM[0][3],\"\\t\",TM[0][4],\"\\t\",TM[0][5],\"\\t\",TM[0][6],\"\\t]\"\n",
    "    print \"|\\tE [\\t\",TM[1][0],\"\\t\",TM[1][1],\"\\t\",TM[1][2],\"\\t\",TM[1][3],\"\\t\",TM[1][4],\"\\t\",TM[1][5],\"\\t\",TM[1][6],\"\\t]\"\n",
    "    print \"|\\tA [\\t\",TM[2][0],\"\\t\",TM[2][1],\"\\t\",TM[2][2],\"\\t\",TM[2][3],\"\\t\",TM[2][4],\"\\t\",TM[2][5],\"\\t\",TM[2][6],\"\\t]\"\n",
    "    print \"|\\tP [\\t\",TM[3][0],\"\\t\",TM[3][1],\"\\t\",TM[3][2],\"\\t\",TM[3][3],\"\\t\",TM[3][4],\"\\t\",TM[3][5],\"\\t\",TM[3][6],\"\\t]\"\n",
    "    print \"|\\tD [\\t\",TM[4][0],\"\\t\",TM[4][1],\"\\t\",TM[4][2],\"\\t\",TM[4][3],\"\\t\",TM[4][4],\"\\t\",TM[4][5],\"\\t\",TM[4][6],\"\\t]\"\n",
    "    print \"|\\tF [\\t\",TM[5][0],\"\\t\",TM[5][1],\"\\t\",TM[5][2],\"\\t\",TM[5][3],\"\\t\",TM[5][4],\"\\t\",TM[5][5],\"\\t\",TM[5][6],\"\\t]\"\n",
    "    print \"|\\tS [\\t\",TM[6][0],\"\\t\",TM[6][1],\"\\t\",TM[6][2],\"\\t\",TM[6][3],\"\\t\",TM[6][4],\"\\t\",TM[6][5],\"\\t\",TM[6][6],\"\\t]\"\n",
    "    \n",
    "    \n",
    "def printUser(data):\n",
    "    print \"|\"\n",
    "    print \"| USUARIO:\", data[\"Usuario\"]\n",
    "    print \"|\\tSemanas: \",\n",
    "    for tab in data[\"Caracteristicas\"]:\n",
    "        print tab[\"s\"],\n",
    "    print\n",
    "    print \"|\"\n",
    "    for tab in data[\"Caracteristicas\"]:\n",
    "        print \"| Semana \", tab[\"s\"]\n",
    "        print \"| -----------\"\n",
    "        printTM(tab[\"tm\"])\n",
    "        print \"|\"\n",
    "        print \"| Número de Transiciones: \", tab[\"nt\"]\n",
    "        print \"|\"\n"
   ]
  },
  {
   "cell_type": "code",
   "execution_count": 31,
   "metadata": {},
   "outputs": [
    {
     "name": "stdout",
     "output_type": "stream",
     "text": [
      "|\n",
      "| USUARIO: 6130312\n",
      "|\tSemanas:  1 2 3 4 5 6\n",
      "|\n",
      "| Semana  1\n",
      "| -----------\n",
      "|\t\tV\tE\tA\tP\tD\tF\tS\n",
      "|\tV [\t0 \t0 \t0 \t0 \t0 \t0 \t0 \t]\n",
      "|\tE [\t0 \t0 \t0 \t0 \t0 \t0 \t0 \t]\n",
      "|\tA [\t0 \t0 \t0 \t0 \t0 \t0 \t0 \t]\n",
      "|\tP [\t0 \t0 \t0 \t0 \t0 \t0 \t0 \t]\n",
      "|\tD [\t0 \t0 \t0 \t0 \t10 \t0 \t5 \t]\n",
      "|\tF [\t0 \t0 \t0 \t0 \t0 \t0 \t0 \t]\n",
      "|\tS [\t0 \t0 \t0 \t0 \t4 \t0 \t0 \t]\n",
      "|\n",
      "| Número de Transiciones:  19\n",
      "|\n",
      "| Semana  2\n",
      "| -----------\n",
      "|\t\tV\tE\tA\tP\tD\tF\tS\n",
      "|\tV [\t8 \t7 \t5 \t0 \t1 \t0 \t1 \t]\n",
      "|\tE [\t6 \t18 \t4 \t0 \t0 \t0 \t2 \t]\n",
      "|\tA [\t4 \t3 \t13 \t0 \t0 \t1 \t2 \t]\n",
      "|\tP [\t0 \t0 \t0 \t0 \t0 \t0 \t0 \t]\n",
      "|\tD [\t0 \t0 \t1 \t0 \t0 \t0 \t0 \t]\n",
      "|\tF [\t1 \t0 \t0 \t0 \t0 \t0 \t0 \t]\n",
      "|\tS [\t2 \t2 \t1 \t0 \t0 \t0 \t0 \t]\n",
      "|\n",
      "| Número de Transiciones:  82\n",
      "|\n",
      "| Semana  3\n",
      "| -----------\n",
      "|\t\tV\tE\tA\tP\tD\tF\tS\n",
      "|\tV [\t1 \t1 \t0 \t1 \t0 \t0 \t2 \t]\n",
      "|\tE [\t2 \t10 \t3 \t0 \t0 \t0 \t0 \t]\n",
      "|\tA [\t0 \t0 \t19 \t0 \t0 \t0 \t3 \t]\n",
      "|\tP [\t0 \t1 \t0 \t0 \t0 \t0 \t0 \t]\n",
      "|\tD [\t0 \t0 \t0 \t0 \t0 \t0 \t0 \t]\n",
      "|\tF [\t1 \t0 \t0 \t0 \t0 \t3 \t1 \t]\n",
      "|\tS [\t1 \t2 \t0 \t0 \t0 \t2 \t0 \t]\n",
      "|\n",
      "| Número de Transiciones:  53\n",
      "|\n",
      "| Semana  4\n",
      "| -----------\n",
      "|\t\tV\tE\tA\tP\tD\tF\tS\n",
      "|\tV [\t1 \t5 \t0 \t0 \t0 \t0 \t1 \t]\n",
      "|\tE [\t4 \t5 \t1 \t0 \t0 \t0 \t0 \t]\n",
      "|\tA [\t0 \t0 \t7 \t0 \t0 \t0 \t1 \t]\n",
      "|\tP [\t1 \t0 \t0 \t0 \t0 \t0 \t0 \t]\n",
      "|\tD [\t0 \t0 \t0 \t0 \t0 \t0 \t0 \t]\n",
      "|\tF [\t0 \t0 \t0 \t0 \t0 \t8 \t4 \t]\n",
      "|\tS [\t1 \t0 \t0 \t1 \t0 \t3 \t0 \t]\n",
      "|\n",
      "| Número de Transiciones:  43\n",
      "|\n",
      "| Semana  5\n",
      "| -----------\n",
      "|\t\tV\tE\tA\tP\tD\tF\tS\n",
      "|\tV [\t0 \t2 \t1 \t0 \t0 \t0 \t0 \t]\n",
      "|\tE [\t2 \t5 \t0 \t0 \t0 \t0 \t1 \t]\n",
      "|\tA [\t0 \t1 \t7 \t0 \t0 \t1 \t2 \t]\n",
      "|\tP [\t0 \t0 \t0 \t0 \t0 \t0 \t0 \t]\n",
      "|\tD [\t0 \t0 \t0 \t0 \t0 \t0 \t0 \t]\n",
      "|\tF [\t0 \t0 \t1 \t0 \t0 \t1 \t2 \t]\n",
      "|\tS [\t1 \t0 \t1 \t0 \t0 \t3 \t0 \t]\n",
      "|\n",
      "| Número de Transiciones:  31\n",
      "|\n",
      "| Semana  6\n",
      "| -----------\n",
      "|\t\tV\tE\tA\tP\tD\tF\tS\n",
      "|\tV [\t0 \t0 \t0 \t0 \t0 \t0 \t0 \t]\n",
      "|\tE [\t0 \t0 \t0 \t0 \t0 \t0 \t0 \t]\n",
      "|\tA [\t0 \t0 \t0 \t0 \t0 \t0 \t0 \t]\n",
      "|\tP [\t0 \t0 \t0 \t0 \t0 \t0 \t1 \t]\n",
      "|\tD [\t0 \t0 \t0 \t0 \t0 \t0 \t0 \t]\n",
      "|\tF [\t0 \t0 \t0 \t0 \t0 \t0 \t1 \t]\n",
      "|\tS [\t0 \t0 \t0 \t1 \t0 \t0 \t0 \t]\n",
      "|\n",
      "| Número de Transiciones:  3\n",
      "|\n"
     ]
    }
   ],
   "source": [
    "nuser = 1\n",
    "nuser = 2349\n",
    "nline = 0\n",
    "with open(infile_name3) as infile:\n",
    "    for line in infile:\n",
    "        nline +=1\n",
    "        if nuser == nline:\n",
    "            data = json.loads(line)\n",
    "            printUser(data)\n"
   ]
  },
  {
   "cell_type": "code",
   "execution_count": null,
   "metadata": {
    "collapsed": true
   },
   "outputs": [],
   "source": []
  }
 ],
 "metadata": {
  "kernelspec": {
   "display_name": "Python 3",
   "language": "python",
   "name": "python3"
  },
  "language_info": {
   "codemirror_mode": {
    "name": "ipython",
    "version": 3
   },
   "file_extension": ".py",
   "mimetype": "text/x-python",
   "name": "python",
   "nbconvert_exporter": "python",
   "pygments_lexer": "ipython3",
   "version": "3.6.2"
  }
 },
 "nbformat": 4,
 "nbformat_minor": 1
}
