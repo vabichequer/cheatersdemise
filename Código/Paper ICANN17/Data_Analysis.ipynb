{
 "cells": [
  {
   "cell_type": "markdown",
   "metadata": {},
   "source": [
    "<a name=\"Inicio\"></a>\n",
    "# Data Analysis\n",
    "\n",
    "#### Autor: *Ángel Pérez Lemonche*\n",
    "\n",
    "\n",
    "## Descripción general\n",
    "\n",
    "Este script utiliza las matrices de transición generadas en \"Learning Paths with General *bricks*\" con el fin de analizar el contenido de los datos para tomar futuras decisiones. Se puede realizar el mismo proceso utilizando **vectores de frecuencias**, normalizando por el número total de transiciones por semanas."
   ]
  },
  {
   "cell_type": "code",
   "execution_count": null,
   "metadata": {
    "collapsed": true
   },
   "outputs": [],
   "source": []
  },
  {
   "cell_type": "markdown",
   "metadata": {},
   "source": [
    "### Importación de librerías y declaración de funciones"
   ]
  },
  {
   "cell_type": "code",
   "execution_count": 1,
   "metadata": {},
   "outputs": [
    {
     "name": "stderr",
     "output_type": "stream",
     "text": [
      "/home/angelpl/anaconda3/lib/python3.6/site-packages/statsmodels/compat/pandas.py:56: FutureWarning: The pandas.core.datetools module is deprecated and will be removed in a future version. Please use the pandas.tseries module instead.\n",
      "  from pandas.core import datetools\n"
     ]
    }
   ],
   "source": [
    "# Librerías propias\n",
    "import sys\n",
    "sys.path.insert(0, './lib/')\n",
    "import myfunclib as mf\n",
    "import myplotlib as mp\n",
    "import imp\n",
    "\n",
    "mf = imp.reload(mf)\n",
    "mp = imp.reload(mp)\n",
    "\n",
    "# Librerías generales\n",
    "import numpy as np\n",
    "import pandas as pd\n",
    "\n",
    "pd.set_option('display.max_columns', 30)\n",
    "from IPython.core.display import display, HTML, clear_output\n",
    "\n",
    "# Librerías ML\n",
    "from sklearn.cluster import MeanShift\n",
    "from sklearn.cluster import KMeans\n",
    "from sklearn.ensemble import RandomForestClassifier\n",
    "from sklearn.ensemble import RandomForestRegressor\n",
    "from sklearn.neural_network import MLPRegressor as MLP\n",
    "\n",
    "from sklearn.model_selection import GridSearchCV\n",
    "from sklearn.svm import SVC\n",
    "# Gráficos\n",
    "import matplotlib.pyplot as plt\n",
    "%matplotlib inline\n",
    "\n",
    "from matplotlib import style\n",
    "#style.use(\"ggplot\")\n",
    "plt.rcParams[\"figure.figsize\"] = [10,10]"
   ]
  },
  {
   "cell_type": "code",
   "execution_count": null,
   "metadata": {
    "collapsed": true
   },
   "outputs": [],
   "source": []
  },
  {
   "cell_type": "markdown",
   "metadata": {
    "collapsed": true
   },
   "source": [
    "Cargamos el fichero de entrada"
   ]
  },
  {
   "cell_type": "code",
   "execution_count": 2,
   "metadata": {},
   "outputs": [
    {
     "name": "stdout",
     "output_type": "stream",
     "text": [
      "2329 usuarios cargados.\n"
     ]
    }
   ],
   "source": [
    "infile_name = './files/brick_freq0h.json'\n",
    "Usuarios, dfS, dfT = mf.loadFeatures(infile_name, Use_freq=False, min_trans=20)"
   ]
  },
  {
   "cell_type": "code",
   "execution_count": 3,
   "metadata": {
    "collapsed": true
   },
   "outputs": [],
   "source": [
    "df = pd.concat([Usuarios,dfT], axis = 1).set_index('users')"
   ]
  },
  {
   "cell_type": "code",
   "execution_count": 7,
   "metadata": {
    "collapsed": true
   },
   "outputs": [],
   "source": [
    "for x in df.columns:\n",
    "    if 'S' in x:\n",
    "        df.drop(x, inplace = True, axis = 1)\n",
    "        \n",
    "df = df.reindex_axis(sorted(df.columns), axis=1)"
   ]
  },
  {
   "cell_type": "code",
   "execution_count": 11,
   "metadata": {},
   "outputs": [
    {
     "data": {
      "text/plain": [
       "A2A    21.686851\n",
       "E2E    19.479202\n",
       "D2D    12.741851\n",
       "V2E     9.594084\n",
       "E2V     8.416543\n",
       "V2V     7.922550\n",
       "E2A     3.741803\n",
       "A2E     2.639893\n",
       "V2A     2.576229\n",
       "A2V     2.351730\n",
       "F2F     1.866833\n",
       "D2V     1.124886\n",
       "V2D     0.829544\n",
       "D2E     0.536595\n",
       "A2D     0.518405\n",
       "E2D     0.432722\n",
       "A2P     0.413097\n",
       "P2V     0.392514\n",
       "D2A     0.373845\n",
       "A2F     0.334115\n",
       "F2V     0.267579\n",
       "V2F     0.263271\n",
       "F2A     0.219712\n",
       "V2P     0.155569\n",
       "E2F     0.155091\n",
       "F2P     0.155091\n",
       "D2F     0.136422\n",
       "F2E     0.123977\n",
       "F2D     0.120147\n",
       "E2P     0.084725\n",
       "P2E     0.066536\n",
       "D2P     0.062706\n",
       "P2D     0.061749\n",
       "P2F     0.053612\n",
       "P2P     0.052654\n",
       "P2A     0.047868\n",
       "dtype: float64"
      ]
     },
     "execution_count": 11,
     "metadata": {},
     "output_type": "execute_result"
    }
   ],
   "source": [
    "(df.sum(axis = 0)/sum(df.sum())*100).sort_values(ascending=False)"
   ]
  },
  {
   "cell_type": "markdown",
   "metadata": {},
   "source": [
    "Análisis de varianza y descripción de los datos"
   ]
  },
  {
   "cell_type": "code",
   "execution_count": 19,
   "metadata": {
    "collapsed": true
   },
   "outputs": [],
   "source": [
    "#mp.plotVariance(dfS)\n",
    "#stats = dfT.describe()\n",
    "#print stats"
   ]
  },
  {
   "cell_type": "markdown",
   "metadata": {},
   "source": [
    "Reducción de dimensionalidad"
   ]
  },
  {
   "cell_type": "code",
   "execution_count": 4,
   "metadata": {},
   "outputs": [
    {
     "name": "stdout",
     "output_type": "stream",
     "text": [
      "Modo: normalized\n",
      "Número de características:  14\n"
     ]
    }
   ],
   "source": [
    "# Selección de características\n",
    "dfTn, dfSn = mf.featSelection(dfT, dfS, modo = 'normalized', info = .96, Use_Rest = True)"
   ]
  },
  {
   "cell_type": "code",
   "execution_count": null,
   "metadata": {
    "collapsed": true
   },
   "outputs": [],
   "source": [
    "# Transformación de características usando PCA\n",
    "#dfTn, dfSn = mf.applyPCA(dfTn, dfSn, dimPCA = 10)"
   ]
  },
  {
   "cell_type": "markdown",
   "metadata": {},
   "source": [
    "Análisis del conjunto de datos"
   ]
  },
  {
   "cell_type": "code",
   "execution_count": null,
   "metadata": {
    "collapsed": true
   },
   "outputs": [],
   "source": [
    "# Matrices de covarianza y correlación\n",
    "#mp.plotMatrix(dfTn)"
   ]
  },
  {
   "cell_type": "code",
   "execution_count": null,
   "metadata": {
    "collapsed": true
   },
   "outputs": [],
   "source": [
    "# Matrices de dispersión e histogramas\n",
    "#mp.plotScatter(dfTn)\n",
    "#h = dfTn.hist() "
   ]
  },
  {
   "cell_type": "markdown",
   "metadata": {},
   "source": [
    "### MeanShift"
   ]
  },
  {
   "cell_type": "code",
   "execution_count": null,
   "metadata": {
    "collapsed": true
   },
   "outputs": [],
   "source": [
    "ms = MeanShift()\n",
    "\n",
    "# Ajustamos las características\n",
    "ms.fit(dfTn)\n",
    "labels = ms.labels_\n",
    "cluster_centers = ms.cluster_centers_\n",
    "n_clusters = len(np.unique(labels))\n",
    "print \"Número estimado de clusters:\", n_clusters"
   ]
  },
  {
   "cell_type": "code",
   "execution_count": null,
   "metadata": {
    "collapsed": true
   },
   "outputs": [],
   "source": [
    "mp.plotVectors(cluster_centers, list(dfTn.columns))\n",
    "mf.showTable(Usuarios, labels)"
   ]
  },
  {
   "cell_type": "code",
   "execution_count": null,
   "metadata": {
    "collapsed": true
   },
   "outputs": [],
   "source": []
  },
  {
   "cell_type": "markdown",
   "metadata": {},
   "source": [
    "### Clustering jerárquico"
   ]
  },
  {
   "cell_type": "code",
   "execution_count": null,
   "metadata": {
    "collapsed": true
   },
   "outputs": [],
   "source": [
    "labels, centers = mf.clusterHierarchy(dfTn, depth = 50, link = 'centroid', threshold = .4, Plot = True)\n",
    "#labels, centers = mf.clusterHierarchy(dfTn, depth = 50, link = 'centroid', threshold = 100, Plot = True)"
   ]
  },
  {
   "cell_type": "code",
   "execution_count": null,
   "metadata": {
    "collapsed": true,
    "scrolled": false
   },
   "outputs": [],
   "source": [
    "#mp.plotScatter(dfTn, which='scatterlabel', labels = labels, centers = centers, alpha=.15, colors = 'colormap')\n",
    "mp.plotVectors(centers, list(dfTn.columns))"
   ]
  },
  {
   "cell_type": "code",
   "execution_count": null,
   "metadata": {
    "collapsed": true
   },
   "outputs": [],
   "source": [
    "mf.showTable(Usuarios, labels)"
   ]
  },
  {
   "cell_type": "code",
   "execution_count": null,
   "metadata": {
    "collapsed": true
   },
   "outputs": [],
   "source": [
    "#mp.plotScatter(dfTn, which='scatterlabel', labels = labels, centers = centers, alpha=.15)"
   ]
  },
  {
   "cell_type": "markdown",
   "metadata": {},
   "source": [
    "### k-means"
   ]
  },
  {
   "cell_type": "code",
   "execution_count": 5,
   "metadata": {
    "collapsed": true
   },
   "outputs": [],
   "source": [
    "from sklearn.cluster import KMeans\n",
    "n_clusters = 6\n",
    "km = KMeans(n_clusters, random_state =206).fit(dfTn)"
   ]
  },
  {
   "cell_type": "code",
   "execution_count": null,
   "metadata": {
    "collapsed": true
   },
   "outputs": [],
   "source": []
  },
  {
   "cell_type": "code",
   "execution_count": 6,
   "metadata": {
    "collapsed": true
   },
   "outputs": [],
   "source": [
    "order = [1,2,3,4,5,0]\n",
    "CC  = np.array([km.cluster_centers_[i]  for i in order])"
   ]
  },
  {
   "cell_type": "code",
   "execution_count": 7,
   "metadata": {
    "collapsed": true
   },
   "outputs": [],
   "source": [
    "CL = np.zeros(len(km.labels_))\n",
    "for i in range(len(order)):\n",
    "    for j in range(len(km.labels_)):\n",
    "        if km.labels_[j]==order[i]:\n",
    "            CL[j]=i"
   ]
  },
  {
   "cell_type": "code",
   "execution_count": null,
   "metadata": {
    "collapsed": true
   },
   "outputs": [],
   "source": [
    "CL"
   ]
  },
  {
   "cell_type": "code",
   "execution_count": null,
   "metadata": {
    "collapsed": true
   },
   "outputs": [],
   "source": [
    "mf = reload(mf)\n",
    "mp = reload(mp)\n",
    "\n",
    "#mp.plotScatter(dfTn, which='scatterlabel', labels = km.labels_, centers = km.cluster_centers_)\n",
    "plt.rcParams[\"figure.figsize\"] = [10,10]\n",
    "mp.plotVectors(CC,list(dfTn.columns),colors = 'dark')\n"
   ]
  },
  {
   "cell_type": "code",
   "execution_count": null,
   "metadata": {
    "collapsed": true
   },
   "outputs": [],
   "source": [
    "mf.showTable(Usuarios, CL)"
   ]
  },
  {
   "cell_type": "code",
   "execution_count": null,
   "metadata": {
    "collapsed": true,
    "scrolled": false
   },
   "outputs": [],
   "source": [
    "#np.set_printoptions(threshold=np.nan)\n",
    "#km.predict(dfSn[6])\n"
   ]
  },
  {
   "cell_type": "code",
   "execution_count": 8,
   "metadata": {
    "collapsed": true
   },
   "outputs": [],
   "source": [
    "#Intercluster distance\n",
    "rs = range(100)\n",
    "n_clusters = range(4,21)\n",
    "avg = []\n",
    "\n",
    "from sklearn.metrics import mean_squared_error as mse\n",
    "for n in n_clusters:\n",
    "    d = []\n",
    "    for s in rs:\n",
    "        km = KMeans(n, random_state = s).fit(dfTn)\n",
    "        cc = km.cluster_centers_\n",
    "        for j in range(len(cc)):\n",
    "            for k in range(j+1,len(cc)):\n",
    "                d.append(mse(cc[j],cc[k]))\n",
    "    avg.append(np.mean(d))"
   ]
  },
  {
   "cell_type": "code",
   "execution_count": null,
   "metadata": {
    "collapsed": true
   },
   "outputs": [],
   "source": []
  },
  {
   "cell_type": "code",
   "execution_count": 9,
   "metadata": {
    "collapsed": true
   },
   "outputs": [],
   "source": [
    "from scipy.spatial import distance\n",
    "\n",
    "def compute_bic(kmeans,X):\n",
    "    \"\"\"\n",
    "    Computes the BIC metric for a given clusters\n",
    "\n",
    "    Parameters:\n",
    "    -----------------------------------------\n",
    "    kmeans:  List of clustering object from scikit learn\n",
    "\n",
    "    X     :  multidimension np array of data points\n",
    "\n",
    "    Returns:\n",
    "    -----------------------------------------\n",
    "    BIC value\n",
    "    \"\"\"\n",
    "    # assign centers and labels\n",
    "    centers = [kmeans.cluster_centers_]\n",
    "    labels  = kmeans.labels_\n",
    "    #number of clusters\n",
    "    m = kmeans.n_clusters\n",
    "    # size of the clusters\n",
    "    n = np.bincount(labels)\n",
    "    #size of data set\n",
    "    N, d = X.shape\n",
    "\n",
    "    #compute variance for all clusters beforehand    \n",
    "    cl_var = (1.0 / (N - m) / d) * sum([sum(distance.cdist(X[np.where(labels == i)], \n",
    "                                                           [centers[0][i]], 'euclidean')**2) for i in range(m)])\n",
    "\n",
    "    const_term = 0.5 * m * np.log(N) * (d+1)\n",
    "\n",
    "    BIC = np.sum([n[i] * np.log(n[i]) -\n",
    "               n[i] * np.log(N) -\n",
    "             ((n[i] * d) / 2) * np.log(2*np.pi*cl_var) -\n",
    "             ((n[i] - 1) * d/ 2) for i in range(m)]) - const_term\n",
    "\n",
    "    return(-BIC)"
   ]
  },
  {
   "cell_type": "code",
   "execution_count": 10,
   "metadata": {
    "collapsed": true
   },
   "outputs": [],
   "source": [
    "n_clusters = range(3,21)\n",
    "rs = range(100)\n",
    "\n",
    "BIC = []\n",
    "\n",
    "for n in n_clusters:\n",
    "    d = []\n",
    "    for s in rs:\n",
    "        km = KMeans(n, random_state = s).fit(dfTn)\n",
    "        d.append(compute_bic(km,np.array(dfTn)))\n",
    "    BIC.append(np.mean(d))\n",
    "    "
   ]
  },
  {
   "cell_type": "code",
   "execution_count": null,
   "metadata": {
    "collapsed": true
   },
   "outputs": [],
   "source": []
  },
  {
   "cell_type": "code",
   "execution_count": 11,
   "metadata": {},
   "outputs": [
    {
     "data": {
      "image/png": "[encoded data removed]",
      "text/plain": [
       "<matplotlib.figure.Figure at 0x7fb560180110>"
      ]
     },
     "metadata": {},
     "output_type": "display_data"
    }
   ],
   "source": [
    "plt.figure(figsize=(6,6))\n",
    "plt.subplot(211)\n",
    "plt.plot(np.array(range(4,20+1)), avg, 'ks-',linewidth=2)\n",
    "plt.ylabel('Average Inter-cluster Distance')\n",
    "plt.xlabel('Number of clusters')\n",
    "plt.title('Inter-Cluster Distance')\n",
    "plt.grid(True)\n",
    "\n",
    "plt.subplot(212)\n",
    "difBIC = [-(BIC[i]-BIC[i-1]) for i in range(1,len(BIC))]\n",
    "plt.plot(list(range(4,21)),difBIC,'ks-',linewidth=2)\n",
    "plt.xlabel(\"Number of clusters\")\n",
    "plt.ylabel(r\"$-\\Delta$BIC\")\n",
    "plt.title('BIC variation between clusters')\n",
    "plt.grid(True)\n",
    "\n",
    "plt.tight_layout()\n",
    "\n",
    "plt.savefig('distancias_clusters.eps', format='eps', dpi=1200)\n"
   ]
  },
  {
   "cell_type": "code",
   "execution_count": null,
   "metadata": {
    "collapsed": true
   },
   "outputs": [],
   "source": [
    "# K-means Por semanas\n",
    "#list_centers = []\n",
    "#list_labels = []\n",
    "#for sem in range(0,6):\n",
    "#    km = KMeans(n_clusters).fit(dfSn[sem])    \n",
    "#    list_labels.append(km.labels_)\n",
    "#    list_centers.append(km.cluster_centers_)\n"
   ]
  },
  {
   "cell_type": "code",
   "execution_count": null,
   "metadata": {
    "collapsed": true
   },
   "outputs": [],
   "source": [
    "#for sem in range(0,6):\n",
    "#    mf.showTable(Usuarios, list_labels[sem])"
   ]
  },
  {
   "cell_type": "code",
   "execution_count": null,
   "metadata": {
    "collapsed": true
   },
   "outputs": [],
   "source": [
    "#colors = 12*['b','r','g','k','c','y','m']\n",
    "#mp.plotScatter(dfSn, which='scatterlabel', labels = list_labels, centers = list_centers)\n",
    "#mp.plotVectors(list_centers, dfSn[0].columns)"
   ]
  },
  {
   "cell_type": "code",
   "execution_count": null,
   "metadata": {
    "collapsed": true
   },
   "outputs": [],
   "source": [
    "#with open(\"transf.txt\", \"w\") as outfile:\n",
    "\n",
    "#    for i in list_labels:\n",
    "#        for j in i:\n",
    "#            outfile.write(\"%d\"%(j)+\" \")\n",
    "#        outfile.write(\"\\n\")"
   ]
  },
  {
   "cell_type": "markdown",
   "metadata": {},
   "source": [
    "### Modelo GMM"
   ]
  },
  {
   "cell_type": "code",
   "execution_count": null,
   "metadata": {
    "collapsed": true
   },
   "outputs": [],
   "source": [
    "meanBIC, meanAIC = mp.clusterValidationCurves(dfTn, num_comp = 20, nseeds = 100, covarType = 'full', verbose = False)"
   ]
  },
  {
   "cell_type": "markdown",
   "metadata": {},
   "source": [
    "Media del mínimos BIC: 9.73 . Media de mínimos AIC: 17.31 .\n",
    "Mínimo de media BIC: 8 . Mínimo de media AIC: 18 ."
   ]
  },
  {
   "cell_type": "code",
   "execution_count": null,
   "metadata": {
    "collapsed": true
   },
   "outputs": [],
   "source": [
    "plt.subplot(211)\n",
    "plt.plot(np.array(range(4,20+1)), meanAIC[3:], 'ko-', label=\"AIC\")\n",
    "plt.plot(np.array(range(4,20+1)), meanBIC[3:], 'ks--', label=\"BIC\")\n",
    "plt.grid(True)\n",
    "plt.xlabel(\"Number of components\")\n",
    "plt.ylabel(\"Log. probability\")\n",
    "plt.legend()\n",
    "plt.subplot(212)\n",
    "difbic = [-(meanBIC[i]-meanBIC[i-1]) for i in range(1,len(meanBIC))]\n",
    "difaic = [-(meanAIC[i]-meanAIC[i-1]) for i in range(1,len(meanAIC))]\n",
    "\n",
    "plt.plot(np.array(range(4,20+1)), difaic[2:], 'ko-', label=r\"$\\Delta$AIC\")\n",
    "plt.plot(np.array(range(4,20+1)), difbic[2:], 'ks--', label=r\"$\\Delta$BIC\")\n",
    "plt.grid(True)\n",
    "plt.xlabel(\"Number of components\")\n",
    "plt.ylabel(\"Log. probability\")\n",
    "plt.legend()\n",
    "plt.show()"
   ]
  },
  {
   "cell_type": "code",
   "execution_count": null,
   "metadata": {
    "collapsed": true
   },
   "outputs": [],
   "source": [
    "labels, centers = mf.clusterGMM(dfTn, num_comp = 8, \n",
    "                    covarType = 'full', seed = 20, verbose = 2)"
   ]
  },
  {
   "cell_type": "code",
   "execution_count": null,
   "metadata": {
    "collapsed": true
   },
   "outputs": [],
   "source": [
    "mp.plotVectors(centers, list(dfTn.columns), colors = 'colormap')\n",
    "mf.showTable(Usuarios, labels)"
   ]
  },
  {
   "cell_type": "code",
   "execution_count": null,
   "metadata": {
    "collapsed": true
   },
   "outputs": [],
   "source": [
    "n_clusters = range(4,21)\n",
    "covarType = 'full'\n",
    "avg = []\n",
    "for n in n_clusters:\n",
    "    d = []\n",
    "    for s in rs:\n",
    "        labels, centers = mf.clusterGMM(dfTn, num_comp = n, \n",
    "                                    covarType = covarType, seed = s, verbose = 0, returnMetrics = False)\n",
    "        cc = centers\n",
    "        for j in range(len(cc)):\n",
    "            for k in range(j+1,len(cc)):\n",
    "                d.append(mse(cc[j],cc[k]))\n",
    "    avg.append(np.mean(d))"
   ]
  },
  {
   "cell_type": "code",
   "execution_count": null,
   "metadata": {
    "collapsed": true
   },
   "outputs": [],
   "source": [
    "plt.plot(np.array(range(4,20+1)), avg, 'ks-')\n",
    "plt.ylabel('Average Inter-cluster Distance')\n",
    "plt.xlabel('Number of clusters')\n",
    "plt.title('Inter-Cluster Distance')\n",
    "plt.grid(True)"
   ]
  },
  {
   "cell_type": "code",
   "execution_count": null,
   "metadata": {
    "collapsed": true
   },
   "outputs": [],
   "source": []
  },
  {
   "cell_type": "code",
   "execution_count": null,
   "metadata": {
    "collapsed": true
   },
   "outputs": [],
   "source": []
  },
  {
   "cell_type": "code",
   "execution_count": null,
   "metadata": {
    "collapsed": true
   },
   "outputs": [],
   "source": []
  }
 ],
 "metadata": {
  "anaconda-cloud": {},
  "kernelspec": {
   "display_name": "Python 3",
   "language": "python",
   "name": "python3"
  },
  "language_info": {
   "codemirror_mode": {
    "name": "ipython",
    "version": 3
   },
   "file_extension": ".py",
   "mimetype": "text/x-python",
   "name": "python",
   "nbconvert_exporter": "python",
   "pygments_lexer": "ipython3",
   "version": "3.6.3"
  }
 },
 "nbformat": 4,
 "nbformat_minor": 1
}
