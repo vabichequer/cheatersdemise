{
 "cells": [
  {
   "cell_type": "code",
   "execution_count": null,
   "metadata": {
    "collapsed": true
   },
   "outputs": [],
   "source": [
    "import pandas as pd\n",
    "import numpy as np\n",
    "import matplotlib.pyplot as plt\n",
    "from sklearn.metrics import roc_curve, auc\n",
    "\n",
    "%matplotlib inline"
   ]
  },
  {
   "cell_type": "code",
   "execution_count": null,
   "metadata": {},
   "outputs": [],
   "source": [
    "modelos = [\"LogisticRegression\", \"DecisionTreeClassifier\", \"RandomForestClassifier\", \"XGBClassifier\", \"MLPClassifier\"]\n",
    "mod = [\"LogReg\", \"DTC\", \"RFC\", \"XGB\",\"MLP\"]\n",
    "\n",
    "folder = \"Resultados_PrediccionClusterSospechoso\""
   ]
  },
  {
   "cell_type": "code",
   "execution_count": null,
   "metadata": {},
   "outputs": [],
   "source": [
    "plt.figure(figsize=(5,5))\n",
    "\n",
    "leg = []\n",
    "\n",
    "\n",
    "for m in range(len(modelos)):\n",
    "    scorefile = './'+folder+'/scores'+modelos[m]+'_'+'.csv'\n",
    "    df = pd.read_csv(scorefile, sep = \";\", header = None)\n",
    "\n",
    "    df[4] = df[3].apply(lambda x: x.split(\"[\")[1].split(\"]\")[0].split(\",\"))\n",
    "    df[6] = df[4].apply(lambda x: float(x[1]))\n",
    "\n",
    "    fpr, tpr, thr = roc_curve(df[2], df[6])\n",
    "\n",
    "    autc = auc(fpr, tpr)\n",
    "    plt.plot(fpr, tpr, linewidth = 2)\n",
    "    plt.xlabel('False Positive Rate')\n",
    "    plt.ylabel('True Positive Rate')\n",
    "    leg.append(mod[m]+\" (auc: \"+\"%.3f\"%(autc)+\")\")\n",
    "\n",
    "plt.legend(leg, loc=\"lower right\")\n",
    "plt.plot([0, 1], [0, 1], color='k', linestyle='--', linewidth = 2)\n",
    "plt.grid(True)\n",
    "plt.title(\"Cluster Prediction\")\n",
    "    \n",
    "plt.savefig('./'+folder+'/roc_curves.eps', format='eps', dpi=1000)"
   ]
  },
  {
   "cell_type": "code",
   "execution_count": 13,
   "metadata": {},
   "outputs": [],
   "source": [
    "def DETCurve(fps,tpr, ax=None):\n",
    "    from matplotlib import pyplot as plt\n",
    "    import matplotlib\n",
    "\n",
    "    \"\"\"\n",
    "    Given false positive and false negative rates, produce a DET Curve.\n",
    "    The false positive rate is assumed to be increasing while the false\n",
    "    negative rate is assumed to be decreasing.\n",
    "    \"\"\"\n",
    "    if ax == None:\n",
    "        ax = plt.axes()\n",
    "    \n",
    "    fps = [x*100 for x in fpr]\n",
    "    fns = [x*100 for x in 1-tpr]\n",
    "    plt.plot(fps,fns, linewidth = 2)\n",
    "    plt.yscale('log')\n",
    "    plt.xscale('log')\n",
    "    ticks_to_use = [0.001,0.002,0.005,0.01,0.02,0.05,0.1,0.2,0.5,1,2,5,10,20,50]\n",
    "    ax.get_xaxis().set_major_formatter(matplotlib.ticker.ScalarFormatter())\n",
    "    ax.get_yaxis().set_major_formatter(matplotlib.ticker.ScalarFormatter())\n",
    "    ax.set_xticks(ticks_to_use)\n",
    "    ax.set_yticks(ticks_to_use)\n",
    "    plt.axis([0.001,50,0.001,50])\n",
    "    plt.grid(True)\n",
    "    plt.xlabel(\"False Positive Rate\")\n",
    "    plt.ylabel(\"False Negative Rate\")\n",
    "    "
   ]
  },
  {
   "cell_type": "code",
   "execution_count": null,
   "metadata": {},
   "outputs": [],
   "source": []
  },
  {
   "cell_type": "code",
   "execution_count": null,
   "metadata": {},
   "outputs": [],
   "source": []
  },
  {
   "cell_type": "code",
   "execution_count": null,
   "metadata": {
    "collapsed": true
   },
   "outputs": [],
   "source": []
  }
 ],
 "metadata": {
  "kernelspec": {
   "display_name": "Python 3",
   "language": "python",
   "name": "python3"
  },
  "language_info": {
   "codemirror_mode": {
    "name": "ipython",
    "version": 3
   },
   "file_extension": ".py",
   "mimetype": "text/x-python",
   "name": "python",
   "nbconvert_exporter": "python",
   "pygments_lexer": "ipython3",
   "version": "3.6.3"
  }
 },
 "nbformat": 4,
 "nbformat_minor": 1
}
