{
 "cells": [
  {
   "cell_type": "code",
   "execution_count": null,
   "metadata": {
    "collapsed": true
   },
   "outputs": [],
   "source": []
  },
  {
   "cell_type": "markdown",
   "metadata": {},
   "source": [
    "### Importación de librerías"
   ]
  },
  {
   "cell_type": "code",
   "execution_count": 1,
   "metadata": {
    "collapsed": true
   },
   "outputs": [],
   "source": [
    "# Librerías generales\n",
    "from IPython.core.display import display, HTML\n",
    "import json\n",
    "import numpy as np\n",
    "import pandas as pd\n",
    "from pandas.tools.plotting import scatter_matrix\n",
    "pd.set_option('display.max_columns', 50)\n",
    "\n",
    "# Librerías ML\n",
    "from sklearn.cluster import MeanShift\n",
    "from sklearn.decomposition import PCA\n",
    "from scipy.cluster import hierarchy\n",
    "hierarchy.set_link_color_palette(['b', 'r', 'm', 'c'])\n",
    "\n",
    "# Gráficos\n",
    "import matplotlib.pyplot as plt\n",
    "from mpl_toolkits.mplot3d import Axes3D\n",
    "%matplotlib inline\n",
    "from matplotlib import style\n",
    "style.use(\"ggplot\")\n",
    "plt.rcParams[\"figure.figsize\"] = [12,9]\n",
    "colors = 12*['r','g','b','c','k','y','m']\n"
   ]
  },
  {
   "cell_type": "markdown",
   "metadata": {
    "collapsed": false
   },
   "source": [
    "### Ocultar código"
   ]
  },
  {
   "cell_type": "code",
   "execution_count": 20,
   "metadata": {
    "collapsed": false
   },
   "outputs": [
    {
     "data": {
      "text/html": [
       "<script> code_show=false; function code_toggle(){ if (code_show){ $(\"div.input\").hide(); }else { $(\"div.input\").show(); } code_show = !code_show} $( document ).ready(code_toggle);</script><center><form action=\"javascript:code_toggle()\"><input type=\"submit\" value=\"Mostrar/Ocultar el codigo\"></form></center>"
      ],
      "text/plain": [
       "<IPython.core.display.HTML object>"
      ]
     },
     "metadata": {},
     "output_type": "display_data"
    }
   ],
   "source": [
    "# Ejecutar esta celda para ocultar el código\n",
    "Ocultar_Codigo = False\n",
    "display(HTML('<script> code_show='+str(Ocultar_Codigo).lower()+'; function code_toggle()'+\n",
    "             '{ if (code_show){ $(\"div.input\").hide(); }'\n",
    "             'else { $(\"div.input\").show(); } code_show = !code_show} ' +\n",
    "             '$( document ).ready(code_toggle);'+\n",
    "             '</script><center><form action=\"javascript:code_toggle()\">'+\n",
    "             '<input type=\"submit\" value=\"Mostrar/Ocultar el codigo\"></form></center>'))"
   ]
  },
  {
   "cell_type": "code",
   "execution_count": null,
   "metadata": {
    "collapsed": true
   },
   "outputs": [],
   "source": []
  },
  {
   "cell_type": "markdown",
   "metadata": {},
   "source": [
    "## Resultados"
   ]
  },
  {
   "cell_type": "code",
   "execution_count": 21,
   "metadata": {
    "collapsed": false
   },
   "outputs": [
    {
     "data": {
      "text/html": [
       "<h3>Matriz de frencuencias</h3><p><center><table style='width:40%'><tr><th>Dimensión/Semana</th><th>1</th><th>2</th><th>3</th><th>4</th><th>5</th><th>6</th></tr><tr><th>49</th><td>8</td><td>172</td><td>161</td><td>185</td><td>297</td><td>446</td></tr></table></center><p><p><h3>Matriz de frecuencias con PCA</h3><p><center><table style='width:40%'><tr><th>Dimensión/Semana</th><th>1</th><th>2</th><th>3</th><th>4</th><th>5</th><th>6</th></tr><tr><th>2</th><td>3</td><td>7</td><td>8</td><td>10</td><td>16</td><td>22</td></tr><tr><th>8</th><td>5</td><td>44</td><td>37</td><td>56</td><td>110</td><td>175</td></tr><tr><th>16</th><td>8</td><td>103</td><td>94</td><td>134</td><td>232</td><td>377</td></tr></table></center><p><p><h3>Matriz de transiciones</h3><p><center><table style='width:40%'><tr><th>Dimensión/Semana</th><th>1</th><th>2</th><th>3</th><th>4</th><th>5</th><th>6</th></tr><tr><th>49</th><td>329</td><td>651</td><td>671</td><td>612</td><td>594</td><td>569</td></tr></table></center><p><p><h3>Matriz de transiciones con PCA</h3><p><center><table style='width:40%'><tr><th>Dimensión/Semana</th><th>1</th><th>2</th><th>3</th><th>4</th><th>5</th><th>6</th></tr><tr><th>2</th><td>25</td><td>42</td><td>46</td><td>48</td><td>56</td><td>82</td></tr><tr><th>8</th><td>192</td><td>409</td><td>442</td><td>427</td><td>446</td><td>410</td></tr><tr><th>16</th><td>305</td><td>615</td><td>634</td><td>568</td><td>573</td><td>524</td></tr></table></center><p><p>"
      ],
      "text/plain": [
       "<IPython.core.display.HTML object>"
      ]
     },
     "metadata": {},
     "output_type": "display_data"
    }
   ],
   "source": [
    "# Visualización de resultados\n",
    "# Esta celda muestra en una tabla los resultados guardados de ejecuciones anteriores.\n",
    "nombre_fichero_resultados = \"./numeroCusters.json\"\n",
    "\n",
    "# Diccionario de Experimentos\n",
    "expDic = {\"T\": \"Matriz de transiciones\",\n",
    "          \"T-PCA\": \"Matriz de transiciones con PCA\",\n",
    "          \"T-PCAG\": \"Matriz de transiciones con PCA genérico\",\n",
    "          \"F\": \"Matriz de frencuencias\",\n",
    "          \"F-PCA\": \"Matriz de frecuencias con PCA\",\n",
    "          \"F-PCAG\": \"Matriz de frecuencias con PCA genérico\"\n",
    "         }\n",
    "# Si no hay ningún documento, no muestra nada.\n",
    "try:\n",
    "    html = \"\"\n",
    "    cabecera = \"<center><table style='width:40%'><tr><th>Dimensión/Semana</th>\"+\\\n",
    "                \"<th>1</th><th>2</th><th>3</th><th>4</th><th>5</th><th>6</th></tr>\"\n",
    "    showdic = {}\n",
    "    \n",
    "    # Lee el fichero con los resultados de los experimentos\n",
    "    with open(nombre_fichero_resultados, \"r\") as fr:\n",
    "        for line in fr:\n",
    "            data_in = json.loads(line)\n",
    "            code = data_in[\"Nombre\"]\n",
    "            code = code.split(\"@\")\n",
    "            # code[0]: nombre del experimento\n",
    "            # code[1]: dimensión de los vectores de características.\n",
    "            \n",
    "            datalist = [int(code[1])]\n",
    "            datalist.append(data_in[\"nClusters\"])\n",
    "            try:\n",
    "                showdic[str(code[0])].append(datalist)\n",
    "            except:\n",
    "                showdic[str(code[0])] = [datalist]\n",
    "    fr.close()\n",
    "    \n",
    "    tipos = sorted(showdic)\n",
    "    \n",
    "    # Iteramos por tipos de experimentos\n",
    "    for typ in tipos:\n",
    "        entries = showdic[typ]\n",
    "        entries = sorted(entries, key=lambda e: e[:][0])\n",
    "        html += \"<h3>\"+expDic[typ]+\"</h3><p>\"\n",
    "        html += cabecera\n",
    "        \n",
    "        # Número de registros por tabla\n",
    "        for poslist in range(0,len(entries)):\n",
    "            html += \"<tr><th>\"+\"%d\"%entries[poslist][0]+\"</th>\"\n",
    "            \n",
    "            #Número de clusters por semana\n",
    "            for cl in entries[poslist][1]:\n",
    "                html += \"<td>\"+\"%d\"%cl+\"</td>\"    \n",
    "            html +=\"</tr>\"\n",
    "        html += \"</table></center><p><p>\"\n",
    "        \n",
    "    # Mostramos las tablas HTML\n",
    "    display(HTML(html))\n",
    "except:\n",
    "    print \"No hay resultados que mostrar.\""
   ]
  },
  {
   "cell_type": "code",
   "execution_count": null,
   "metadata": {
    "collapsed": false
   },
   "outputs": [],
   "source": []
  },
  {
   "cell_type": "markdown",
   "metadata": {},
   "source": [
    "<a name=\"T1\"></a>\n",
    "## Tarea 1: Conversión de matrices de transición a vectores de características\n",
    "\n",
    "Este script transforma las matrices de transiciones a vectores de características, las cuales tienen la siguiente forma:\n",
    "\n",
    "    n_semana x n_instancia x n_atributo\n",
    "\n",
    "Además, el uso de matrices de frencuencias en vez de matrices de transiciones se puede cambiar modificando el parámetro *Use_freq*.\n",
    "\n",
    "--\n",
    "\n",
    "- [Inicio](#Inicio)\n",
    "- [Tarea 2: Filtrado y transformación de características](#T2)\n",
    "- [Tarea 3: Reducción de dimensionalidad con PCA](#T3)\n",
    "- [Tarea 4: Clustering jerárquico: representación del dendrograma](#T4)\n",
    "- [Tarea 5: Aplicación de MeanShift para la estimación de clusters](#T5)\n"
   ]
  },
  {
   "cell_type": "code",
   "execution_count": null,
   "metadata": {
    "collapsed": true
   },
   "outputs": [],
   "source": []
  },
  {
   "cell_type": "markdown",
   "metadata": {
    "collapsed": true
   },
   "source": [
    "### *Variables*: uso de matrices de frecuencias y nombre del fichero de entrada \n",
    "- *Use_frec*: si está a true usa matrices de frecuencias, si no usa matrices de transiciones.\n",
    "- *infile_name*: nombre del fichero con las matrices de transiciones."
   ]
  },
  {
   "cell_type": "code",
   "execution_count": 22,
   "metadata": {
    "collapsed": true
   },
   "outputs": [],
   "source": [
    "Use_freq = True\n",
    "infile_name = './brick_freq.json'"
   ]
  },
  {
   "cell_type": "code",
   "execution_count": null,
   "metadata": {
    "collapsed": true
   },
   "outputs": [],
   "source": []
  },
  {
   "cell_type": "code",
   "execution_count": 23,
   "metadata": {
    "collapsed": false
   },
   "outputs": [],
   "source": [
    "# Se genera un vector de usuarios y una matriz de tamaño n_usuarios x n_atributos (49) por semana.\n",
    "Usuarios = []\n",
    "Features = [[],[],[],[],[],[]]\n",
    "\n",
    "# Fichero de entrada\n",
    "with open(infile_name, \"r\") as infile:\n",
    "    \n",
    "    # Cada línea del fichero de entrada es un usuario diferente.\n",
    "    for line in infile:\n",
    "        data_in = json.loads(line)\n",
    "        \n",
    "        # Almacenamos los usuarios\n",
    "        Usuarios.append(data_in[\"Usuario\"])\n",
    "        \n",
    "        # Creamos una lista de vectores de características, de tamaño n_semanas x n_atributos\n",
    "        feat_ini = [[0]*49,[0]*49,[0]*49,[0]*49,[0]*49,[0]*49]\n",
    "        \n",
    "        # Iteramos sobre las matrices de características de las cuales tenemos datos.\n",
    "        for caract in data_in[\"Caracteristicas\"]:\n",
    "            semana = int(caract[\"s\"])\n",
    "            features = []\n",
    "            \n",
    "            # Extendemos la matriz de transiciones a un vectores de características.\n",
    "            for row in caract[\"tm\"]:\n",
    "                features.extend(row)\n",
    "            \n",
    "            # Si queremos usar tablas de frecuencias, normalizamos entre el número de transiciones por semana\n",
    "            if Use_freq:\n",
    "                features =  [x / float(caract[\"nt\"]) for x in features]\n",
    "                \n",
    "            # Almacenamos en la lista de vectores de caracterísitcas\n",
    "            feat_ini[semana-1] = features\n",
    "            \n",
    "        # Almacenamos en la matriz de características\n",
    "        for j in range(0,6):\n",
    "            Features[j].append(feat_ini[j])\n",
    "            "
   ]
  },
  {
   "cell_type": "code",
   "execution_count": 24,
   "metadata": {
    "collapsed": false
   },
   "outputs": [],
   "source": [
    "# Muestra los vectores de características y los usuarios.\n",
    "# No es recomendable utilizar con grandes cantidades de datos.\n",
    "# deprecated!\n",
    "\n",
    "def printFeatures(Usuarios, Features):\n",
    "    for s in range(0, len(Features)):\n",
    "        print\n",
    "        print \"SEMANA \", s+1\n",
    "        print\n",
    "        for u in range(0,len(Usuarios)):\n",
    "            print Usuarios[u] + \"[\",\n",
    "            for f in range(0,len(Features[s][u])):\n",
    "                print str(Features[s][u][f]),\n",
    "            print \"]\""
   ]
  },
  {
   "cell_type": "code",
   "execution_count": null,
   "metadata": {
    "collapsed": false
   },
   "outputs": [],
   "source": []
  },
  {
   "cell_type": "markdown",
   "metadata": {},
   "source": [
    "<a name=\"T2\"></a>\n",
    "## Tarea 2: Filtrado y transformación de características\n",
    "\n",
    "En este script se filtran las características a utilizar con el fin de mejorar el clustering.\n",
    "\n",
    "--\n",
    "\n",
    "- [Inicio](#Inicio)\n",
    "- [Tarea 1: Conversión de matrices de transición a vectores de características](#T1)\n",
    "- [Tarea 3: Reducción de dimensionalidad con PCA](#T3)\n",
    "- [Tarea 4: Clustering jerárquico: representación del dendrograma](#T4)\n",
    "- [Tarea 5: Aplicación de MeanShift para la estimación de clusters](#T5)\n"
   ]
  },
  {
   "cell_type": "code",
   "execution_count": null,
   "metadata": {
    "collapsed": true
   },
   "outputs": [],
   "source": []
  },
  {
   "cell_type": "markdown",
   "metadata": {
    "collapsed": true
   },
   "source": [
    "Aquí se pueden aplicar transformaciones relacionadas con el filtrado de datos."
   ]
  },
  {
   "cell_type": "code",
   "execution_count": null,
   "metadata": {
    "collapsed": true
   },
   "outputs": [],
   "source": []
  },
  {
   "cell_type": "markdown",
   "metadata": {},
   "source": [
    "<a name=\"T3\"></a>\n",
    "## Tarea 3: Reducción de dimensionalidad con PCA\n",
    "\n",
    "En este script se reduce la dimensionalidad usando PCA.\n",
    "Se puede variar si se quiere o no realizar PCA, la dimensión a la que se quiere transformar y si se quiere usar un PCA genérico (con los datos de todas las semanas).\n",
    "\n",
    "--\n",
    "\n",
    "- [Inicio](#Inicio)\n",
    "- [Tarea 1: Conversión de matrices de transición a vectores de características](#T1)\n",
    "- [Tarea 2: Filtrado y transformación de características](#T2)\n",
    "- [Tarea 4: Clustering jerárquico: representación del dendrograma](#T3)\n",
    "- [Tarea 5: Aplicación de MeanShift para la estimación de clusters](#T5)\n"
   ]
  },
  {
   "cell_type": "code",
   "execution_count": null,
   "metadata": {
    "collapsed": true
   },
   "outputs": [],
   "source": []
  },
  {
   "cell_type": "markdown",
   "metadata": {},
   "source": [
    "### *Variables*: Uso de PCA, PCA genérico, dimensión a transformar y características\n",
    "- *Use_PCA*: si está a True se aplica PCA, si no, no se aplica\n",
    "- *Use_generic_PCA*: si está a True se aplica un PCA genérico de todas las semanas.\n",
    "- *dimPCA*: dimensión del PCA.\n",
    "- *feat*: nombre de las características de entrada a utilizar."
   ]
  },
  {
   "cell_type": "code",
   "execution_count": 66,
   "metadata": {
    "collapsed": true
   },
   "outputs": [],
   "source": [
    "Use_PCA = True\n",
    "Use_generic_PCA = False\n",
    "dimPCA = 2\n",
    "feat = Features"
   ]
  },
  {
   "cell_type": "code",
   "execution_count": null,
   "metadata": {
    "collapsed": true
   },
   "outputs": [],
   "source": []
  },
  {
   "cell_type": "code",
   "execution_count": 80,
   "metadata": {
    "collapsed": false
   },
   "outputs": [
    {
     "name": "stdout",
     "output_type": "stream",
     "text": [
      "Componentes:\n",
      "Semana 1\n",
      "[[-1. -0.]\n",
      " [-0. -1.]]\n",
      "Semana 2\n",
      "[[ 1.  0.]\n",
      " [-0. -1.]]\n",
      "Semana 3\n",
      "[[-1. -0.]\n",
      " [ 0.  1.]]\n",
      "Semana 4\n",
      "[[  1.00000000e+00   1.13188371e-13]\n",
      " [  1.13188371e-13  -1.00000000e+00]]\n",
      "Semana 5\n",
      "[[ 1.  0.]\n",
      " [-0. -1.]]\n",
      "Semana 6\n",
      "[[ 1.  0.]\n",
      " [-0. -1.]]\n",
      "Aplicado PCA por semanas con reducción de dimensionalidad a 2.\n"
     ]
    }
   ],
   "source": [
    "# Si no se quiere usar PCA, salimos,\n",
    "if Use_PCA == False:\n",
    "    pcaFeatures = Features\n",
    "    \n",
    "    print \"No se ha aplicado PCA.\"\n",
    "    \n",
    "# Si se quiere usar PCA Genérico, creamos una tabla de datos de todas las semanas\n",
    "elif Use_generic_PCA:\n",
    "    \n",
    "    pca = PCA(dimPCA)\n",
    "    genericFeatures = []\n",
    "    pcaFeatures = []\n",
    "    \n",
    "    for sem in range(0,len(feat)):\n",
    "        genericFeatures.extend(feat[sem])\n",
    "    \n",
    "    # Entrenamos el PCA\n",
    "    pca.fit(genericFeatures)\n",
    "    \n",
    "    # Aplicamos PCA\n",
    "    for sem in range(0,len(feat)):\n",
    "        pcaFeatures.append(pca.transform(feat[sem]))\n",
    "        \n",
    "    # Mostramos las componentes\n",
    "    print \"Componentes:\"\n",
    "    print pca.components_\n",
    "    print\n",
    "    print \"Aplicado PCA genérico con reducción de dimensionalidad a \" + \"%d\"%(dimPCA) + \".\"\n",
    "\n",
    "# Si se quiere usar PCA por semana\n",
    "else:\n",
    "    pca = PCA(dimPCA)\n",
    "    pcaFeatures = []\n",
    "    print \"Componentes:\"\n",
    "    \n",
    "    # Entrenamos y aplicamos PCA\n",
    "    for sem in range(0,len(feat)):        \n",
    "        pcaFeatures.append(pca.fit_transform(feat[sem]))\n",
    "        \n",
    "        # Mostramos las componentes\n",
    "        print \"Semana\",sem+1\n",
    "        print pca.components_\n",
    "\n",
    "    print    \n",
    "    print \"Aplicado PCA por semanas con reducción de dimensionalidad a \" + \"%d\"%(dimPCA) +\".\""
   ]
  },
  {
   "cell_type": "code",
   "execution_count": null,
   "metadata": {
    "collapsed": false
   },
   "outputs": [],
   "source": []
  },
  {
   "cell_type": "markdown",
   "metadata": {
    "collapsed": false
   },
   "source": [
    "<a name=\"T4\"></a>\n",
    "## Tarea 4: Clustering jerárquico: representación del dendrograma\n",
    "\n",
    "En este script se realiza un clustering jerárquico y se muestra el dendrograma resultante sobre las nuevas características (las transformadas).\n",
    "El número de subclusters que se representa en el dendrograma es parametrizable.\n",
    "Puede cancelarse la representación poniendo la variable *Show_denro* a *False*.\n",
    "\n",
    "--\n",
    "\n",
    "- [Inicio](#Inicio)\n",
    "- [Tarea 1: Conversión de matrices de transición a vectores de características](#T1)\n",
    "- [Tarea 2: Filtrado y transformación de características](#T2)\n",
    "- [Tarea 3: Reducción de dimensionalidad con PCA](#T3)\n",
    "- [Tarea 5: Aplicación de MeanShift para la estimación de clusters](#T5)\n"
   ]
  },
  {
   "cell_type": "code",
   "execution_count": null,
   "metadata": {
    "collapsed": true
   },
   "outputs": [],
   "source": []
  },
  {
   "cell_type": "markdown",
   "metadata": {},
   "source": [
    "### *Variables*: profundidad de clusters a representar en el dendrograma y flag de representación, características\n",
    "- *Show_dendro*: si está a True muestra los dendrogramas por semana.\n",
    "- *dendro_depth*: profundidad del dendrograma. Valor máximo recomendado 150.\n",
    "- *feat*: características a utilizar para mostrar el dendrograma"
   ]
  },
  {
   "cell_type": "code",
   "execution_count": 68,
   "metadata": {
    "collapsed": true
   },
   "outputs": [],
   "source": [
    "Show_denro = False\n",
    "dendro_depth = 50\n",
    "feat = pcaFeatures"
   ]
  },
  {
   "cell_type": "code",
   "execution_count": 69,
   "metadata": {
    "collapsed": false
   },
   "outputs": [],
   "source": [
    "# Clustering jerárquico y representación de los dendrogramas\n",
    "if Show_denro:\n",
    "    for sem in range(0,len(feat)):\n",
    "        Z = hierarchy.linkage(feat[sem], 'complete', metric='euclidean')\n",
    "        \n",
    "        # Representación de los dendrogramas\n",
    "        dn2 = hierarchy.dendrogram(Z, dendro_depth, 'lastp', above_threshold_color='k', orientation='right')\n",
    "        plt.title(\"Dendrograma Semana \" + str(sem+1))\n",
    "        plt.xlabel(\"Distancia\")\n",
    "        plt.ylabel(\"Clusters\")\n",
    "        plt.show()"
   ]
  },
  {
   "cell_type": "code",
   "execution_count": null,
   "metadata": {
    "collapsed": true
   },
   "outputs": [],
   "source": []
  },
  {
   "cell_type": "markdown",
   "metadata": {},
   "source": [
    "<a name=\"T5\"></a>\n",
    "## Tarea 5: Aplicación de MeanShift para la estimación de clusters\n",
    "\n",
    "En este script estima el número de clusters utilizando el algoritmo MeanShift, que busca máximos locales en los datos.\n",
    "Se pueden representar los clusters encontrados de baja dimensionalidad.\n",
    "\n",
    "Los datos se guardan en un fichero JSON que se carga al inicio de este documento.\n",
    "--\n",
    "\n",
    "- [Inicio](#Inicio)\n",
    "- [Tarea 1: Conversión de matrices de transición a vectores de características](#T1)\n",
    "- [Tarea 2: Filtrado y Transformación de Características](#T2)\n",
    "- [Tarea 3: Reducción de dimensionalidad con PCA](#T3)\n",
    "- [Tarea 4: Clustering jerárquico: representación del dendrograma](#T4)\n"
   ]
  },
  {
   "cell_type": "code",
   "execution_count": null,
   "metadata": {
    "collapsed": true
   },
   "outputs": [],
   "source": []
  },
  {
   "cell_type": "markdown",
   "metadata": {},
   "source": [
    "### *Variables*: flag de guardar en fichero, nombre del fichero, código del experimento, flag de representación y características\n",
    "- *Guardar_fichero*: si está a True, guarda el resultado del experimento en un fichero JSON.\n",
    "- *nombre_fichero_guardar*: nombre del fichero donde guardar los datos del experimento.\n",
    "- *Show_MSCLuesters*: si está a True y la dimensión lo permite, muestra una representación de los clusters.\n",
    "- *feat*: características a utilizar para usar MeanShift.\n",
    "- *codigo_experimento*: nombre codificado del experimento a relizar."
   ]
  },
  {
   "cell_type": "code",
   "execution_count": 70,
   "metadata": {
    "collapsed": false
   },
   "outputs": [],
   "source": [
    "Guardar_fichero = False\n",
    "nombre_fichero_guardar = \"./numeroCusters.json\"\n",
    "Show_MSClusters = True\n",
    "feat = pcaFeatures\n",
    "\n",
    "codigo_experimento = (\"F\" if Use_freq else \"T\") +\\\n",
    "    (\"-PCA\" if Use_PCA else \"\") + (\"G\" if Use_generic_PCA else \"\") + \\\n",
    "    \"@\" + \"%d\"%(len(feat[0][0]))\n",
    "    "
   ]
  },
  {
   "cell_type": "code",
   "execution_count": 71,
   "metadata": {
    "collapsed": false,
    "scrolled": true
   },
   "outputs": [
    {
     "data": {
      "text/html": [
       "<center><h1><font color='blue'>F-PCA@2</font></h1></center>"
      ],
      "text/plain": [
       "<IPython.core.display.HTML object>"
      ]
     },
     "metadata": {},
     "output_type": "display_data"
    }
   ],
   "source": [
    "# Muestra el nombre del experimento\n",
    "display(HTML(\"<center><h1><font color='blue'>\"+codigo_experimento+\"</font></h1></center>\"))"
   ]
  },
  {
   "cell_type": "code",
   "execution_count": null,
   "metadata": {
    "collapsed": false
   },
   "outputs": [],
   "source": []
  },
  {
   "cell_type": "code",
   "execution_count": 79,
   "metadata": {
    "collapsed": false
   },
   "outputs": [
    {
     "name": "stdout",
     "output_type": "stream",
     "text": [
      "Semana 1\n",
      "Número estimado de clusters: 3\n"
     ]
    },
    {
     "data": {
      "image/png": "[encoded data removed]",
      "text/plain": [
       "<matplotlib.figure.Figure at 0x7f318c3a4910>"
      ]
     },
     "metadata": {},
     "output_type": "display_data"
    },
    {
     "name": "stdout",
     "output_type": "stream",
     "text": [
      "[[  3.78496955e-01   1.14656068e-02   5.34843614e-03   1.66952133e-04\n",
      "    2.50471973e-03   1.37676641e-03   9.05743757e-01   8.63292381e-03\n",
      "    1.75968380e-02  -4.62290198e-05  -6.68924455e-06  -4.61028644e-05\n",
      "    7.34218712e-05   6.43745320e-03   3.19375885e-03   5.00137737e-04\n",
      "    7.39547347e-03   2.71141247e-06  -1.16270146e-04  -1.09733746e-04\n",
      "    4.88801243e-03   6.14217302e-04   4.41421202e-05   5.52657227e-06\n",
      "   -1.92203096e-04  -4.13090607e-06   1.86516333e-05   1.52322438e-03\n",
      "    1.14338110e-02   2.20376131e-05  -1.41848795e-04   1.13762762e-05\n",
      "   -1.33860850e-02   3.54362700e-06  -1.52751239e-02   1.07432217e-03\n",
      "    7.47867300e-05   5.71488735e-05   2.94599832e-04   1.42128851e-05\n",
      "    1.48932724e-03   2.60394047e-03   1.87263630e-01   4.17827033e-03\n",
      "    4.46177037e-03   3.64321177e-03   1.18301960e-03   3.06429967e-03\n",
      "    0.00000000e+00]\n",
      " [  2.34168742e-02  -7.21820169e-03  -4.63254843e-03  -9.59818370e-05\n",
      "    9.36047475e-03  -6.85174581e-05   8.42299990e-03  -5.01327372e-03\n",
      "   -2.55808029e-02  -1.13956666e-03  -4.01685378e-04   1.02624378e-03\n",
      "   -3.34828660e-05  -8.75834875e-03  -2.51565145e-03  -1.74018490e-03\n",
      "   -1.68410504e-02  -1.08924333e-04   6.42019653e-04  -1.54443930e-04\n",
      "   -8.29238064e-03  -3.03040875e-04  -6.82760580e-05  -5.43073965e-05\n",
      "   -1.65292814e-04   4.73835018e-05  -2.57423452e-05  -5.28493201e-03\n",
      "    9.27346334e-03   1.37800394e-03   5.15175845e-04   8.75606849e-05\n",
      "    9.20906885e-01   3.51310932e-05   3.82132905e-01  -1.00990269e-04\n",
      "   -4.92280927e-05  -4.65650112e-05  -5.13341129e-05   5.58646081e-05\n",
      "   -1.85350660e-03  -1.40697167e-03   1.26118293e-02  -3.82679963e-03\n",
      "   -4.33017711e-03  -2.17419378e-03   6.07001065e-02  -4.34139269e-04\n",
      "    0.00000000e+00]]\n",
      "\n",
      "Semana 2\n",
      "Número estimado de clusters: 7\n"
     ]
    },
    {
     "data": {
      "image/png": "[encoded data removed]",
      "text/plain": [
       "<matplotlib.figure.Figure at 0x7f319398b2d0>"
      ]
     },
     "metadata": {},
     "output_type": "display_data"
    },
    {
     "name": "stdout",
     "output_type": "stream",
     "text": [
      "[[  3.78496955e-01   1.14656068e-02   5.34843614e-03   1.66952133e-04\n",
      "    2.50471973e-03   1.37676641e-03   9.05743757e-01   8.63292381e-03\n",
      "    1.75968380e-02  -4.62290198e-05  -6.68924455e-06  -4.61028644e-05\n",
      "    7.34218712e-05   6.43745320e-03   3.19375885e-03   5.00137737e-04\n",
      "    7.39547347e-03   2.71141247e-06  -1.16270146e-04  -1.09733746e-04\n",
      "    4.88801243e-03   6.14217302e-04   4.41421202e-05   5.52657227e-06\n",
      "   -1.92203096e-04  -4.13090607e-06   1.86516333e-05   1.52322438e-03\n",
      "    1.14338110e-02   2.20376131e-05  -1.41848795e-04   1.13762762e-05\n",
      "   -1.33860850e-02   3.54362700e-06  -1.52751239e-02   1.07432217e-03\n",
      "    7.47867300e-05   5.71488735e-05   2.94599832e-04   1.42128851e-05\n",
      "    1.48932724e-03   2.60394047e-03   1.87263630e-01   4.17827033e-03\n",
      "    4.46177037e-03   3.64321177e-03   1.18301960e-03   3.06429967e-03\n",
      "    0.00000000e+00]\n",
      " [  2.34168742e-02  -7.21820169e-03  -4.63254843e-03  -9.59818370e-05\n",
      "    9.36047475e-03  -6.85174581e-05   8.42299990e-03  -5.01327372e-03\n",
      "   -2.55808029e-02  -1.13956666e-03  -4.01685378e-04   1.02624378e-03\n",
      "   -3.34828660e-05  -8.75834875e-03  -2.51565145e-03  -1.74018490e-03\n",
      "   -1.68410504e-02  -1.08924333e-04   6.42019653e-04  -1.54443930e-04\n",
      "   -8.29238064e-03  -3.03040875e-04  -6.82760580e-05  -5.43073965e-05\n",
      "   -1.65292814e-04   4.73835018e-05  -2.57423452e-05  -5.28493201e-03\n",
      "    9.27346334e-03   1.37800394e-03   5.15175845e-04   8.75606849e-05\n",
      "    9.20906885e-01   3.51310932e-05   3.82132905e-01  -1.00990269e-04\n",
      "   -4.92280927e-05  -4.65650112e-05  -5.13341129e-05   5.58646081e-05\n",
      "   -1.85350660e-03  -1.40697167e-03   1.26118293e-02  -3.82679963e-03\n",
      "   -4.33017711e-03  -2.17419378e-03   6.07001065e-02  -4.34139269e-04\n",
      "    0.00000000e+00]]\n",
      "\n",
      "Semana 3\n"
     ]
    },
    {
     "ename": "KeyboardInterrupt",
     "evalue": "",
     "output_type": "error",
     "traceback": [
      "\u001b[1;31m---------------------------------------------------------------------------\u001b[0m",
      "\u001b[1;31mKeyboardInterrupt\u001b[0m                         Traceback (most recent call last)",
      "\u001b[1;32m<ipython-input-79-ad8e511c41ba>\u001b[0m in \u001b[0;36m<module>\u001b[1;34m()\u001b[0m\n\u001b[0;32m     13\u001b[0m \u001b[1;33m\u001b[0m\u001b[0m\n\u001b[0;32m     14\u001b[0m     \u001b[1;31m# Ajustamos las características\u001b[0m\u001b[1;33m\u001b[0m\u001b[1;33m\u001b[0m\u001b[0m\n\u001b[1;32m---> 15\u001b[1;33m     \u001b[0mms\u001b[0m\u001b[1;33m.\u001b[0m\u001b[0mfit\u001b[0m\u001b[1;33m(\u001b[0m\u001b[0mfeat\u001b[0m\u001b[1;33m[\u001b[0m\u001b[0msem\u001b[0m\u001b[1;33m]\u001b[0m\u001b[1;33m)\u001b[0m\u001b[1;33m\u001b[0m\u001b[0m\n\u001b[0m\u001b[0;32m     16\u001b[0m     \u001b[0mlabels\u001b[0m \u001b[1;33m=\u001b[0m \u001b[0mms\u001b[0m\u001b[1;33m.\u001b[0m\u001b[0mlabels_\u001b[0m\u001b[1;33m\u001b[0m\u001b[0m\n\u001b[0;32m     17\u001b[0m     \u001b[0mcluster_centers\u001b[0m \u001b[1;33m=\u001b[0m \u001b[0mms\u001b[0m\u001b[1;33m.\u001b[0m\u001b[0mcluster_centers_\u001b[0m\u001b[1;33m\u001b[0m\u001b[0m\n",
      "\u001b[1;32m/home/researcher/anaconda2/lib/python2.7/site-packages/sklearn/cluster/mean_shift_.pyc\u001b[0m in \u001b[0;36mfit\u001b[1;34m(self, X, y)\u001b[0m\n\u001b[0;32m    389\u001b[0m                        \u001b[0mmin_bin_freq\u001b[0m\u001b[1;33m=\u001b[0m\u001b[0mself\u001b[0m\u001b[1;33m.\u001b[0m\u001b[0mmin_bin_freq\u001b[0m\u001b[1;33m,\u001b[0m\u001b[1;33m\u001b[0m\u001b[0m\n\u001b[0;32m    390\u001b[0m                        \u001b[0mbin_seeding\u001b[0m\u001b[1;33m=\u001b[0m\u001b[0mself\u001b[0m\u001b[1;33m.\u001b[0m\u001b[0mbin_seeding\u001b[0m\u001b[1;33m,\u001b[0m\u001b[1;33m\u001b[0m\u001b[0m\n\u001b[1;32m--> 391\u001b[1;33m                        cluster_all=self.cluster_all, n_jobs=self.n_jobs)\n\u001b[0m\u001b[0;32m    392\u001b[0m         \u001b[1;32mreturn\u001b[0m \u001b[0mself\u001b[0m\u001b[1;33m\u001b[0m\u001b[0m\n\u001b[0;32m    393\u001b[0m \u001b[1;33m\u001b[0m\u001b[0m\n",
      "\u001b[1;32m/home/researcher/anaconda2/lib/python2.7/site-packages/sklearn/cluster/mean_shift_.pyc\u001b[0m in \u001b[0;36mmean_shift\u001b[1;34m(X, bandwidth, seeds, bin_seeding, min_bin_freq, cluster_all, max_iter, max_iterations, n_jobs)\u001b[0m\n\u001b[0;32m    173\u001b[0m \u001b[1;33m\u001b[0m\u001b[0m\n\u001b[0;32m    174\u001b[0m     \u001b[1;32mif\u001b[0m \u001b[0mbandwidth\u001b[0m \u001b[1;32mis\u001b[0m \u001b[0mNone\u001b[0m\u001b[1;33m:\u001b[0m\u001b[1;33m\u001b[0m\u001b[0m\n\u001b[1;32m--> 175\u001b[1;33m         \u001b[0mbandwidth\u001b[0m \u001b[1;33m=\u001b[0m \u001b[0mestimate_bandwidth\u001b[0m\u001b[1;33m(\u001b[0m\u001b[0mX\u001b[0m\u001b[1;33m)\u001b[0m\u001b[1;33m\u001b[0m\u001b[0m\n\u001b[0m\u001b[0;32m    176\u001b[0m     \u001b[1;32melif\u001b[0m \u001b[0mbandwidth\u001b[0m \u001b[1;33m<=\u001b[0m \u001b[1;36m0\u001b[0m\u001b[1;33m:\u001b[0m\u001b[1;33m\u001b[0m\u001b[0m\n\u001b[0;32m    177\u001b[0m         raise ValueError(\"bandwidth needs to be greater than zero or None,\\\n",
      "\u001b[1;32m/home/researcher/anaconda2/lib/python2.7/site-packages/sklearn/cluster/mean_shift_.pyc\u001b[0m in \u001b[0;36mestimate_bandwidth\u001b[1;34m(X, quantile, n_samples, random_state)\u001b[0m\n\u001b[0;32m     64\u001b[0m     \u001b[0mbandwidth\u001b[0m \u001b[1;33m=\u001b[0m \u001b[1;36m0.\u001b[0m\u001b[1;33m\u001b[0m\u001b[0m\n\u001b[0;32m     65\u001b[0m     \u001b[1;32mfor\u001b[0m \u001b[0mbatch\u001b[0m \u001b[1;32min\u001b[0m \u001b[0mgen_batches\u001b[0m\u001b[1;33m(\u001b[0m\u001b[0mlen\u001b[0m\u001b[1;33m(\u001b[0m\u001b[0mX\u001b[0m\u001b[1;33m)\u001b[0m\u001b[1;33m,\u001b[0m \u001b[1;36m500\u001b[0m\u001b[1;33m)\u001b[0m\u001b[1;33m:\u001b[0m\u001b[1;33m\u001b[0m\u001b[0m\n\u001b[1;32m---> 66\u001b[1;33m         \u001b[0md\u001b[0m\u001b[1;33m,\u001b[0m \u001b[0m_\u001b[0m \u001b[1;33m=\u001b[0m \u001b[0mnbrs\u001b[0m\u001b[1;33m.\u001b[0m\u001b[0mkneighbors\u001b[0m\u001b[1;33m(\u001b[0m\u001b[0mX\u001b[0m\u001b[1;33m[\u001b[0m\u001b[0mbatch\u001b[0m\u001b[1;33m,\u001b[0m \u001b[1;33m:\u001b[0m\u001b[1;33m]\u001b[0m\u001b[1;33m,\u001b[0m \u001b[0mreturn_distance\u001b[0m\u001b[1;33m=\u001b[0m\u001b[0mTrue\u001b[0m\u001b[1;33m)\u001b[0m\u001b[1;33m\u001b[0m\u001b[0m\n\u001b[0m\u001b[0;32m     67\u001b[0m         \u001b[0mbandwidth\u001b[0m \u001b[1;33m+=\u001b[0m \u001b[0mnp\u001b[0m\u001b[1;33m.\u001b[0m\u001b[0mmax\u001b[0m\u001b[1;33m(\u001b[0m\u001b[0md\u001b[0m\u001b[1;33m,\u001b[0m \u001b[0maxis\u001b[0m\u001b[1;33m=\u001b[0m\u001b[1;36m1\u001b[0m\u001b[1;33m)\u001b[0m\u001b[1;33m.\u001b[0m\u001b[0msum\u001b[0m\u001b[1;33m(\u001b[0m\u001b[1;33m)\u001b[0m\u001b[1;33m\u001b[0m\u001b[0m\n\u001b[0;32m     68\u001b[0m \u001b[1;33m\u001b[0m\u001b[0m\n",
      "\u001b[1;32m/home/researcher/anaconda2/lib/python2.7/site-packages/sklearn/neighbors/base.pyc\u001b[0m in \u001b[0;36mkneighbors\u001b[1;34m(self, X, n_neighbors, return_distance)\u001b[0m\n\u001b[0;32m    397\u001b[0m                 delayed(self._tree.query, check_pickle=False)(\n\u001b[0;32m    398\u001b[0m                     X[s], n_neighbors, return_distance)\n\u001b[1;32m--> 399\u001b[1;33m                 \u001b[1;32mfor\u001b[0m \u001b[0ms\u001b[0m \u001b[1;32min\u001b[0m \u001b[0mgen_even_slices\u001b[0m\u001b[1;33m(\u001b[0m\u001b[0mX\u001b[0m\u001b[1;33m.\u001b[0m\u001b[0mshape\u001b[0m\u001b[1;33m[\u001b[0m\u001b[1;36m0\u001b[0m\u001b[1;33m]\u001b[0m\u001b[1;33m,\u001b[0m \u001b[0mn_jobs\u001b[0m\u001b[1;33m)\u001b[0m\u001b[1;33m\u001b[0m\u001b[0m\n\u001b[0m\u001b[0;32m    400\u001b[0m             )\n\u001b[0;32m    401\u001b[0m             \u001b[1;32mif\u001b[0m \u001b[0mreturn_distance\u001b[0m\u001b[1;33m:\u001b[0m\u001b[1;33m\u001b[0m\u001b[0m\n",
      "\u001b[1;32m/home/researcher/anaconda2/lib/python2.7/site-packages/sklearn/externals/joblib/parallel.pyc\u001b[0m in \u001b[0;36m__call__\u001b[1;34m(self, iterable)\u001b[0m\n\u001b[0;32m    798\u001b[0m             \u001b[1;31m# was dispatched. In particular this covers the edge\u001b[0m\u001b[1;33m\u001b[0m\u001b[1;33m\u001b[0m\u001b[0m\n\u001b[0;32m    799\u001b[0m             \u001b[1;31m# case of Parallel used with an exhausted iterator.\u001b[0m\u001b[1;33m\u001b[0m\u001b[1;33m\u001b[0m\u001b[0m\n\u001b[1;32m--> 800\u001b[1;33m             \u001b[1;32mwhile\u001b[0m \u001b[0mself\u001b[0m\u001b[1;33m.\u001b[0m\u001b[0mdispatch_one_batch\u001b[0m\u001b[1;33m(\u001b[0m\u001b[0miterator\u001b[0m\u001b[1;33m)\u001b[0m\u001b[1;33m:\u001b[0m\u001b[1;33m\u001b[0m\u001b[0m\n\u001b[0m\u001b[0;32m    801\u001b[0m                 \u001b[0mself\u001b[0m\u001b[1;33m.\u001b[0m\u001b[0m_iterating\u001b[0m \u001b[1;33m=\u001b[0m \u001b[0mTrue\u001b[0m\u001b[1;33m\u001b[0m\u001b[0m\n\u001b[0;32m    802\u001b[0m             \u001b[1;32melse\u001b[0m\u001b[1;33m:\u001b[0m\u001b[1;33m\u001b[0m\u001b[0m\n",
      "\u001b[1;32m/home/researcher/anaconda2/lib/python2.7/site-packages/sklearn/externals/joblib/parallel.pyc\u001b[0m in \u001b[0;36mdispatch_one_batch\u001b[1;34m(self, iterator)\u001b[0m\n\u001b[0;32m    656\u001b[0m                 \u001b[1;32mreturn\u001b[0m \u001b[0mFalse\u001b[0m\u001b[1;33m\u001b[0m\u001b[0m\n\u001b[0;32m    657\u001b[0m             \u001b[1;32melse\u001b[0m\u001b[1;33m:\u001b[0m\u001b[1;33m\u001b[0m\u001b[0m\n\u001b[1;32m--> 658\u001b[1;33m                 \u001b[0mself\u001b[0m\u001b[1;33m.\u001b[0m\u001b[0m_dispatch\u001b[0m\u001b[1;33m(\u001b[0m\u001b[0mtasks\u001b[0m\u001b[1;33m)\u001b[0m\u001b[1;33m\u001b[0m\u001b[0m\n\u001b[0m\u001b[0;32m    659\u001b[0m                 \u001b[1;32mreturn\u001b[0m \u001b[0mTrue\u001b[0m\u001b[1;33m\u001b[0m\u001b[0m\n\u001b[0;32m    660\u001b[0m \u001b[1;33m\u001b[0m\u001b[0m\n",
      "\u001b[1;32m/home/researcher/anaconda2/lib/python2.7/site-packages/sklearn/externals/joblib/parallel.pyc\u001b[0m in \u001b[0;36m_dispatch\u001b[1;34m(self, batch)\u001b[0m\n\u001b[0;32m    564\u001b[0m \u001b[1;33m\u001b[0m\u001b[0m\n\u001b[0;32m    565\u001b[0m         \u001b[1;32mif\u001b[0m \u001b[0mself\u001b[0m\u001b[1;33m.\u001b[0m\u001b[0m_pool\u001b[0m \u001b[1;32mis\u001b[0m \u001b[0mNone\u001b[0m\u001b[1;33m:\u001b[0m\u001b[1;33m\u001b[0m\u001b[0m\n\u001b[1;32m--> 566\u001b[1;33m             \u001b[0mjob\u001b[0m \u001b[1;33m=\u001b[0m \u001b[0mImmediateComputeBatch\u001b[0m\u001b[1;33m(\u001b[0m\u001b[0mbatch\u001b[0m\u001b[1;33m)\u001b[0m\u001b[1;33m\u001b[0m\u001b[0m\n\u001b[0m\u001b[0;32m    567\u001b[0m             \u001b[0mself\u001b[0m\u001b[1;33m.\u001b[0m\u001b[0m_jobs\u001b[0m\u001b[1;33m.\u001b[0m\u001b[0mappend\u001b[0m\u001b[1;33m(\u001b[0m\u001b[0mjob\u001b[0m\u001b[1;33m)\u001b[0m\u001b[1;33m\u001b[0m\u001b[0m\n\u001b[0;32m    568\u001b[0m             \u001b[0mself\u001b[0m\u001b[1;33m.\u001b[0m\u001b[0mn_dispatched_batches\u001b[0m \u001b[1;33m+=\u001b[0m \u001b[1;36m1\u001b[0m\u001b[1;33m\u001b[0m\u001b[0m\n",
      "\u001b[1;32m/home/researcher/anaconda2/lib/python2.7/site-packages/sklearn/externals/joblib/parallel.pyc\u001b[0m in \u001b[0;36m__init__\u001b[1;34m(self, batch)\u001b[0m\n\u001b[0;32m    178\u001b[0m         \u001b[1;31m# Don't delay the application, to avoid keeping the input\u001b[0m\u001b[1;33m\u001b[0m\u001b[1;33m\u001b[0m\u001b[0m\n\u001b[0;32m    179\u001b[0m         \u001b[1;31m# arguments in memory\u001b[0m\u001b[1;33m\u001b[0m\u001b[1;33m\u001b[0m\u001b[0m\n\u001b[1;32m--> 180\u001b[1;33m         \u001b[0mself\u001b[0m\u001b[1;33m.\u001b[0m\u001b[0mresults\u001b[0m \u001b[1;33m=\u001b[0m \u001b[0mbatch\u001b[0m\u001b[1;33m(\u001b[0m\u001b[1;33m)\u001b[0m\u001b[1;33m\u001b[0m\u001b[0m\n\u001b[0m\u001b[0;32m    181\u001b[0m \u001b[1;33m\u001b[0m\u001b[0m\n\u001b[0;32m    182\u001b[0m     \u001b[1;32mdef\u001b[0m \u001b[0mget\u001b[0m\u001b[1;33m(\u001b[0m\u001b[0mself\u001b[0m\u001b[1;33m)\u001b[0m\u001b[1;33m:\u001b[0m\u001b[1;33m\u001b[0m\u001b[0m\n",
      "\u001b[1;32m/home/researcher/anaconda2/lib/python2.7/site-packages/sklearn/externals/joblib/parallel.pyc\u001b[0m in \u001b[0;36m__call__\u001b[1;34m(self)\u001b[0m\n\u001b[0;32m     70\u001b[0m \u001b[1;33m\u001b[0m\u001b[0m\n\u001b[0;32m     71\u001b[0m     \u001b[1;32mdef\u001b[0m \u001b[0m__call__\u001b[0m\u001b[1;33m(\u001b[0m\u001b[0mself\u001b[0m\u001b[1;33m)\u001b[0m\u001b[1;33m:\u001b[0m\u001b[1;33m\u001b[0m\u001b[0m\n\u001b[1;32m---> 72\u001b[1;33m         \u001b[1;32mreturn\u001b[0m \u001b[1;33m[\u001b[0m\u001b[0mfunc\u001b[0m\u001b[1;33m(\u001b[0m\u001b[1;33m*\u001b[0m\u001b[0margs\u001b[0m\u001b[1;33m,\u001b[0m \u001b[1;33m**\u001b[0m\u001b[0mkwargs\u001b[0m\u001b[1;33m)\u001b[0m \u001b[1;32mfor\u001b[0m \u001b[0mfunc\u001b[0m\u001b[1;33m,\u001b[0m \u001b[0margs\u001b[0m\u001b[1;33m,\u001b[0m \u001b[0mkwargs\u001b[0m \u001b[1;32min\u001b[0m \u001b[0mself\u001b[0m\u001b[1;33m.\u001b[0m\u001b[0mitems\u001b[0m\u001b[1;33m]\u001b[0m\u001b[1;33m\u001b[0m\u001b[0m\n\u001b[0m\u001b[0;32m     73\u001b[0m \u001b[1;33m\u001b[0m\u001b[0m\n\u001b[0;32m     74\u001b[0m     \u001b[1;32mdef\u001b[0m \u001b[0m__len__\u001b[0m\u001b[1;33m(\u001b[0m\u001b[0mself\u001b[0m\u001b[1;33m)\u001b[0m\u001b[1;33m:\u001b[0m\u001b[1;33m\u001b[0m\u001b[0m\n",
      "\u001b[1;31mKeyboardInterrupt\u001b[0m: "
     ]
    }
   ],
   "source": [
    "# Si se quiere guardar el experimento, creamos un diccionario para el experimento.\n",
    "if Guardar_fichero:\n",
    "    Expdic = {\n",
    "        \"Nombre\": codigo_experimento,\n",
    "        \"nClusters\": []}\n",
    "\n",
    "# Creamos un MeanShift\n",
    "ms = MeanShift()\n",
    "\n",
    "# Iteramos por semana\n",
    "for sem in range(0,len(feat)):\n",
    "    print \"Semana\",sem+1\n",
    "    \n",
    "    # Ajustamos las características\n",
    "    ms.fit(feat[sem])\n",
    "    labels = ms.labels_\n",
    "    cluster_centers = ms.cluster_centers_\n",
    "    n_clusters = len(np.unique(labels))\n",
    "    print \"Número estimado de clusters:\", n_clusters\n",
    "    \n",
    "    # Si queremos guardar el experimento, añadimos a la lista de clusters\n",
    "    if Guardar_fichero:\n",
    "        Expdic[\"nClusters\"].append(n_clusters)\n",
    "    \n",
    "    # Si queremos mostrar y la dimensionalidad lo permite, representamos.\n",
    "    if Show_MSClusters:\n",
    "        \n",
    "        # Representación en 2D\n",
    "        if len(feat[sem][0]) == 2:\n",
    "            X=feat[sem]\n",
    "            for i in range(0, n_clusters):\n",
    "                plt.scatter(X[labels==i,0], X[labels==i,1], color=colors[i], s=10, zorder=10)\n",
    "            plt.scatter(cluster_centers[:,0],cluster_centers[:,1],\n",
    "                        marker=\"x\",color='k', s=150, linewidths = 5, zorder=10)\n",
    "            plt.show()\n",
    "            \n",
    "        # Representación en 3D\n",
    "        elif len(feat[sem][0]) == 3:\n",
    "            fig = plt.figure()\n",
    "            ax = fig.add_subplot(111, projection='3d')\n",
    "            X=feat[sem]\n",
    "            for i in range(0, n_clusters):\n",
    "                ax.scatter(X[labels==i,0], X[labels==i,1], X[labels==i,2], color=colors[i], s=10, zorder=10)\n",
    "            ax.scatter(cluster_centers[:,0],cluster_centers[:,1], cluster_centers[:,2],\n",
    "                        marker=\"x\", color='k', s=150, linewidths = 5, zorder=10)\n",
    "            plt.show()\n",
    "    print"
   ]
  },
  {
   "cell_type": "code",
   "execution_count": 76,
   "metadata": {
    "collapsed": false
   },
   "outputs": [],
   "source": [
    "# Si queremos guardar en el fichero\n",
    "if Guardar_fichero:\n",
    "    savedic = {}\n",
    "    # Si existe, escribimos a continuación\n",
    "    try:\n",
    "        with open(nombre_fichero_guardar,\"r\") as fg:\n",
    "            for line in fg:\n",
    "                data_in = json.loads(line)\n",
    "                savedic[data_in[\"Nombre\"]] = data_in[\"nClusters\"]\n",
    "        fg.close()\n",
    "    except:\n",
    "        print \"Creando fichero nuevo... \"\n",
    "        \n",
    "    savedic[Expdic[\"Nombre\"]] = Expdic[\"nClusters\"]\n",
    "    \n",
    "    # Guardamos en el fichero\n",
    "    with open(nombre_fichero_guardar,\"w\") as fg:\n",
    "        for code in savedic:\n",
    "            auxDic = {\n",
    "                \"Nombre\": code,\n",
    "                \"nClusters\": savedic[code]}\n",
    "            json.dump(auxDic, fg)\n",
    "            fg.write('\\n')\n",
    "    fg.close()\n",
    "    print \"¡Resultados guardados!\""
   ]
  },
  {
   "cell_type": "code",
   "execution_count": null,
   "metadata": {
    "collapsed": true
   },
   "outputs": [],
   "source": []
  },
  {
   "cell_type": "code",
   "execution_count": null,
   "metadata": {
    "collapsed": true
   },
   "outputs": [],
   "source": []
  }
 ],
 "metadata": {
  "kernelspec": {
   "display_name": "Python 2",
   "language": "python",
   "name": "python2"
  },
  "language_info": {
   "codemirror_mode": {
    "name": "ipython",
    "version": 2
   },
   "file_extension": ".py",
   "mimetype": "text/x-python",
   "name": "python",
   "nbconvert_exporter": "python",
   "pygments_lexer": "ipython2",
   "version": "2.7.13"
  }
 },
 "nbformat": 4,
 "nbformat_minor": 0
}
