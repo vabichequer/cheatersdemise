{
 "cells": [
  {
   "cell_type": "markdown",
   "metadata": {},
   "source": [
    "<a name=\"Inicio\"></a>\n",
    "# Data Analysis\n",
    "\n",
    "#### Autor: *Ángel Pérez Lemonche*\n",
    "\n",
    "\n",
    "## Descripción general\n",
    "\n",
    "Este script utiliza las matrices de transición generadas en \"Learning Paths with General *bricks*\" con el fin de analizar el contenido de los datos para tomar futuras decisiones. Se puede realizar el mismo proceso utilizando **vectores de frecuencias**, normalizando por el número total de transiciones por semanas."
   ]
  },
  {
   "cell_type": "code",
   "execution_count": null,
   "metadata": {
    "collapsed": true
   },
   "outputs": [],
   "source": []
  },
  {
   "cell_type": "markdown",
   "metadata": {},
   "source": [
    "### Importación de librerías y declaración de funciones"
   ]
  },
  {
   "cell_type": "code",
   "execution_count": 34,
   "metadata": {
    "collapsed": true
   },
   "outputs": [],
   "source": [
    "# Librerías generales\n",
    "import numpy as np\n",
    "import pandas as pd\n",
    "import time\n",
    "\n",
    "import sys\n",
    "sys.path.insert(0, './lib/')\n",
    "\n",
    "import imp\n",
    "import myfunclib as mf\n",
    "import auxiliares as ax\n",
    "import transiciones as tr\n",
    "import myValFunctions as vf\n",
    "import myClusteringFunctions as cf\n",
    "\n",
    "\n",
    "# Librerías propias\n",
    "mf = imp.reload(mf)\n",
    "ax = imp.reload(ax)\n",
    "tr = imp.reload(tr)\n",
    "\n",
    "vf = imp.reload(vf)\n",
    "cf = imp.reload(cf)\n",
    "\n",
    "\n",
    "pd.set_option('display.max_columns', 30)\n",
    "from IPython.core.display import display, HTML, clear_output\n",
    "\n",
    "# Librerías ML\n",
    "from sklearn.cluster import KMeans\n",
    "\n",
    "# Gráficos\n",
    "import matplotlib.pyplot as plt\n",
    "%matplotlib inline\n",
    "\n",
    "from matplotlib import style\n",
    "#style.use(\"ggplot\")\n",
    "plt.rcParams[\"figure.figsize\"] = [5,5]"
   ]
  },
  {
   "cell_type": "code",
   "execution_count": null,
   "metadata": {
    "collapsed": true
   },
   "outputs": [],
   "source": []
  },
  {
   "cell_type": "markdown",
   "metadata": {
    "collapsed": true
   },
   "source": [
    "Cargamos el fichero de entrada"
   ]
  },
  {
   "cell_type": "code",
   "execution_count": 2,
   "metadata": {
    "collapsed": true
   },
   "outputs": [],
   "source": [
    "# Diccionario semana\n",
    "\n",
    "from datetime import datetime\n",
    "\n",
    "### EDICION 1 ##\n",
    "\n",
    "sem1 = datetime(2015,2,24)\n",
    "sem2 = datetime(2015,3,3)\n",
    "sem3 = datetime(2015,3,10)\n",
    "sem4 = datetime(2015,3,17)\n",
    "sem5 = datetime(2015,3,24)\n",
    "sem6 = datetime(2015,3,31)\n",
    "sem7 = datetime(2015,4,7)\n",
    "sem8 = datetime(2015,4,14)\n",
    "\n",
    "\"\"\"\n",
    "###EDICION 2 ##\n",
    "\n",
    "sem1 = datetime(2015,10,5)\n",
    "sem2 = datetime(2015,10,12)\n",
    "sem3 = datetime(2015,10,19)\n",
    "sem4 = datetime(2015,10,26)\n",
    "sem5 = datetime(2015,11,2)\n",
    "sem6 = datetime(2015,11,9)\n",
    "sem7 = datetime(2015,11,16)\n",
    "sem8 = datetime(2015,11,23)\n",
    "\"\"\"\n",
    "\n",
    "SEM = {\"Week1\": [sem1, sem2],\n",
    "       \"Week2\": [sem2, sem3],\n",
    "       \"Week3\": [sem3, sem4],\n",
    "       \"Week4\": [sem4, sem5],\n",
    "       \"Week5\": [sem5, sem6],\n",
    "       \"Week6\": [sem6, sem7]}"
   ]
  },
  {
   "cell_type": "code",
   "execution_count": 28,
   "metadata": {},
   "outputs": [
    {
     "name": "stdout",
     "output_type": "stream",
     "text": [
      "Tamaño: 7171\n",
      "                                             Eventos  Usuario\n",
      "0  [{'evento': 'play_video', 'tiempo': '2015-02-2...         \n",
      "1  [{'evento': 'load_video', 'tiempo': '2015-02-2...  6139738\n",
      "2  [{'evento': 'load_video', 'tiempo': '2015-02-2...  6445710\n",
      "3  [{'id_documento': '2.1. La primera interfaz de...  6594737\n",
      "4  [{'evento': 'load_video', 'tiempo': '2015-02-2...  6451715\n",
      "5  [{'evento': 'load_video', 'tiempo': '2015-02-2...  4594216\n",
      "6  [{'id_documento': '1.1. El entorno de desarrol...  2507090\n",
      "7  [{'evento': 'load_video', 'tiempo': '2015-02-2...  5619682\n",
      "8  [{'evento': 'load_video', 'tiempo': '2015-03-2...  6757226\n",
      "9  [{'evento': 'load_video', 'tiempo': '2015-03-1...  6695320\n"
     ]
    }
   ],
   "source": [
    "# Cargamos el fichero de trabajo\n",
    "filename = \"files/eventos_final.json\"\n",
    "\n",
    "eventsDFRaw = ax.readDataFile(filename)\n",
    "eventsDFRawT = eventsDFRaw[eventsDFRaw['Usuario'] != '']\n",
    "print(\"Tamaño:\",len(eventsDFRaw))\n",
    "print(eventsDFRaw.head(10))\n"
   ]
  },
  {
   "cell_type": "code",
   "execution_count": 37,
   "metadata": {
    "collapsed": true
   },
   "outputs": [],
   "source": [
    "eventsDFRaw = eventsDFRawT"
   ]
  },
  {
   "cell_type": "code",
   "execution_count": 38,
   "metadata": {},
   "outputs": [
    {
     "name": "stdout",
     "output_type": "stream",
     "text": [
      "Tamaño: 3138\n",
      "                                              Eventos  Usuario\n",
      "1   [{'evento': 'load_video', 'tiempo': '2015-02-2...  6139738\n",
      "2   [{'evento': 'load_video', 'tiempo': '2015-02-2...  6445710\n",
      "4   [{'evento': 'load_video', 'tiempo': '2015-02-2...  6451715\n",
      "6   [{'id_documento': '1.1. El entorno de desarrol...  2507090\n",
      "8   [{'evento': 'load_video', 'tiempo': '2015-03-2...  6757226\n",
      "10  [{'id_documento': '1.1. El entorno de desarrol...  6424889\n",
      "15  [{'evento': 'load_video', 'tiempo': '2015-02-2...  6446854\n",
      "16  [{'evento': 'load_video', 'tiempo': '2015-02-2...  6407163\n",
      "17  [{'evento': 'load_video', 'tiempo': '2015-02-2...   458399\n",
      "22  [{'evento': 'load_video', 'tiempo': '2015-02-2...  6539632\n"
     ]
    }
   ],
   "source": [
    "# Filtrado por usuario: eliminamos los que hayan realizado\n",
    "#  menos de 50 eventos en el curso\n",
    "minEvents = 50\n",
    "\n",
    "eventsDF = ax.dataFiltering(eventsDFRaw, minEvents);\n",
    "print(\"Tamaño:\",len(eventsDF))   \n",
    "print(eventsDF.head(10))"
   ]
  },
  {
   "cell_type": "code",
   "execution_count": 39,
   "metadata": {},
   "outputs": [
    {
     "name": "stdout",
     "output_type": "stream",
     "text": [
      "4.22 minutos.\n"
     ]
    }
   ],
   "source": [
    "# Transiciones x semana\n",
    "dicEvents = {\n",
    "    'V' : ['play_video', 'seek_video'],\n",
    "    'N' : ['problem_check'],\n",
    "    'F' : ['edx.forum.searched', 'edx.forum.comment.created', \n",
    "           'edx.forum.response.created', 'edx.forum.thread.created'],\n",
    "    'P' : ['openassessmentblock.self_assess'],\n",
    "    'D' : ['textbook.pdf.chapter.navigated']\n",
    "}\n",
    "\n",
    "param = {'dicEvents': dicEvents,\n",
    "         'assignationProblemCheckFile': 'IDNaturalProblemasEd1.csv',\n",
    "         'ProblemCheckExceptions': ['J','X'],\n",
    "         'pausaMin' : 10,\n",
    "         'useFreq': False}\n",
    "\n",
    "\n",
    "startTotal = time.time()\n",
    "transitionsDF = tr.Transitions(eventsDF, param)\n",
    "print(\"%.2f\"%((time.time() - startTotal)/60), 'minutos.')"
   ]
  },
  {
   "cell_type": "code",
   "execution_count": 40,
   "metadata": {
    "collapsed": true
   },
   "outputs": [],
   "source": [
    "transitionsDF.set_index('Usuario', inplace = True)"
   ]
  },
  {
   "cell_type": "code",
   "execution_count": 41,
   "metadata": {
    "collapsed": true
   },
   "outputs": [],
   "source": [
    "#transitionsDF.to_csv('Transitionsdf.csv')"
   ]
  },
  {
   "cell_type": "markdown",
   "metadata": {},
   "source": [
    "Reducción de dimensionalidad"
   ]
  },
  {
   "cell_type": "code",
   "execution_count": 42,
   "metadata": {
    "collapsed": true,
    "scrolled": true
   },
   "outputs": [],
   "source": [
    "# Selección de características\n",
    "\n",
    "def MinMaxNorm(series):\n",
    "    minim = series.min()\n",
    "    maxim = series.max()\n",
    "    return (series-minim)/(maxim-minim)\n",
    "\n",
    "def TotalNorm(series):\n",
    "    return series/series.sum()\n",
    "\n",
    "def ZNorm(series):\n",
    "    mean = series.mean()\n",
    "    std = series.std()\n",
    "    return (series-mean)/std\n",
    "\n",
    "def featFrequency(featuresDF, info = .95, Normalize = None, Use_Rest = True, verbose = 1):\n",
    "    import pandas as pd\n",
    "    featDF = featuresDF.copy()\n",
    "    returnDF = featuresDF.copy()\n",
    "\n",
    "    if Normalize != None:\n",
    "        featDF = featDF.apply(lambda x: Normalize(x), axis=0)\n",
    "    \n",
    "    suma = featDF.sum(axis=0)\n",
    "    perinfo = (abs(suma)/abs(suma).sum()).sort_values(ascending=False)\n",
    "    cumsum = perinfo.cumsum()\n",
    "\n",
    "    featInfo = pd.concat([perinfo, cumsum], axis = 1)\n",
    "    featInfo.columns = ['percentage', 'cumsum']\n",
    "    featInfo['selection'] = (featInfo['cumsum'] < info)\n",
    "\n",
    "    returnDF = returnDF[featInfo.index[featInfo.selection]]\n",
    "\n",
    "    if Use_Rest:\n",
    "        returnDF['Rest'] = featuresDF[featInfo.index[featInfo.selection == False]].sum(axis=1)\n",
    "    \n",
    "    if verbose > 0:\n",
    "        print('From',len(featuresDF.columns),'to',len(returnDF.columns), 'selected features.')\n",
    "        if verbose == 2:\n",
    "            pd.options.display.float_format = '{:,.2f}%'.format\n",
    "            toPrint = featInfo[['percentage','cumsum']].apply(lambda x: x*100)\n",
    "            toPrint['selection'] = featInfo.selection\n",
    "            display(toPrint)\n",
    "    \n",
    "    return returnDF, list(featInfo.index[featInfo.selection])"
   ]
  },
  {
   "cell_type": "code",
   "execution_count": 43,
   "metadata": {},
   "outputs": [
    {
     "name": "stdout",
     "output_type": "stream",
     "text": [
      "From 48 to 18 selected features.\n"
     ]
    },
    {
     "data": {
      "text/html": [
       "<div>\n",
       "<style>\n",
       "    .dataframe thead tr:only-child th {\n",
       "        text-align: right;\n",
       "    }\n",
       "\n",
       "    .dataframe thead th {\n",
       "        text-align: left;\n",
       "    }\n",
       "\n",
       "    .dataframe tbody tr th {\n",
       "        vertical-align: top;\n",
       "    }\n",
       "</style>\n",
       "<table border=\"1\" class=\"dataframe\">\n",
       "  <thead>\n",
       "    <tr style=\"text-align: right;\">\n",
       "      <th></th>\n",
       "      <th>percentage</th>\n",
       "      <th>cumsum</th>\n",
       "      <th>selection</th>\n",
       "    </tr>\n",
       "  </thead>\n",
       "  <tbody>\n",
       "    <tr>\n",
       "      <th>A-&gt;A</th>\n",
       "      <td>15.64%</td>\n",
       "      <td>15.64%</td>\n",
       "      <td>True</td>\n",
       "    </tr>\n",
       "    <tr>\n",
       "      <th>E-&gt;E</th>\n",
       "      <td>12.48%</td>\n",
       "      <td>28.12%</td>\n",
       "      <td>True</td>\n",
       "    </tr>\n",
       "    <tr>\n",
       "      <th>S-&gt;V</th>\n",
       "      <td>9.28%</td>\n",
       "      <td>37.40%</td>\n",
       "      <td>True</td>\n",
       "    </tr>\n",
       "    <tr>\n",
       "      <th>V-&gt;E</th>\n",
       "      <td>8.68%</td>\n",
       "      <td>46.08%</td>\n",
       "      <td>True</td>\n",
       "    </tr>\n",
       "    <tr>\n",
       "      <th>V-&gt;S</th>\n",
       "      <td>8.37%</td>\n",
       "      <td>54.45%</td>\n",
       "      <td>True</td>\n",
       "    </tr>\n",
       "    <tr>\n",
       "      <th>D-&gt;D</th>\n",
       "      <td>7.36%</td>\n",
       "      <td>61.81%</td>\n",
       "      <td>True</td>\n",
       "    </tr>\n",
       "    <tr>\n",
       "      <th>E-&gt;V</th>\n",
       "      <td>6.95%</td>\n",
       "      <td>68.76%</td>\n",
       "      <td>True</td>\n",
       "    </tr>\n",
       "    <tr>\n",
       "      <th>V-&gt;V</th>\n",
       "      <td>6.05%</td>\n",
       "      <td>74.81%</td>\n",
       "      <td>True</td>\n",
       "    </tr>\n",
       "    <tr>\n",
       "      <th>A-&gt;S</th>\n",
       "      <td>3.96%</td>\n",
       "      <td>78.77%</td>\n",
       "      <td>True</td>\n",
       "    </tr>\n",
       "    <tr>\n",
       "      <th>S-&gt;A</th>\n",
       "      <td>3.75%</td>\n",
       "      <td>82.52%</td>\n",
       "      <td>True</td>\n",
       "    </tr>\n",
       "    <tr>\n",
       "      <th>E-&gt;S</th>\n",
       "      <td>2.78%</td>\n",
       "      <td>85.31%</td>\n",
       "      <td>True</td>\n",
       "    </tr>\n",
       "    <tr>\n",
       "      <th>D-&gt;S</th>\n",
       "      <td>2.49%</td>\n",
       "      <td>87.79%</td>\n",
       "      <td>True</td>\n",
       "    </tr>\n",
       "    <tr>\n",
       "      <th>S-&gt;D</th>\n",
       "      <td>2.19%</td>\n",
       "      <td>89.99%</td>\n",
       "      <td>True</td>\n",
       "    </tr>\n",
       "    <tr>\n",
       "      <th>S-&gt;E</th>\n",
       "      <td>1.38%</td>\n",
       "      <td>91.36%</td>\n",
       "      <td>True</td>\n",
       "    </tr>\n",
       "    <tr>\n",
       "      <th>F-&gt;S</th>\n",
       "      <td>1.07%</td>\n",
       "      <td>92.43%</td>\n",
       "      <td>True</td>\n",
       "    </tr>\n",
       "    <tr>\n",
       "      <th>S-&gt;F</th>\n",
       "      <td>1.03%</td>\n",
       "      <td>93.46%</td>\n",
       "      <td>True</td>\n",
       "    </tr>\n",
       "    <tr>\n",
       "      <th>F-&gt;F</th>\n",
       "      <td>0.91%</td>\n",
       "      <td>94.37%</td>\n",
       "      <td>True</td>\n",
       "    </tr>\n",
       "    <tr>\n",
       "      <th>S-&gt;P</th>\n",
       "      <td>0.71%</td>\n",
       "      <td>95.08%</td>\n",
       "      <td>False</td>\n",
       "    </tr>\n",
       "    <tr>\n",
       "      <th>P-&gt;S</th>\n",
       "      <td>0.65%</td>\n",
       "      <td>95.73%</td>\n",
       "      <td>False</td>\n",
       "    </tr>\n",
       "    <tr>\n",
       "      <th>D-&gt;V</th>\n",
       "      <td>0.61%</td>\n",
       "      <td>96.34%</td>\n",
       "      <td>False</td>\n",
       "    </tr>\n",
       "    <tr>\n",
       "      <th>V-&gt;A</th>\n",
       "      <td>0.58%</td>\n",
       "      <td>96.92%</td>\n",
       "      <td>False</td>\n",
       "    </tr>\n",
       "    <tr>\n",
       "      <th>A-&gt;V</th>\n",
       "      <td>0.58%</td>\n",
       "      <td>97.50%</td>\n",
       "      <td>False</td>\n",
       "    </tr>\n",
       "    <tr>\n",
       "      <th>V-&gt;D</th>\n",
       "      <td>0.47%</td>\n",
       "      <td>97.97%</td>\n",
       "      <td>False</td>\n",
       "    </tr>\n",
       "    <tr>\n",
       "      <th>E-&gt;A</th>\n",
       "      <td>0.36%</td>\n",
       "      <td>98.33%</td>\n",
       "      <td>False</td>\n",
       "    </tr>\n",
       "    <tr>\n",
       "      <th>E-&gt;D</th>\n",
       "      <td>0.21%</td>\n",
       "      <td>98.54%</td>\n",
       "      <td>False</td>\n",
       "    </tr>\n",
       "    <tr>\n",
       "      <th>D-&gt;E</th>\n",
       "      <td>0.18%</td>\n",
       "      <td>98.73%</td>\n",
       "      <td>False</td>\n",
       "    </tr>\n",
       "    <tr>\n",
       "      <th>A-&gt;D</th>\n",
       "      <td>0.16%</td>\n",
       "      <td>98.89%</td>\n",
       "      <td>False</td>\n",
       "    </tr>\n",
       "    <tr>\n",
       "      <th>D-&gt;A</th>\n",
       "      <td>0.14%</td>\n",
       "      <td>99.03%</td>\n",
       "      <td>False</td>\n",
       "    </tr>\n",
       "    <tr>\n",
       "      <th>F-&gt;V</th>\n",
       "      <td>0.13%</td>\n",
       "      <td>99.16%</td>\n",
       "      <td>False</td>\n",
       "    </tr>\n",
       "    <tr>\n",
       "      <th>V-&gt;F</th>\n",
       "      <td>0.13%</td>\n",
       "      <td>99.29%</td>\n",
       "      <td>False</td>\n",
       "    </tr>\n",
       "    <tr>\n",
       "      <th>P-&gt;V</th>\n",
       "      <td>0.12%</td>\n",
       "      <td>99.41%</td>\n",
       "      <td>False</td>\n",
       "    </tr>\n",
       "    <tr>\n",
       "      <th>A-&gt;F</th>\n",
       "      <td>0.09%</td>\n",
       "      <td>99.50%</td>\n",
       "      <td>False</td>\n",
       "    </tr>\n",
       "    <tr>\n",
       "      <th>A-&gt;P</th>\n",
       "      <td>0.09%</td>\n",
       "      <td>99.59%</td>\n",
       "      <td>False</td>\n",
       "    </tr>\n",
       "    <tr>\n",
       "      <th>F-&gt;A</th>\n",
       "      <td>0.08%</td>\n",
       "      <td>99.67%</td>\n",
       "      <td>False</td>\n",
       "    </tr>\n",
       "    <tr>\n",
       "      <th>A-&gt;E</th>\n",
       "      <td>0.06%</td>\n",
       "      <td>99.73%</td>\n",
       "      <td>False</td>\n",
       "    </tr>\n",
       "    <tr>\n",
       "      <th>F-&gt;D</th>\n",
       "      <td>0.04%</td>\n",
       "      <td>99.78%</td>\n",
       "      <td>False</td>\n",
       "    </tr>\n",
       "    <tr>\n",
       "      <th>D-&gt;F</th>\n",
       "      <td>0.04%</td>\n",
       "      <td>99.82%</td>\n",
       "      <td>False</td>\n",
       "    </tr>\n",
       "    <tr>\n",
       "      <th>E-&gt;F</th>\n",
       "      <td>0.04%</td>\n",
       "      <td>99.86%</td>\n",
       "      <td>False</td>\n",
       "    </tr>\n",
       "    <tr>\n",
       "      <th>F-&gt;E</th>\n",
       "      <td>0.02%</td>\n",
       "      <td>99.88%</td>\n",
       "      <td>False</td>\n",
       "    </tr>\n",
       "    <tr>\n",
       "      <th>V-&gt;P</th>\n",
       "      <td>0.02%</td>\n",
       "      <td>99.89%</td>\n",
       "      <td>False</td>\n",
       "    </tr>\n",
       "    <tr>\n",
       "      <th>P-&gt;D</th>\n",
       "      <td>0.02%</td>\n",
       "      <td>99.91%</td>\n",
       "      <td>False</td>\n",
       "    </tr>\n",
       "    <tr>\n",
       "      <th>P-&gt;E</th>\n",
       "      <td>0.02%</td>\n",
       "      <td>99.93%</td>\n",
       "      <td>False</td>\n",
       "    </tr>\n",
       "    <tr>\n",
       "      <th>P-&gt;P</th>\n",
       "      <td>0.02%</td>\n",
       "      <td>99.95%</td>\n",
       "      <td>False</td>\n",
       "    </tr>\n",
       "    <tr>\n",
       "      <th>P-&gt;F</th>\n",
       "      <td>0.01%</td>\n",
       "      <td>99.96%</td>\n",
       "      <td>False</td>\n",
       "    </tr>\n",
       "    <tr>\n",
       "      <th>F-&gt;P</th>\n",
       "      <td>0.01%</td>\n",
       "      <td>99.98%</td>\n",
       "      <td>False</td>\n",
       "    </tr>\n",
       "    <tr>\n",
       "      <th>P-&gt;A</th>\n",
       "      <td>0.01%</td>\n",
       "      <td>99.99%</td>\n",
       "      <td>False</td>\n",
       "    </tr>\n",
       "    <tr>\n",
       "      <th>E-&gt;P</th>\n",
       "      <td>0.01%</td>\n",
       "      <td>100.00%</td>\n",
       "      <td>False</td>\n",
       "    </tr>\n",
       "    <tr>\n",
       "      <th>D-&gt;P</th>\n",
       "      <td>0.00%</td>\n",
       "      <td>100.00%</td>\n",
       "      <td>False</td>\n",
       "    </tr>\n",
       "  </tbody>\n",
       "</table>\n",
       "</div>"
      ],
      "text/plain": [
       "      percentage  cumsum  selection\n",
       "A->A      15.64%  15.64%       True\n",
       "E->E      12.48%  28.12%       True\n",
       "S->V       9.28%  37.40%       True\n",
       "V->E       8.68%  46.08%       True\n",
       "V->S       8.37%  54.45%       True\n",
       "D->D       7.36%  61.81%       True\n",
       "E->V       6.95%  68.76%       True\n",
       "V->V       6.05%  74.81%       True\n",
       "A->S       3.96%  78.77%       True\n",
       "S->A       3.75%  82.52%       True\n",
       "E->S       2.78%  85.31%       True\n",
       "D->S       2.49%  87.79%       True\n",
       "S->D       2.19%  89.99%       True\n",
       "S->E       1.38%  91.36%       True\n",
       "F->S       1.07%  92.43%       True\n",
       "S->F       1.03%  93.46%       True\n",
       "F->F       0.91%  94.37%       True\n",
       "S->P       0.71%  95.08%      False\n",
       "P->S       0.65%  95.73%      False\n",
       "D->V       0.61%  96.34%      False\n",
       "V->A       0.58%  96.92%      False\n",
       "A->V       0.58%  97.50%      False\n",
       "V->D       0.47%  97.97%      False\n",
       "E->A       0.36%  98.33%      False\n",
       "E->D       0.21%  98.54%      False\n",
       "D->E       0.18%  98.73%      False\n",
       "A->D       0.16%  98.89%      False\n",
       "D->A       0.14%  99.03%      False\n",
       "F->V       0.13%  99.16%      False\n",
       "V->F       0.13%  99.29%      False\n",
       "P->V       0.12%  99.41%      False\n",
       "A->F       0.09%  99.50%      False\n",
       "A->P       0.09%  99.59%      False\n",
       "F->A       0.08%  99.67%      False\n",
       "A->E       0.06%  99.73%      False\n",
       "F->D       0.04%  99.78%      False\n",
       "D->F       0.04%  99.82%      False\n",
       "E->F       0.04%  99.86%      False\n",
       "F->E       0.02%  99.88%      False\n",
       "V->P       0.02%  99.89%      False\n",
       "P->D       0.02%  99.91%      False\n",
       "P->E       0.02%  99.93%      False\n",
       "P->P       0.02%  99.95%      False\n",
       "P->F       0.01%  99.96%      False\n",
       "F->P       0.01%  99.98%      False\n",
       "P->A       0.01%  99.99%      False\n",
       "E->P       0.01% 100.00%      False\n",
       "D->P       0.00% 100.00%      False"
      ]
     },
     "metadata": {},
     "output_type": "display_data"
    }
   ],
   "source": [
    "featuresDF, _ = featFrequency(transitionsDF, info = .95, verbose = 2)"
   ]
  },
  {
   "cell_type": "markdown",
   "metadata": {},
   "source": [
    "### Validación"
   ]
  },
  {
   "cell_type": "code",
   "execution_count": 44,
   "metadata": {
    "collapsed": true
   },
   "outputs": [],
   "source": [
    "nClusters = 10\n",
    "seed = 206\n",
    "nRepetitions = 1000\n",
    "computeClusterValidation = True\n",
    "plt.rcParams[\"figure.figsize\"] = [5,3]"
   ]
  },
  {
   "cell_type": "code",
   "execution_count": null,
   "metadata": {},
   "outputs": [
    {
     "data": {
      "image/png": "[encoded data removed]",
      "text/plain": [
       "<matplotlib.figure.Figure at 0x7f762cbe0f98>"
      ]
     },
     "metadata": {},
     "output_type": "display_data"
    },
    {
     "data": {
      "image/png": "[encoded data removed]",
      "text/plain": [
       "<matplotlib.figure.Figure at 0x7f7662a7b748>"
      ]
     },
     "metadata": {},
     "output_type": "display_data"
    }
   ],
   "source": [
    "if computeClusterValidation:\n",
    "    av, st = vf.interClusterDistKMeans(featuresDF, nClusters = nClusters, nRandomStates = nRepetitions, \n",
    "                                    seed = seed, plot = True)"
   ]
  },
  {
   "cell_type": "code",
   "execution_count": null,
   "metadata": {
    "collapsed": true
   },
   "outputs": [],
   "source": [
    "if computeClusterValidation:\n",
    "    av, st = vf.BICCriterionKMeans(featuresDF, nClusters = nClusters, nRandomStates = nRepetitions, \n",
    "                                    seed = seed, plot = True)"
   ]
  },
  {
   "cell_type": "code",
   "execution_count": null,
   "metadata": {
    "collapsed": true
   },
   "outputs": [],
   "source": [
    "if computeClusterValidation:\n",
    "    av, st = vf.closestCentroidDistKMeans(featuresDF, nClusters = nClusters, nInit = nRepetitions, \n",
    "                                    seed = seed, plot = True)"
   ]
  },
  {
   "cell_type": "code",
   "execution_count": null,
   "metadata": {
    "collapsed": true
   },
   "outputs": [],
   "source": [
    "if computeClusterValidation:\n",
    "    plt.figure(figsize=(6,9))\n",
    "    av, st = vf.silhouetteKMeans(featuresDF, nClusters = nClusters, nInit = nRepetitions, \n",
    "                                    seed = seed, plot = True)"
   ]
  },
  {
   "cell_type": "code",
   "execution_count": null,
   "metadata": {
    "collapsed": true
   },
   "outputs": [],
   "source": []
  },
  {
   "cell_type": "code",
   "execution_count": null,
   "metadata": {
    "collapsed": true
   },
   "outputs": [],
   "source": [
    "# EVALUATE THE PARAMETERS OF THE MODEL\n",
    "\n",
    "from sklearn.cluster import KMeans\n",
    "model = KMeans()\n",
    "\n",
    "param_grid = {\n",
    "    'n_clusters' : [6],\n",
    "    'algorithm' : ['auto', 'full'],\n",
    "    'init' : ['k-means++', 'random'],\n",
    "    'n_init' : [20],\n",
    "    'max_iter' : [200, 300],\n",
    "    'random_state' : [None]\n",
    "}\n",
    "\n",
    "ParametersEvaluation = False\n",
    "\n",
    "if ParametersEvaluation:\n",
    "    nkFolds = 50\n",
    "    scores, parameters, _ = vf.DeepCrossValidationClustering(featuresDF, 'KMeans', model, param_grid, kfold=nkFolds)\n",
    "\n",
    "    print('\\nEVALUATION\\n')\n",
    "\n",
    "    vf.evaluateResults(scores, parameters)"
   ]
  },
  {
   "cell_type": "code",
   "execution_count": null,
   "metadata": {},
   "outputs": [],
   "source": [
    "nInitializations = 500\n",
    "nPartitions = 500\n",
    "test_size = .20\n",
    "\n",
    "model.set_params(n_clusters = 6, algorithm = 'auto', init = 'random', max_iter = 200, n_init = 20)"
   ]
  },
  {
   "cell_type": "code",
   "execution_count": null,
   "metadata": {},
   "outputs": [],
   "source": [
    "model4 = model.set_params(n_clusters = 6)\n",
    "\n",
    "model4, bestSeed4, results4 = vf.InitializationSeed(featuresDF, model4, test_size = test_size, seed = seed,\n",
    "                                nRandomStates = nInitializations, CrossVal = nPartitions)\n",
    "print('Seed:', bestSeed4)"
   ]
  },
  {
   "cell_type": "code",
   "execution_count": null,
   "metadata": {
    "collapsed": true
   },
   "outputs": [],
   "source": [
    "model = vf.CreatePartitionAndFitSelectedModel(featuresDF, model4, test_size, bestSeed4[0], bestSeed4[1])\n",
    "labels = model.predict(featuresDF)\n",
    "centers = model.cluster_centers_"
   ]
  },
  {
   "cell_type": "code",
   "execution_count": null,
   "metadata": {},
   "outputs": [],
   "source": [
    "cf.plotCentroids(centers, labels, featuresDF.columns, sort = [], avg = False, matrix = True, textThreshold = -.01)"
   ]
  },
  {
   "cell_type": "code",
   "execution_count": null,
   "metadata": {
    "collapsed": true
   },
   "outputs": [],
   "source": [
    "alpha = 10**-1"
   ]
  },
  {
   "cell_type": "code",
   "execution_count": null,
   "metadata": {},
   "outputs": [],
   "source": [
    "DP, DC = vf.checkClusterPositions(featuresDF, model4, test_size, results4, alpha)\n",
    "_ =[print(\"%d%%\"%(x[0]*100),x[1],x[2],'\\n') for x in DP if (x[0]*100)>2]\n",
    "\n",
    "DC"
   ]
  },
  {
   "cell_type": "code",
   "execution_count": null,
   "metadata": {
    "collapsed": true
   },
   "outputs": [],
   "source": []
  },
  {
   "cell_type": "code",
   "execution_count": null,
   "metadata": {
    "collapsed": true
   },
   "outputs": [],
   "source": []
  }
 ],
 "metadata": {
  "anaconda-cloud": {},
  "kernelspec": {
   "display_name": "Python 3",
   "language": "python",
   "name": "python3"
  },
  "language_info": {
   "codemirror_mode": {
    "name": "ipython",
    "version": 3
   },
   "file_extension": ".py",
   "mimetype": "text/x-python",
   "name": "python",
   "nbconvert_exporter": "python",
   "pygments_lexer": "ipython3",
   "version": "3.6.3"
  }
 },
 "nbformat": 4,
 "nbformat_minor": 1
}
