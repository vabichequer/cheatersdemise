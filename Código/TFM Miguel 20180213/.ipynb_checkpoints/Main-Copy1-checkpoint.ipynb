{
 "cells": [
  {
   "cell_type": "code",
   "execution_count": 2,
   "metadata": {
    "collapsed": true
   },
   "outputs": [],
   "source": [
    "from PIPEProcessing import *\n",
    "from PIPETransitions import *\n",
    "from PIPEGFeatures import *\n",
    "from PIPEAux import *\n",
    "from PIPETarget import *"
   ]
  },
  {
   "cell_type": "code",
   "execution_count": 71,
   "metadata": {
    "collapsed": true
   },
   "outputs": [],
   "source": [
    "dataFilename = 'eventos_final.json'\n",
    "dictFilename = 'dateDictEd1.json'\n",
    "assignationProblemCheckFile = './IDNaturalProblemasEd1.csv'"
   ]
  },
  {
   "cell_type": "code",
   "execution_count": 72,
   "metadata": {},
   "outputs": [],
   "source": [
    "dateDict = loadDateDict(dictFilename)\n",
    "del dateDict['Week7']"
   ]
  },
  {
   "cell_type": "markdown",
   "metadata": {},
   "source": [
    "### Carga y filtrado de datos"
   ]
  },
  {
   "cell_type": "code",
   "execution_count": 5,
   "metadata": {},
   "outputs": [
    {
     "name": "stdout",
     "output_type": "stream",
     "text": [
      "Loaded users: 7170\n",
      " - Time: 4.99 [s]\n",
      "Users after filtering: 3138\n",
      " - Time: 0.00 [s]\n",
      "Filtered by time\n",
      " - Time: 8.96 [s]\n",
      "Ed1 - Users after filtering: 3052\n"
     ]
    }
   ],
   "source": [
    "eventsDF, eventsWeek = Preprocessing(filename, minTotalUserEvents = 50, dateDict = dateDict)"
   ]
  },
  {
   "cell_type": "markdown",
   "metadata": {},
   "source": [
    "### Extracción de características generales"
   ]
  },
  {
   "cell_type": "code",
   "execution_count": 7,
   "metadata": {},
   "outputs": [
    {
     "name": "stdout",
     "output_type": "stream",
     "text": [
      "Number of events per week\n",
      " - Time: 0.00 [s]\n",
      "Number of video events per week\n",
      " - Time: 4.33 [s]\n",
      "Number of project events per week\n",
      " - Time: 3.55 [s]\n",
      "Number of document events per week\n",
      " - Time: 3.54 [s]\n",
      "Number of forum events per week\n",
      " - Time: 3.45 [s]\n",
      "Number of problem events per week\n",
      " - Time: 4.60 [s]\n",
      "Number of video-exercise events per week\n",
      " - Time: 6.69 [s]\n",
      "Number of activity events per week\n",
      " - Time: 5.93 [s]\n",
      "Number of correct problems per week\n",
      " - Time: 34.37 [s]\n",
      "Number of problem attepts per week\n",
      " - Time: 5.31 [s]\n",
      "Project points per week\n",
      " - Time: 4.87 [s]\n",
      "Number of forum words per week\n",
      " - Time: 4.32 [s]\n",
      "Java self-evaluation correct in course\n",
      " - Time: 11.19 [s]\n",
      "Finished!\n"
     ]
    }
   ],
   "source": [
    "featWeek, featGlobal = GeneralFeatures(eventsDF, eventsWeek, assignationProblemCheckFile)"
   ]
  },
  {
   "cell_type": "markdown",
   "metadata": {},
   "source": [
    "### Extracción de Transiciones"
   ]
  },
  {
   "cell_type": "code",
   "execution_count": 8,
   "metadata": {},
   "outputs": [
    {
     "name": "stdout",
     "output_type": "stream",
     "text": [
      "Transitions per week\n",
      " - Time: 166.57 [s]\n"
     ]
    }
   ],
   "source": [
    "# Transiciones x semana\n",
    "dicEvents = {\n",
    "    'V' : ['play_video', 'seek_video'],\n",
    "    'N' : ['problem_check'],\n",
    "    'F' : ['edx.forum.searched', 'edx.forum.comment.created', \n",
    "           'edx.forum.response.created', 'edx.forum.thread.created'],\n",
    "    'P' : ['openassessmentblock.self_assess'],\n",
    "    'D' : ['textbook.pdf.chapter.navigated']\n",
    "}\n",
    "\n",
    "param = {'dicEvents': dicEvents,\n",
    "         'assignationProblemCheckFile': assignationProblemCheckFile,\n",
    "         'ProblemCheckExceptions': ['J','X'],\n",
    "         'pausaMin' : 0,\n",
    "         'useFreq': True}\n",
    "\n",
    "transitions = TransitionFeatures(eventsWeek, param)"
   ]
  },
  {
   "cell_type": "code",
   "execution_count": null,
   "metadata": {
    "collapsed": true
   },
   "outputs": [],
   "source": []
  },
  {
   "cell_type": "markdown",
   "metadata": {},
   "source": [
    "**AQUI VAN LAS CARACTAERISTICAS DE LOS PROBLEMAS DEL TFG DE MIGUEL**"
   ]
  },
  {
   "cell_type": "markdown",
   "metadata": {},
   "source": [
    "**En primer lugar hay que recorrer el dataframe inicial con todos los problemas para ver cada problema cuantos ejercicios tiene, lo incluiremos en un diccionario.** \n",
    "\n",
    "**ATENCIÓN ESTO YA NO HACE FALTA HACERLO YA QUE LO CARGAMOS DE UN FICHERO CON EL ID DEL PROBLEMA Y SU NUMERO DE EJERCICIOS!!!!!\n",
    "**"
   ]
  },
  {
   "cell_type": "code",
   "execution_count": null,
   "metadata": {
    "collapsed": true
   },
   "outputs": [],
   "source": [
    "import pandas as pd\n",
    "def countNumberEj(row,dictNumEj):\n",
    "    \n",
    "    if int(row['id_natural']) in dictNumEj:\n",
    "        return dictNumEj;\n",
    "    \n",
    "    else:\n",
    "        dictNumEj[int(row['id_natural'])] = int(row['num_ejercicios'])\n",
    "        return dictNumEj\n",
    "        \n",
    "    return dictNumEj\n",
    "\n",
    "def countNumberEjByList(listEvents,dictNumEj):\n",
    "    \n",
    "        #Si tenemos lista de eventos vacia devolvemos el diccionario tal y como venia\n",
    "        if listEvents==[]:\n",
    "            return\n",
    "\n",
    "        #Transformamos la lista de eventos a dataframe\n",
    "        df = pd.DataFrame(listEvents)[[\"id_natural\",\"num_ejercicios\"]]\n",
    "        #print(df)\n",
    "        \n",
    "        df.apply(lambda x: countNumberEj(x,dictNumEj), axis=1)\n",
    "        \n",
    "        return\n",
    "    \n",
    "    \n",
    "def createDictByList(eventsDF,dictNumEj):\n",
    "    \n",
    "    eventsDF['Eventos'].apply(lambda x: countNumberEjByList(x,dictNumEj))\n",
    " \n",
    "    return  dictNumEj"
   ]
  },
  {
   "cell_type": "code",
   "execution_count": null,
   "metadata": {
    "collapsed": true
   },
   "outputs": [],
   "source": [
    "\n",
    "listEvents = [\"problem_check\"]\n",
    "dictNumEj = {}\n",
    "\n",
    "problemsAllWeek = eventsFiltering(eventsDF, listEvents)\n",
    "\n",
    "\n",
    "dictNumEj = createDictByList(problemsAllWeek,dictNumEj)\n",
    "print(dictNumEj)\n",
    "\n",
    "\n",
    "\n",
    "#Ya no hace falta hacerlo lo leemos de un fichero."
   ]
  },
  {
   "cell_type": "markdown",
   "metadata": {},
   "source": [
    "#### Cargamos de un fichero el id del problema y el numero de ejercicios en un diccionario"
   ]
  },
  {
   "cell_type": "code",
   "execution_count": null,
   "metadata": {
    "collapsed": true
   },
   "outputs": [],
   "source": [
    "import json\n",
    "\n",
    "#with open('dictNumEj.json', 'w') as fp: #Para guardar el dict de numero\n",
    "       #json.dump(dictNumEj, fp)\n",
    "    \n",
    "#tenemos que tener en cuenta que en la segunda edicion del curso de android tenemos menos problemas tenemos que pasarle el diccionario de la edicion1\n",
    "#con los numEjercicios.\n",
    "\n",
    "with open('dictNumEj.json') as data_file:\n",
    "     dictNumEj = json.load(data_file)\n",
    "        \n",
    "dictNumEj = {int(k):int(v) for k,v in dictNumEj.items()}\n",
    "dictNumEj"
   ]
  },
  {
   "cell_type": "markdown",
   "metadata": {
    "collapsed": true
   },
   "source": [
    "**Funciones auxiliares que necesitamos para las características de los problemas**"
   ]
  },
  {
   "cell_type": "code",
   "execution_count": null,
   "metadata": {
    "collapsed": true
   },
   "outputs": [],
   "source": [
    "#Transforma un diccionario pasado por argumento en un dataframe de una sola fila para unirlo a otro\n",
    "def dictToDataframe(dictToDf):\n",
    "   \n",
    "    \n",
    "    return pd.DataFrame(dictToDf,index=[0,])\n",
    "\n",
    "#Crea un diccionario con numero de intentos a 0 y resultado del problema a -1\n",
    "def createDictByNameProblems(dfProblems):\n",
    "    \n",
    "    dictNamePro = {}\n",
    "    listColumnName = dfProblems.columns\n",
    "    \n",
    "    for name in listColumnName:\n",
    "        \n",
    "        if name.find(\"Intentos\"):\n",
    "            dictNamePro[name] = -1\n",
    "        else:\n",
    "            dictNamePro[name] = 0 \n",
    "    return dictNamePro\n",
    "\n",
    "#Crea un dataframe vacio pero con el nombre de las columnas entre el problema inicial y el final\n",
    "def createDataframeProblems(problemIni,problemFin):\n",
    "    listProblems = []\n",
    "\n",
    "    for numPr in range(problemIni-1,int(problemFin)):\n",
    "\n",
    "        for numEj in range(dictNumEj[numPr+1]):\n",
    "            stringIntentos = \"Intentos_\"+str(numPr+1)+\"_\"+str(numEj+1)\n",
    "            stringPr = \"Problema_\"+str(numPr+1)+\"_\"+str(numEj+1)\n",
    "            listProblems.append(stringIntentos)\n",
    "            listProblems.append(stringPr)\n",
    "\n",
    "    listProblems.insert(0,\"Usuario\")\n",
    "\n",
    "    dfProblems = pd.DataFrame(columns=listProblems)\n",
    "    return dfProblems"
   ]
  },
  {
   "cell_type": "markdown",
   "metadata": {},
   "source": [
    "**Funciones de las características de los problemas**"
   ]
  },
  {
   "cell_type": "code",
   "execution_count": null,
   "metadata": {
    "collapsed": true
   },
   "outputs": [],
   "source": [
    "def countCorrectProblemsByList(listResProblem,dictNamePro):\n",
    "    \n",
    "   \n",
    "    #A veces la lista resultado puede venir vacia por error de edX por lo tanto salimos de la función\n",
    "    if listResProblem[\"resultados\"] == []:\n",
    "        return \n",
    "    \n",
    "    #AQUI HAY QUE RECORRER LOS RESULTADOS MODIFICANDO EL DICCIONARIO\n",
    "    intento = 1\n",
    "    for resultado in listResProblem[\"resultados\"]:\n",
    "        dictNamePro[\"Intentos_\"+listResProblem[\"id_natural\"]+\"_\"+str(intento)]= listResProblem[\"num_intentos\"]\n",
    "        \n",
    "        if resultado[\"correcto\"] == \"True\":\n",
    "            dictNamePro[\"Problema_\"+listResProblem[\"id_natural\"]+\"_\"+str(intento)]= 1\n",
    "        else:\n",
    "            dictNamePro[\"Problema_\"+listResProblem[\"id_natural\"]+\"_\"+str(intento)]= 0\n",
    "\n",
    "        intento = intento+1\n",
    "        \n",
    "    \n",
    "    return dictNamePro\n",
    "    \n",
    "    \n",
    "    \n",
    "def problemsFeaturesByList(row,dictName):\n",
    "    \n",
    "    global dfPro_Empty\n",
    "    \n",
    "   \n",
    "    user =  row[\"Usuario\"]\n",
    "    \n",
    "    dictNamePro = dictName.copy()\n",
    "    dictNamePro[\"Usuario\"]=user\n",
    "    \n",
    "    #Si tenemos lista de eventos vacia no ha hecho problemas asique incluimos 0 y -1 altenativamente\n",
    "    if row[\"Eventos\"]==[]:\n",
    "        rowDf = dictToDataframe(dictNamePro)\n",
    "        dfPro_Empty = dfPro_Empty.append(rowDf)\n",
    "        return\n",
    "         \n",
    "    \n",
    "    df = pd.DataFrame(row[\"Eventos\"])\n",
    "    df.apply(lambda x: countCorrectProblemsByList(x,dictNamePro),axis=1)\n",
    "    \n",
    "    rowDf = dictToDataframe(dictNamePro)\n",
    "    dfPro_Empty = dfPro_Empty.append(rowDf)\n",
    "    \n",
    "    return\n",
    "\n",
    "def problemsFeatures(eventsDF,dictName):\n",
    "    \n",
    "    \n",
    "    eventsDFFiltered = eventsDF.copy()\n",
    "    \n",
    "    eventsDF.apply(lambda row: problemsFeaturesByList(row,dictName),axis=1)\n",
    "    \n",
    "    \n",
    "    return dfPro_Empty"
   ]
  },
  {
   "cell_type": "markdown",
   "metadata": {},
   "source": [
    "#### ESTAS SI SON LAS CARACTERÍSTICAS DEL TFM DE MIGUEL YA QUE SE TIENEN EN CUENTA TODOS LOS PROBLEMAS INDEPENDIENTEMEN DE LA SEMANA A LA QUE PERTENECE EL PROBLEMA"
   ]
  },
  {
   "cell_type": "code",
   "execution_count": null,
   "metadata": {
    "collapsed": true
   },
   "outputs": [],
   "source": [
    "##ESTO ES PARA LOS PROBLEMAS NO ACUMULADOS ES DECIR LOS QUE HA HECHO ESA SEMANA INDEPENDIENTEMENTE DE LA SEMANA A LA QUE\n",
    "## PERTENEZCA EL PROBELMA\n",
    "\n",
    "\n",
    "\n",
    "listEvents = [\"problem_check\"]\n",
    "\n",
    "df_Problems= {} #Angel: AUX\n",
    "df_PrNoAc={} #Final\n",
    "problemsByWeek=[0,47,79,91,109,133,138] #numero del ultimo problema de esa semana\n",
    "indexList = 0\n",
    "\n",
    "for week in sorted(eventsWeek):\n",
    "   \n",
    "    #Filtrar eventos por semana\n",
    "    df_Problems[week] = eventsFiltering(eventsWeek[week], listEvents)\n",
    "    \n",
    "    #Crear dataframe vacio con lista de atributos de los problemas, num_intentos,y resultado del problema\n",
    "    dfPro_Empty = createDataframeProblems(1,problemsByWeek[indexList+1])\n",
    "    \n",
    "    #indice para recorrer la lista anterior con el numero del ultimo problema por semana\n",
    "    indexList = indexList+1\n",
    "    \n",
    "    #Nos guardamos el orden de las columnas para ordenar el dataframe despues\n",
    "    colsOrder = dfPro_Empty.columns\n",
    "    \n",
    "    #Crear diccionario con nombre de las columnas, 0 en numero de intentos y -1 en si es correcto para cada problema\n",
    "    dictName = createDictByNameProblems(dfPro_Empty)\n",
    "    \n",
    "    #Extraemos las caracteristicas de los problemas que se guardan en dfPro_Empty como variable global\n",
    "    problemsFeatures(df_Problems[week],dictName)\n",
    "    \n",
    "    #Resetamos el indice y ordenamos las columnas\n",
    "    dfPro_Empty = dfPro_Empty.reset_index(drop=True)\n",
    "    dfPro_Empty = dfPro_Empty[colsOrder]\n",
    "    \n",
    "    #Copiamos el dfPro_Empty al dataframe Final de los problemas\n",
    "    df_PrNoAc[week]=dfPro_Empty.copy()\n",
    "    df_PrNoAc[week] = df_PrNoAc[week].set_index('Usuario')\n",
    "\n",
    "   \n",
    "    \n",
    "df_PrNoAc"
   ]
  },
  {
   "cell_type": "code",
   "execution_count": null,
   "metadata": {
    "collapsed": true
   },
   "outputs": [],
   "source": []
  },
  {
   "cell_type": "code",
   "execution_count": 9,
   "metadata": {
    "collapsed": true
   },
   "outputs": [],
   "source": [
    "# Compute target\n",
    "target = 'suspect'\n",
    "\n",
    "if 'dropout' in target:\n",
    "    targetDF = computeTarget(target, eventsDF, dateDict)\n",
    "elif target == 'nota':\n",
    "    targetDF = computeTarget('nota', eventsWeek, 'NotaUsuariosEd1.csv')\n",
    "elif target == 'suspect':\n",
    "    targetDF = computeTarget('suspect', eventsWeek, 'UserIDClusterSospechoso.csv')"
   ]
  },
  {
   "cell_type": "code",
   "execution_count": 10,
   "metadata": {
    "collapsed": true
   },
   "outputs": [],
   "source": [
    "# 1 Caracteristicas acumuladas\n",
    "transCum = cummulateFeatures(transitions)\n",
    "featCum = cummulateFeatures(featWeek)\n",
    "#probCum = cummulateFeatures(df_PrNoAc)"
   ]
  },
  {
   "cell_type": "code",
   "execution_count": 11,
   "metadata": {
    "collapsed": true
   },
   "outputs": [],
   "source": [
    "# 2 Combinar caracteristicas semanales, incluido target semanal\n",
    "featWeek = {}\n",
    "for week in featCum:\n",
    "    featWeek[week] = combineFeat([featCum[week], transCum[week], targetDF[week]])"
   ]
  },
  {
   "cell_type": "code",
   "execution_count": 12,
   "metadata": {
    "collapsed": true
   },
   "outputs": [],
   "source": [
    "# 3 Combinar caracteristicas globales\n",
    "featTotal = {}\n",
    "for week in featCum:\n",
    "    featTotal[week] = combineFeat([featWeek[week]]+featGlobal)"
   ]
  },
  {
   "cell_type": "code",
   "execution_count": 13,
   "metadata": {
    "collapsed": true
   },
   "outputs": [],
   "source": [
    "# Preparacion del dataframe para predecir\n",
    "featFinal = ready2Predict(featTotal, target)\n",
    "\n",
    "featFilename = 'Prediccion'+'_'+target\n",
    "\n",
    "dict2CSV(featFilename, featFinal)"
   ]
  },
  {
   "cell_type": "code",
   "execution_count": null,
   "metadata": {
    "collapsed": true
   },
   "outputs": [],
   "source": []
  }
 ],
 "metadata": {
  "kernelspec": {
   "display_name": "Python 3",
   "language": "python",
   "name": "python3"
  },
  "language_info": {
   "codemirror_mode": {
    "name": "ipython",
    "version": 3
   },
   "file_extension": ".py",
   "mimetype": "text/x-python",
   "name": "python",
   "nbconvert_exporter": "python",
   "pygments_lexer": "ipython3",
   "version": "3.6.3"
  }
 },
 "nbformat": 4,
 "nbformat_minor": 2
}
